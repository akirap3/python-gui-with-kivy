{
 "cells": [
  {
   "cell_type": "markdown",
   "metadata": {},
   "source": [
    "## Python GUI's with Kivy"
   ]
  },
  {
   "cell_type": "markdown",
   "metadata": {},
   "source": [
    "Note: \n",
    "1. [影片的網址](https://www.youtube.com/playlist?list=PLCC34OHNcOtpz7PJQ7Tv7hqFBP_xDDjqg)"
   ]
  },
  {
   "cell_type": "markdown",
   "metadata": {},
   "source": [
    "### Intro To Kivy - Installing Kivy on Windows - Python Kivy GUI Tutorial #1"
   ]
  },
  {
   "cell_type": "markdown",
   "metadata": {},
   "source": [
    "- 先到官網查看如何安裝 [Kivy Install](https://kivy.org/doc/stable/gettingstarted/installation.html#install-pip)\n",
    "\n",
    "- 建立資料夾作為 virtual environment 的環境，venv 的好處是可以將你安裝的東西只安裝在此虛擬環境，接著就可以按照文件來安裝 kivy                            "
   ]
  },
  {
   "cell_type": "markdown",
   "metadata": {},
   "source": [
    "![](./images/1_venv.png)"
   ]
  },
  {
   "cell_type": "markdown",
   "metadata": {},
   "source": [
    "![](./images/1_venv_png)"
   ]
  },
  {
   "cell_type": "markdown",
   "metadata": {},
   "source": [
    "![](./images/2_install_kivy.png)"
   ]
  },
  {
   "cell_type": "markdown",
   "metadata": {},
   "source": [
    "![](./images/3_freeze.png)"
   ]
  },
  {
   "cell_type": "markdown",
   "metadata": {},
   "source": [
    "- 寫第一支 app => hello-world.py"
   ]
  },
  {
   "cell_type": "markdown",
   "metadata": {},
   "source": [
    "![](./images/4_hello_world.png)"
   ]
  },
  {
   "cell_type": "code",
   "execution_count": null,
   "metadata": {},
   "outputs": [],
   "source": [
    "import kivy\n",
    "from kivy.app import App\n",
    "from kivy.uix.label import Label\n",
    "\n",
    "class MyApp(App):\n",
    "    def build(self):\n",
    "        return Label(text=\"Hello World\", font_size=72)\n",
    "\n",
    "if __name__ == '__main__':\n",
    "    MyApp().run()"
   ]
  },
  {
   "cell_type": "markdown",
   "metadata": {},
   "source": [
    "### Input Boxes and Buttons - Python Kivy GUI Tutorial #2"
   ]
  },
  {
   "cell_type": "markdown",
   "metadata": {},
   "source": [
    "- To create a demo like this"
   ]
  },
  {
   "cell_type": "markdown",
   "metadata": {},
   "source": [
    "![](./images/5_inputbox_demo.png)"
   ]
  },
  {
   "cell_type": "markdown",
   "metadata": {},
   "source": [
    "- code "
   ]
  },
  {
   "cell_type": "markdown",
   "metadata": {},
   "source": [
    "![](./images/6_inputbox_button_code.png)"
   ]
  },
  {
   "cell_type": "code",
   "execution_count": null,
   "metadata": {},
   "outputs": [],
   "source": [
    "import kivy\n",
    "from kivy.app import App\n",
    "from kivy.uix.label import Label\n",
    "from kivy.uix.gridlayout import GridLayout\n",
    "from kivy.uix.textinput import TextInput\n",
    "from kivy.uix.button import Button\n",
    "\n",
    "class MyGridLayout(GridLayout):\n",
    "\t# Initialize infinite keywords\n",
    "\t# Call grid layout constructor\n",
    "\tdef __init__(self, **kwargs):\n",
    "\t\tsuper(MyGridLayout, self).__init__(**kwargs)\n",
    "\n",
    "\t\t# Set columns\n",
    "\t\tself.cols=2\n",
    "\n",
    "\t\t# Add widgets\n",
    "\t\tself.add_widget(Label(text=\"Name\"))\n",
    "\t\t# Add Input Box\n",
    "\t\tself.name = TextInput(multiline=True)\n",
    "\t\tself.add_widget(self.name)\n",
    "\n",
    "\t\tself.add_widget(Label(text=\"Favorite Pizza\"))\n",
    "\t\tself.pizza = TextInput(multiline=True)\n",
    "\t\tself.add_widget(self.pizza)\n",
    "\n",
    "\t\tself.add_widget(Label(text=\"Favorite Color\"))\n",
    "\t\tself.color = TextInput(multiline=True)\n",
    "\t\tself.add_widget(self.color)\n",
    "\n",
    "\t\t# Create a Submit Button\n",
    "\t\tself.submit = Button(text=\"Submit\", font_size=32)\n",
    "\t\t# Bind the button\n",
    "\t\tself.submit.bind(on_press=self.press)\n",
    "\t\tself.add_widget(self.submit)\n",
    "\n",
    "\tdef press(self, instance):\n",
    "\t\tname = self.name.text\n",
    "\t\tpizza = self.pizza.text\n",
    "\t\tcolor = self.color.text\n",
    "\n",
    "\t\t# print(f'Hello {name}, you like {pizza}, and your favorite color is {color}') \n",
    "\t\t# Print it ot the scren\n",
    "\t\tself.add_widget(Label(text=f'Hello {name}, you like {pizza}, and your favorite color is {color}'))\n",
    "\n",
    "class MyApp(App):\n",
    "\tdef build(self):\n",
    "\t\treturn MyGridLayout()\n",
    "\n",
    "if __name__ == '__main__':\n",
    "\tMyApp().run()\n"
   ]
  },
  {
   "cell_type": "markdown",
   "metadata": {},
   "source": [
    "### Button Column Span Trick! - Python Kivy GUI Tutorial #3"
   ]
  },
  {
   "cell_type": "markdown",
   "metadata": {},
   "source": [
    "- Grid 裡面再放 Grid, 做排版如下:"
   ]
  },
  {
   "cell_type": "markdown",
   "metadata": {},
   "source": [
    "![](./images/7_grid_in_grid.png)"
   ]
  },
  {
   "cell_type": "markdown",
   "metadata": {},
   "source": [
    "- codes (檔案名稱為 input2.py)"
   ]
  },
  {
   "cell_type": "code",
   "execution_count": null,
   "metadata": {},
   "outputs": [],
   "source": [
    "import kivy\n",
    "from kivy.app import App\n",
    "from kivy.uix.label import Label\n",
    "from kivy.uix.gridlayout import GridLayout\n",
    "from kivy.uix.textinput import TextInput\n",
    "from kivy.uix.button import Button\n",
    "\n",
    "class MyGridLayout(GridLayout):\n",
    "\t# Initialize infinite keywords\n",
    "\t# Call grid layout constructor\n",
    "\tdef __init__(self, **kwargs):\n",
    "\t\tsuper(MyGridLayout, self).__init__(**kwargs)\n",
    "\n",
    "\t\t# Set columns\n",
    "\t\tself.cols=1\n",
    "\n",
    "\t\t# Create a second gridlayout\n",
    "\t\tself.top_grid = GridLayout()\n",
    "\t\tself.top_grid.cols=2\n",
    "\n",
    "\t\t# Add widgets\n",
    "\t\tself.top_grid.add_widget(Label(text=\"Name\"))\n",
    "\t\t# Add Input Box\n",
    "\t\tself.name = TextInput(multiline=True)\n",
    "\t\tself.top_grid.add_widget(self.name)\n",
    "\n",
    "\t\tself.top_grid.add_widget(Label(text=\"Favorite Pizza\"))\n",
    "\t\tself.pizza = TextInput(multiline=True)\n",
    "\t\tself.top_grid.add_widget(self.pizza)\n",
    "\n",
    "\t\tself.top_grid.add_widget(Label(text=\"Favorite Color\"))\n",
    "\t\tself.color = TextInput(multiline=True)\n",
    "\t\tself.top_grid.add_widget(self.color)\n",
    "\n",
    "\t\t# Add the new top_grid to our app\n",
    "\t\tself.add_widget(self.top_grid)\n",
    "\n",
    "\t\t# Create a Submit Button\n",
    "\t\tself.submit = Button(text=\"Submit\", font_size=32)\n",
    "\t\t# Bind the button\n",
    "\t\tself.submit.bind(on_press=self.press)\n",
    "\t\tself.add_widget(self.submit)\n",
    "\n",
    "\tdef press(self, instance):\n",
    "\t\tname = self.name.text\n",
    "\t\tpizza = self.pizza.text\n",
    "\t\tcolor = self.color.text\n",
    "\n",
    "\t\tself.name.text = \"\"\n",
    "\t\tself.pizza.text = \"\"\n",
    "\t\tself.color.text = \"\"\n",
    "\n",
    "\t\t# print(f'Hello {name}, you like {pizza}, and your favorite color is {color}') \n",
    "\t\t# Print it ot the scren\n",
    "\t\tself.add_widget(Label(text=f'Hello {name}, you like {pizza}, and your favorite color is {color}'))\n",
    "\n",
    "class MyApp(App):\n",
    "\tdef build(self):\n",
    "\t\treturn MyGridLayout()\n",
    "\n",
    "if __name__ == '__main__':\n",
    "\tMyApp().run()\n"
   ]
  },
  {
   "cell_type": "markdown",
   "metadata": {},
   "source": [
    "### How To Set The Height And Width of Widgets - Python Kivy GUI Tutorial #4"
   ]
  },
  {
   "cell_type": "markdown",
   "metadata": {},
   "source": [
    "- 可以在各別的 widget 中設定 height and width，類似如下:"
   ]
  },
  {
   "cell_type": "markdown",
   "metadata": {},
   "source": [
    "![](./images/10_height_and_width_button.png)"
   ]
  },
  {
   "cell_type": "markdown",
   "metadata": {},
   "source": [
    "- 如果要設定 grid 裡面每個 widget 進來時都有預設的 height 及 width，可以設如下"
   ]
  },
  {
   "cell_type": "markdown",
   "metadata": {},
   "source": [
    "![](./images/11_default_height_and_width.png)"
   ]
  },
  {
   "cell_type": "markdown",
   "metadata": {},
   "source": [
    "- codes(檔案為 height-width.py)"
   ]
  },
  {
   "cell_type": "code",
   "execution_count": null,
   "metadata": {},
   "outputs": [],
   "source": [
    "import kivy\n",
    "from kivy.app import App\n",
    "from kivy.uix.label import Label\n",
    "from kivy.uix.gridlayout import GridLayout\n",
    "from kivy.uix.textinput import TextInput\n",
    "from kivy.uix.button import Button\n",
    "\n",
    "class MyGridLayout(GridLayout):\n",
    "\t# Initialize infinite keywords\n",
    "\t# Call grid layout constructor\n",
    "\tdef __init__(self, **kwargs):\n",
    "\t\tsuper(MyGridLayout, self).__init__(**kwargs)\n",
    "\n",
    "\t\t# Set columns\n",
    "\t\t# Set MyGridLayout default height and width\n",
    "\t\tself.cols=1\n",
    "\t\tself.row_force_default=True\n",
    "\t\tself.row_default_height=120\n",
    "\t\tself.col_force_default=True\n",
    "\t\tself.col_default_width=100\n",
    "\n",
    "\t\t# Create a second gridlayout\n",
    "\t\t# Set top_grid default height and width\n",
    "\t\tself.top_grid = GridLayout(\n",
    "\t\t\trow_force_default=True,\n",
    "\t\t\trow_default_height=40,\n",
    "\t\t\tcol_force_default=True,\n",
    "\t\t\tcol_default_width=100)\n",
    "\n",
    "\t\tself.top_grid.cols=2\n",
    "\n",
    "\t\t# Add widgets\n",
    "\t\tself.top_grid.add_widget(Label(text=\"Name\"))\n",
    "\t\t# Add Input Box\n",
    "\t\tself.name = TextInput(multiline=True)\n",
    "\t\tself.top_grid.add_widget(self.name)\n",
    "\n",
    "\t\tself.top_grid.add_widget(Label(text=\"Favorite Pizza\"))\n",
    "\t\tself.pizza = TextInput(multiline=True)\n",
    "\t\tself.top_grid.add_widget(self.pizza)\n",
    "\n",
    "\t\tself.top_grid.add_widget(Label(text=\"Favorite Color\"))\n",
    "\t\tself.color = TextInput(multiline=True)\n",
    "\t\tself.top_grid.add_widget(self.color)\n",
    "\n",
    "\t\t# Add the new top_grid to our app\n",
    "\t\tself.add_widget(self.top_grid)\n",
    "\n",
    "\t\t# Create a Submit Button\n",
    "\t\t# Explicit set height and width\n",
    "\t\tself.submit = Button(text=\"Submit\", \n",
    "\t\t\tfont_size=32,\n",
    "\t\t\tsize_hint_y=None,\n",
    "\t\t\theight=50,\n",
    "\t\t\tsize_hint_x=None,\n",
    "\t\t\twidth=200)\n",
    "\n",
    "\t\t# Bind the button\n",
    "\t\tself.submit.bind(on_press=self.press)\n",
    "\t\tself.add_widget(self.submit)\n",
    "\n",
    "\tdef press(self, instance):\n",
    "\t\tname = self.name.text\n",
    "\t\tpizza = self.pizza.text\n",
    "\t\tcolor = self.color.text\n",
    "\n",
    "\t\tself.name.text = \"\"\n",
    "\t\tself.pizza.text = \"\"\n",
    "\t\tself.color.text = \"\"\n",
    "\n",
    "\t\t# print(f'Hello {name}, you like {pizza}, and your favorite color is {color}') \n",
    "\t\t# Print it ot the scren\n",
    "\t\tself.add_widget(Label(text=f'Hello {name}, you like {pizza}, and your favorite color is {color}'))\n",
    "\n",
    "class MyApp(App):\n",
    "\tdef build(self):\n",
    "\t\treturn MyGridLayout()\n",
    "\n",
    "if __name__ == '__main__':\n",
    "\tMyApp().run()"
   ]
  },
  {
   "cell_type": "markdown",
   "metadata": {},
   "source": [
    "### Kivy Design Language - Python Kivy GUI Tutorial #5"
   ]
  },
  {
   "cell_type": "markdown",
   "metadata": {},
   "source": [
    "- 需要另外串一個檔案名稱為 my.kv，要注意的是如果 class 名稱有 \"APP\" 字眼會報錯，故要去除 => 此範例名稱為 my.kv"
   ]
  },
  {
   "cell_type": "markdown",
   "metadata": {},
   "source": [
    "![](./images/12_kv.png)"
   ]
  },
  {
   "cell_type": "code",
   "execution_count": null,
   "metadata": {},
   "outputs": [],
   "source": [
    "<MyGridLayout>\n",
    "\n",
    "\tname:name\n",
    "\tpizza:pizza\n",
    "\tcolor:color\n",
    "\n",
    "\tGridLayout:\n",
    "\t\tcols:1\n",
    "\t\tsize: root.width, root.height\n",
    "\t\tGridLayout:\n",
    "\t\t\tcols:2\n",
    "\n",
    "\t\t\tLabel:\n",
    "\t\t\t\ttext: 'Name'\n",
    "\t\t\tTextInput:\n",
    "\t\t\t\tid: name\n",
    "\t\t\t\tmultiline: False\n",
    "\n",
    "\t\t\tLabel:\n",
    "\t\t\t\ttext: 'Favorite Pizza'\n",
    "\t\t\tTextInput:\n",
    "\t\t\t\tid: pizza\n",
    "\t\t\t\tmultiline: False\n",
    "\n",
    "\t\t\tLabel:\n",
    "\t\t\t\ttext: 'Favotite Color'\n",
    "\t\t\tTextInput:\n",
    "\t\t\t\tid: color\n",
    "\t\t\t\tmultiline: False\n",
    "\n",
    "\t\tButton:\n",
    "\t\t\ttext: \"Submit\"\n",
    "\t\t\tfont_size:32\n",
    "\t\t\ton_press: root.press()"
   ]
  },
  {
   "cell_type": "markdown",
   "metadata": {},
   "source": [
    "- codes(檔案名稱為 design.py)"
   ]
  },
  {
   "cell_type": "markdown",
   "metadata": {},
   "source": [
    "![](./images/13_design.png)"
   ]
  },
  {
   "cell_type": "code",
   "execution_count": null,
   "metadata": {},
   "outputs": [],
   "source": [
    "import kivy\n",
    "from kivy.app import App\n",
    "from kivy.uix.label import Label\n",
    "from kivy.uix.gridlayout import GridLayout\n",
    "from kivy.uix.textinput import TextInput\n",
    "from kivy.uix.button import Button\n",
    "from kivy.uix.widget import Widget\n",
    "from kivy.properties import ObjectProperty\n",
    "\n",
    "class MyGridLayout(Widget):\n",
    "\n",
    "\tname = ObjectProperty(None)\n",
    "\tpizza = ObjectProperty(None)\n",
    "\tcolor = ObjectProperty(None)\n",
    "\t\n",
    "\tdef press(self):\n",
    "\t\tname = self.name.text\n",
    "\t\tpizza = self.pizza.text\n",
    "\t\tcolor = self.color.text\n",
    "\n",
    "\t\tself.name.text = \"\"\n",
    "\t\tself.pizza.text = \"\"\n",
    "\t\tself.color.text = \"\"\n",
    "\n",
    "\t\tprint(f'Hello {name}, you like {pizza}, and your favorite color is {color}') \n",
    "\t\t# Print it ot the scren\n",
    "\t\t# self.add_widget(Label(text=f'Hello {name}, you like {pizza}, and your favorite color is {color}'))\n",
    "\n",
    "class MyApp(App):\n",
    "\tdef build(self):\n",
    "\t\treturn MyGridLayout()\n",
    "\n",
    "if __name__ == '__main__':\n",
    "\tMyApp().run()\n"
   ]
  },
  {
   "cell_type": "markdown",
   "metadata": {},
   "source": [
    "### The Kivy Builder - Python Kivy GUI Tutorial #6"
   ]
  },
  {
   "cell_type": "markdown",
   "metadata": {},
   "source": [
    "- Builder 可以將需要的 widget 都放在 .kv 檔，這樣可以使主程式看起來很乾淨，我們可以把它看成像 CSS 這樣，將設計與主程式做分離\n",
    "\n",
    "- 使用 builder.load_file(\"檔案名稱.kv\") 是比較推薦的使用方式，另一個使用方式是 build.load_string(\"\"\"這邊放 .kv 檔案內的所有內容\"\"\")，但這樣的方式不推薦，因為會使程式碼看起來比較冗餘"
   ]
  },
  {
   "cell_type": "markdown",
   "metadata": {},
   "source": [
    "- Codes (檔案名稱 builder.py)"
   ]
  },
  {
   "cell_type": "code",
   "execution_count": null,
   "metadata": {},
   "outputs": [],
   "source": [
    "import kivy\n",
    "from kivy.app import App\n",
    "from kivy.uix.widget import Widget\n",
    "from kivy.properties import ObjectProperty\n",
    "from kivy.lang import Builder\n",
    "\n",
    "Builder.load_file('whatever.kv')\n",
    "\n",
    "class MyGridLayout(Widget):\n",
    "\n",
    "\tname = ObjectProperty(None)\n",
    "\tpizza = ObjectProperty(None)\n",
    "\tcolor = ObjectProperty(None)\n",
    "\t\n",
    "\tdef press(self):\n",
    "\t\tname = self.name.text\n",
    "\t\tpizza = self.pizza.text\n",
    "\t\tcolor = self.color.text\n",
    "\n",
    "\t\tself.name.text = \"\"\n",
    "\t\tself.pizza.text = \"\"\n",
    "\t\tself.color.text = \"\"\n",
    "\n",
    "\t\tprint(f'Hello {name}, you like {pizza}, and your favorite color is {color}') \n",
    "\t\t# Print it ot the scren\n",
    "\t\t# self.add_widget(Label(text=f'Hello {name}, you like {pizza}, and your favorite color is {color}'))\n",
    "\n",
    "class AwesomeApp(App):\n",
    "\tdef build(self):\n",
    "\t\treturn MyGridLayout()\n",
    "\n",
    "if __name__ == '__main__':\n",
    "\tAwesomeApp().run()"
   ]
  },
  {
   "cell_type": "markdown",
   "metadata": {},
   "source": [
    "- whatever.kv 檔案內容"
   ]
  },
  {
   "cell_type": "code",
   "execution_count": null,
   "metadata": {},
   "outputs": [],
   "source": [
    "<MyGridLayout>\n",
    "\n",
    "\tname:name\n",
    "\tpizza:pizza\n",
    "\tcolor:color\n",
    "\n",
    "\tGridLayout:\n",
    "\t\tcols:1\n",
    "\t\tsize: root.width, root.height\n",
    "\t\tGridLayout:\n",
    "\t\t\tcols:2\n",
    "\n",
    "\t\t\tLabel:\n",
    "\t\t\t\ttext: 'Name'\n",
    "\t\t\tTextInput:\n",
    "\t\t\t\tid: name\n",
    "\t\t\t\tmultiline: False\n",
    "\n",
    "\t\t\tLabel:\n",
    "\t\t\t\ttext: 'Favorite Pizza'\n",
    "\t\t\tTextInput:\n",
    "\t\t\t\tid: pizza\n",
    "\t\t\t\tmultiline: False\n",
    "\n",
    "\t\t\tLabel:\n",
    "\t\t\t\ttext: 'Favotite Color'\n",
    "\t\t\tTextInput:\n",
    "\t\t\t\tid: color\n",
    "\t\t\t\tmultiline: False\n",
    "\n",
    "\t\tButton:\n",
    "\t\t\ttext: \"Submit\"\n",
    "\t\t\tfont_size:32\n",
    "\t\t\ton_press: root.press()"
   ]
  },
  {
   "cell_type": "markdown",
   "metadata": {},
   "source": [
    "### Changing Kivy Button Colors - Python Kivy GUI Tutorial #7"
   ]
  },
  {
   "cell_type": "markdown",
   "metadata": {},
   "source": [
    "- Code (檔名 color.py)"
   ]
  },
  {
   "cell_type": "code",
   "execution_count": null,
   "metadata": {},
   "outputs": [],
   "source": [
    "import kivy\n",
    "from kivy.app import App\n",
    "from kivy.uix.widget import Widget\n",
    "from kivy.properties import ObjectProperty\n",
    "from kivy.lang import Builder\n",
    "\n",
    "Builder.load_file('color.kv')\n",
    "\n",
    "class MyGridLayout(Widget):\n",
    "\n",
    "\tname = ObjectProperty(None)\n",
    "\tpizza = ObjectProperty(None)\n",
    "\tcolor = ObjectProperty(None)\n",
    "\t\n",
    "\tdef press(self):\n",
    "\t\tname = self.name.text\n",
    "\t\tpizza = self.pizza.text\n",
    "\t\tcolor = self.color.text\n",
    "\n",
    "\t\tself.name.text = \"\"\n",
    "\t\tself.pizza.text = \"\"\n",
    "\t\tself.color.text = \"\"\n",
    "\n",
    "\t\tprint(f'Hello {name}, you like {pizza}, and your favorite color is {color}') \n",
    "\t\t# Print it ot the scren\n",
    "\t\t# self.add_widget(Label(text=f'Hello {name}, you like {pizza}, and your favorite color is {color}'))\n",
    "\n",
    "class AwesomeApp(App):\n",
    "\tdef build(self):\n",
    "\t\treturn MyGridLayout()\n",
    "\n",
    "if __name__ == '__main__':\n",
    "\tAwesomeApp().run()"
   ]
  },
  {
   "cell_type": "markdown",
   "metadata": {},
   "source": [
    "- color.kv 內容"
   ]
  },
  {
   "cell_type": "code",
   "execution_count": null,
   "metadata": {},
   "outputs": [],
   "source": [
    "# 如果要使用色碼的表達方式，則要 import utils kivy.utils\n",
    "#: import utils kivy.utils\n",
    "<MyGridLayout>\n",
    "\n",
    "\tname:name\n",
    "\tpizza:pizza\n",
    "\tcolor:color\n",
    "\n",
    "\tGridLayout:\n",
    "\t\tcols:1\n",
    "\t\tsize: root.width, root.height\n",
    "\t\tGridLayout:\n",
    "\t\t\tcols:2\n",
    "\n",
    "\t\t\tLabel:\n",
    "\t\t\t\ttext: 'Name'\n",
    "\t\t\tTextInput:\n",
    "\t\t\t\tid: name\n",
    "\t\t\t\tmultiline: False\n",
    "\n",
    "\t\t\tLabel:\n",
    "\t\t\t\ttext: 'Favorite Pizza'\n",
    "\t\t\tTextInput:\n",
    "\t\t\t\tid: pizza\n",
    "\t\t\t\tmultiline: False\n",
    "\n",
    "\t\t\tLabel:\n",
    "\t\t\t\ttext: 'Favotite Color'\n",
    "\t\t\tTextInput:\n",
    "\t\t\t\tid: color\n",
    "\t\t\t\tmultiline: False\n",
    "\n",
    "\t\tButton:\n",
    "\t\t\ttext: \"Submit\"\n",
    "\t\t\tfont_size:32\n",
    "\t\t\ton_press: root.press()\n",
    "\n",
    "\t\t\t# 使顏色呈現方式正常，不然kivy 會將顏色都混成該色較深的顏色\n",
    "\t\t\tbackground_normal: ''\n",
    "\n",
    "\t\t\t# 如果我們使用 rgb(72,189,185)，由於kivy 的數值只有 0 ~ 1, 所以要除以 255.0 確保浮點數\n",
    "\t\t\t#background_color: (72/255.0,189/255.0, 185/255.0, 1)\n",
    "\n",
    "\t\t\tbackground_color: utils.get_color_from_hex('#1bdbdb')"
   ]
  },
  {
   "cell_type": "markdown",
   "metadata": {},
   "source": [
    "### Kivy Box Layout - Python Kivy GUI Tutorial #8"
   ]
  },
  {
   "cell_type": "markdown",
   "metadata": {},
   "source": [
    "- codes (box.py)"
   ]
  },
  {
   "cell_type": "code",
   "execution_count": null,
   "metadata": {},
   "outputs": [],
   "source": [
    "import kivy\n",
    "from kivy.app import App\n",
    "from kivy.uix.widget import Widget\n",
    "from kivy.properties import ObjectProperty\n",
    "from kivy.lang import Builder\n",
    "\n",
    "Builder.load_file('box.kv')\n",
    "\n",
    "class MyLayout(Widget):\n",
    "\tpass\n",
    "\t\n",
    "\n",
    "class AwesomeApp(App):\n",
    "\tdef build(self):\n",
    "\t\treturn MyLayout()\n",
    "\n",
    "if __name__ == '__main__':\n",
    "\tAwesomeApp().run()\n"
   ]
  },
  {
   "cell_type": "markdown",
   "metadata": {},
   "source": [
    "- box.kv 的內容"
   ]
  },
  {
   "cell_type": "code",
   "execution_count": null,
   "metadata": {},
   "outputs": [],
   "source": [
    "<MyLayout>\n",
    "\tBoxLayout:\n",
    "\t\torientation: \"vertical\"\n",
    "\t\tsize: root.width, root.height\n",
    "\n",
    "\t\t# box 與上一層容器的邊界距離\n",
    "\t\tpadding: 50\n",
    "\n",
    "\t\t# box 之間的距離\n",
    "\t\tspacing: 20\n",
    "\n",
    "\t\tButton:\n",
    "\t\t\ttext: \"Hello World!\"\n",
    "\n",
    "\t\tButton:\n",
    "\t\t\ttext: \"Goodbye World!\"\n",
    "\n",
    "\t\tButton:\n",
    "\t\t\ttext: \"I'am hungry\"\n",
    "\t\t\t# 從左方算過來的比例\n",
    "\t\t\tpos_hint: {'center_x': 0.5}\n",
    "\t\t\t# 此 button 的 size 調整\n",
    "\t\t\tsize_hint: (0.5, 0.5)\n",
    "\n",
    "\t\t\t# 如果要直接寫長寬的話\n",
    "\t\t\t# width: 200\n",
    "\t\t\t# height: 150"
   ]
  },
  {
   "cell_type": "markdown",
   "metadata": {},
   "source": [
    "![](./images/15_box.png)"
   ]
  },
  {
   "cell_type": "markdown",
   "metadata": {},
   "source": [
    "### Setting Default Widget Properties - Python Kivy GUI Tutorial #9"
   ]
  },
  {
   "cell_type": "markdown",
   "metadata": {},
   "source": [
    "- Code (檔案名稱 inherit.py)"
   ]
  },
  {
   "cell_type": "code",
   "execution_count": null,
   "metadata": {},
   "outputs": [],
   "source": [
    "import kivy\n",
    "from kivy.app import App\n",
    "from kivy.uix.widget import Widget\n",
    "from kivy.properties import ObjectProperty\n",
    "from kivy.lang import Builder\n",
    "\n",
    "Builder.load_file('inherit.kv')\n",
    "\n",
    "class MyLayout(Widget):\n",
    "\tpass\n",
    "\t\n",
    "\n",
    "class AwesomeApp(App):\n",
    "\tdef build(self):\n",
    "\t\treturn MyLayout()\n",
    "\n",
    "if __name__ == '__main__':\n",
    "\tAwesomeApp().run()"
   ]
  },
  {
   "cell_type": "markdown",
   "metadata": {},
   "source": [
    "- inherit.kv 內容 "
   ]
  },
  {
   "cell_type": "code",
   "execution_count": null,
   "metadata": {},
   "outputs": [],
   "source": [
    "# 可以調整所有 Button 的樣式\n",
    "<Button>\n",
    "\tfont_size: 32\n",
    "\tbackground_normal: ''\n",
    "\tbackground_color: (0,0,1,1)\n",
    "\n",
    "# 可以調整整個 TextInput 的樣式\n",
    "<TextInput>\n",
    "\tbackground_color: (150/255, 150/255, 150/255,1)\n",
    "\n",
    "# 可以調整整個 Label 的樣式\n",
    "<Label>\n",
    "\tfont_size: 32\n",
    "\n",
    "<MyLayout>\n",
    "\tBoxLayout:\n",
    "\t\torientation: \"vertical\"\n",
    "\t\tsize: root.width, root.height\n",
    "\t\tpadding: 10\n",
    "\t\tspacing: 10\n",
    "\n",
    "\t\tLabel:\n",
    "\t\t\ttext: \"Name\"\n",
    "\n",
    "\t\tTextInput:\n",
    "\t\t\tmultiline: False\n",
    "\n",
    "\t\tLabel:\n",
    "\t\t\ttext: \"Favorite Pizza\"\n",
    "\n",
    "\t\tTextInput:\n",
    "\t\t\tmultiline: False\n",
    "\n",
    "\t\tButton:\n",
    "\t\t\ttext: \"Submit\"\n",
    "\t\tButton:\n",
    "\t\t\ttext: \"Clear\"\n",
    "\t\t\t# override 原本的 background_color\n",
    "\t\t\tbackground_color:(1,0,0,1)"
   ]
  },
  {
   "cell_type": "markdown",
   "metadata": {},
   "source": [
    "![](./images/16_inherit.png)"
   ]
  },
  {
   "cell_type": "markdown",
   "metadata": {},
   "source": [
    "### Change Background Color And Text Color of Labels - Python Kivy GUI Tutorial #10"
   ]
  },
  {
   "cell_type": "markdown",
   "metadata": {},
   "source": [
    "- Codes(label_color.py)"
   ]
  },
  {
   "cell_type": "code",
   "execution_count": null,
   "metadata": {},
   "outputs": [],
   "source": [
    "import kivy\n",
    "from kivy.app import App\n",
    "from kivy.uix.widget import Widget\n",
    "from kivy.properties import ObjectProperty\n",
    "from kivy.lang import Builder\n",
    "\n",
    "Builder.load_file('label_color.kv')\n",
    "\n",
    "class MyLayout(Widget):\n",
    "\tpass\n",
    "\t\n",
    "\n",
    "class AwesomeApp(App):\n",
    "\tdef build(self):\n",
    "\t\treturn MyLayout()\n",
    "\n",
    "if __name__ == '__main__':\n",
    "\tAwesomeApp().run()"
   ]
  },
  {
   "cell_type": "markdown",
   "metadata": {},
   "source": [
    "- label_color.kv 的內容"
   ]
  },
  {
   "cell_type": "code",
   "execution_count": null,
   "metadata": {},
   "outputs": [],
   "source": [
    "# 可以調整所有 Button 的樣式\n",
    "<Button>\n",
    "\tfont_size: 32\n",
    "\tbackground_normal: ''\n",
    "\tbackground_color: (0,0,1,1)\n",
    "\n",
    "# 可以調整整個 TextInput 的樣式\n",
    "<TextInput>\n",
    "\tbackground_color: (150/255, 150/255, 150/255,1)\n",
    "\n",
    "<MyLayout>\n",
    "\tBoxLayout:\n",
    "\t\torientation: \"vertical\"\n",
    "\t\tsize: root.width, root.height\n",
    "\t\tpadding: 10\n",
    "\t\tspacing: 10\n",
    "\n",
    "\t\tLabel:\n",
    "\t\t\ttext: \"Name\"\n",
    "\t\t\tfont_size: 45\n",
    "\t\t\tbackground_color: (182/255, 66/255, 245/255, 1)\n",
    "\t\t\tcanvas.before:\n",
    "\t\t\t\tColor:\n",
    "\t\t\t\t\trgba: self.background_color\n",
    "\t\t\t\tRectangle:\n",
    "\t\t\t\t\tsize: self.size\n",
    "\t\t\t\t\tpos: self.pos\n",
    "\n",
    "\t\t\t# Text Properties\n",
    "\t\t\tcolor: (0,1,0,1)\n",
    "\t\t\tbold: True\n",
    "\t\t\toutline_color: (0,0,0)\n",
    "\t\t\toutline_width: 5\n",
    "\t\t\titalic: True\n",
    "\n",
    "\t\tTextInput:\n",
    "\t\t\tmultiline: False\n",
    "\n",
    "\n",
    "\t\tButton:\n",
    "\t\t\ttext: \"Clear\"\n",
    "\t\t\t# override 原本的 background_color\n",
    "\t\t\tbackground_color:(1,0,0,1)"
   ]
  },
  {
   "cell_type": "markdown",
   "metadata": {},
   "source": [
    "### Two Ways To Change Background Colors - Python Kivy GUI Tutorial #11"
   ]
  },
  {
   "cell_type": "markdown",
   "metadata": {},
   "source": [
    "![](./images/17_bg.png)"
   ]
  },
  {
   "cell_type": "markdown",
   "metadata": {},
   "source": [
    "- bg.py 的內容"
   ]
  },
  {
   "cell_type": "code",
   "execution_count": null,
   "metadata": {},
   "outputs": [],
   "source": [
    "import kivy\n",
    "from kivy.app import App\n",
    "from kivy.uix.widget import Widget\n",
    "from kivy.properties import ObjectProperty\n",
    "from kivy.lang import Builder\n",
    "from kivy.core.window import Window\n",
    "\n",
    "Builder.load_file('bg.kv')\n",
    "\n",
    "class MyLayout(Widget):\n",
    "\tpass\n",
    "\n",
    "class AwesomeApp(App):\n",
    "\tdef build(self):\n",
    "\t\tWindow.clearcolor = (1,1,1,1)\n",
    "\t\treturn MyLayout()\n",
    "\n",
    "if __name__ == '__main__':\n",
    "\tAwesomeApp().run()"
   ]
  },
  {
   "cell_type": "markdown",
   "metadata": {},
   "source": [
    "- bg.kv 的內容"
   ]
  },
  {
   "cell_type": "code",
   "execution_count": null,
   "metadata": {},
   "outputs": [],
   "source": [
    "<MyLayout>\n",
    "\t# canvas.before 會 override window 那邊的設定\n",
    "\tcanvas.before:\n",
    "\t\tColor: \n",
    "\t\t\trgba: (0,0,1,1)\n",
    "\t\tRectangle:\n",
    "\t\t\tpos: self.pos\n",
    "\t\t\tsize: self.size\n",
    "\n",
    "\tBoxLayout:\n",
    "\t\torientation: \"vertical\"\n",
    "\t\tsize: root.width, root.height\n",
    "\n",
    "\t\tpadding: 50\n",
    "\t\tspacing: 20\n",
    "\n",
    "\t\tButton:\n",
    "\t\t\ttext: \"Hello World!\"\n",
    "\n",
    "\t\tButton:\n",
    "\t\t\ttext: \"Goodbye World!\""
   ]
  },
  {
   "cell_type": "markdown",
   "metadata": {},
   "source": [
    "### How To Use Images With Kivy - Python Kivy GUI Tutorial #12"
   ]
  },
  {
   "cell_type": "markdown",
   "metadata": {},
   "source": [
    "![](./images/18_dog.png)"
   ]
  },
  {
   "cell_type": "markdown",
   "metadata": {},
   "source": [
    "- codes(images.py)"
   ]
  },
  {
   "cell_type": "code",
   "execution_count": null,
   "metadata": {},
   "outputs": [],
   "source": [
    "import kivy\n",
    "from kivy.app import App\n",
    "from kivy.uix.widget import Widget\n",
    "from kivy.properties import ObjectProperty\n",
    "from kivy.lang import Builder\n",
    "from kivy.core.window import Window\n",
    "#from kivy.uix.image import Image\n",
    "\n",
    "Builder.load_file('images.kv')\n",
    "\n",
    "class MyLayout(Widget):\n",
    "\tpass\n",
    "\n",
    "class AwesomeApp(App):\n",
    "\tdef build(self):\n",
    "\t\tWindow.clearcolor = (1,1,1,1)\n",
    "\t\treturn MyLayout()\n",
    "\n",
    "if __name__ == '__main__':\n",
    "\tAwesomeApp().run()"
   ]
  },
  {
   "cell_type": "markdown",
   "metadata": {},
   "source": [
    "- images.kv 內容"
   ]
  },
  {
   "cell_type": "code",
   "execution_count": null,
   "metadata": {},
   "outputs": [],
   "source": [
    "<MyLayout>\n",
    "\n",
    "\tBoxLayout:\n",
    "\t\torientation: \"vertical\"\n",
    "\t\tsize: root.width, root.height\n",
    "\n",
    "\t\t# padding: 50\n",
    "\t\t# spacing: 20\n",
    "\n",
    "\t\tImage:\n",
    "\t\t\tsource: 'image/dog.jpg'\n",
    "\t\t\tallow_stretch: True\n",
    "\t\t\tkeep_ratio: True\n",
    "\n",
    "\t\t# Button:\n",
    "\t\t# \ttext: \"Hello World!\""
   ]
  },
  {
   "cell_type": "markdown",
   "metadata": {},
   "source": [
    "### Kivy Float Layout - Python Kivy GUI Tutorial #13"
   ]
  },
  {
   "cell_type": "markdown",
   "metadata": {},
   "source": [
    "![](./images/19_float_layout.png)"
   ]
  },
  {
   "cell_type": "markdown",
   "metadata": {},
   "source": [
    "- codes(float_layout.py)"
   ]
  },
  {
   "cell_type": "code",
   "execution_count": null,
   "metadata": {},
   "outputs": [],
   "source": [
    "import kivy\n",
    "from kivy.app import App\n",
    "from kivy.uix.widget import Widget\n",
    "from kivy.properties import ObjectProperty\n",
    "from kivy.lang import Builder\n",
    "from kivy.core.window import Window\n",
    "# from kivy.uix.floatlayout import FloatLayout\n",
    "\n",
    "Builder.load_file('float_layout.kv')\n",
    "\n",
    "class MyLayout(Widget):\n",
    "\tpass\n",
    "\n",
    "class AwesomeApp(App):\n",
    "\tdef build(self):\n",
    "\t\tWindow.clearcolor = (1,1,1,1)\n",
    "\t\treturn MyLayout()\n",
    "\n",
    "if __name__ == '__main__':\n",
    "\tAwesomeApp().run()"
   ]
  },
  {
   "cell_type": "markdown",
   "metadata": {},
   "source": [
    "- float_layout.kv 的內容"
   ]
  },
  {
   "cell_type": "code",
   "execution_count": null,
   "metadata": {},
   "outputs": [],
   "source": [
    "<Button>\n",
    "\tfont_size: 32\n",
    "\tsize_hint: (0.3, 0.3)\n",
    "\n",
    "<MyLayout>\n",
    "\n",
    "\tFloatLayout:\n",
    "\t\tsize: root.width, root.height\n",
    "\n",
    "\n",
    "\t\tButton:\n",
    "\t\t\ttext: \"Top Left\"\n",
    "\t\t\t# {\"x\", \"y\", \"top\", \"bottom\", \"left\", \"right\"}\n",
    "\t\t\tpos_hint: {\"x\":0, \"top\":1}\n",
    "\n",
    "\t\tButton:\n",
    "\t\t\ttext: \"Top Right\"\n",
    "\t\t\tpos_hint: {\"x\":0.7, \"top\":1}\n",
    "\n",
    "\t\tButton:\n",
    "\t\t\ttext: \"Center\"\n",
    "\t\t\t# pos_hint: {\"x\": 0.35, \"top\": 0.65}\n",
    "\t\t\tpos_hint: {\"x\": 0.35, \"y\": 0.35}\n",
    "\n",
    "\t\tButton:\n",
    "\t\t\ttext: \"Bottom Left\"\n",
    "\t\t\tpos_hint: {\"x\":0}\n",
    "\n",
    "\t\tButton:\n",
    "\t\t\ttext: \"Bottom Right\"\n",
    "\t\t\tpos_hint: {\"x\":0.7, \"bottom\":1}\n"
   ]
  },
  {
   "cell_type": "markdown",
   "metadata": {},
   "source": [
    "### How To Update Labels - Python Kivy GUI Tutorial #14"
   ]
  },
  {
   "cell_type": "code",
   "execution_count": null,
   "metadata": {},
   "outputs": [],
   "source": []
  },
  {
   "cell_type": "code",
   "execution_count": null,
   "metadata": {},
   "outputs": [],
   "source": []
  },
  {
   "cell_type": "code",
   "execution_count": null,
   "metadata": {},
   "outputs": [],
   "source": []
  },
  {
   "cell_type": "code",
   "execution_count": null,
   "metadata": {},
   "outputs": [],
   "source": []
  },
  {
   "cell_type": "code",
   "execution_count": null,
   "metadata": {},
   "outputs": [],
   "source": []
  },
  {
   "cell_type": "code",
   "execution_count": null,
   "metadata": {},
   "outputs": [],
   "source": []
  },
  {
   "cell_type": "code",
   "execution_count": null,
   "metadata": {},
   "outputs": [],
   "source": []
  },
  {
   "cell_type": "code",
   "execution_count": null,
   "metadata": {},
   "outputs": [],
   "source": []
  },
  {
   "cell_type": "code",
   "execution_count": null,
   "metadata": {},
   "outputs": [],
   "source": []
  },
  {
   "cell_type": "code",
   "execution_count": null,
   "metadata": {},
   "outputs": [],
   "source": []
  },
  {
   "cell_type": "code",
   "execution_count": null,
   "metadata": {},
   "outputs": [],
   "source": []
  },
  {
   "cell_type": "code",
   "execution_count": null,
   "metadata": {},
   "outputs": [],
   "source": []
  },
  {
   "cell_type": "code",
   "execution_count": null,
   "metadata": {},
   "outputs": [],
   "source": []
  },
  {
   "cell_type": "code",
   "execution_count": null,
   "metadata": {},
   "outputs": [],
   "source": []
  },
  {
   "cell_type": "code",
   "execution_count": null,
   "metadata": {},
   "outputs": [],
   "source": []
  },
  {
   "cell_type": "code",
   "execution_count": null,
   "metadata": {},
   "outputs": [],
   "source": []
  },
  {
   "cell_type": "code",
   "execution_count": null,
   "metadata": {},
   "outputs": [],
   "source": []
  },
  {
   "cell_type": "code",
   "execution_count": null,
   "metadata": {},
   "outputs": [],
   "source": []
  },
  {
   "cell_type": "code",
   "execution_count": null,
   "metadata": {},
   "outputs": [],
   "source": []
  },
  {
   "cell_type": "code",
   "execution_count": null,
   "metadata": {},
   "outputs": [],
   "source": []
  },
  {
   "cell_type": "code",
   "execution_count": null,
   "metadata": {},
   "outputs": [],
   "source": []
  },
  {
   "cell_type": "code",
   "execution_count": null,
   "metadata": {},
   "outputs": [],
   "source": []
  },
  {
   "cell_type": "code",
   "execution_count": null,
   "metadata": {},
   "outputs": [],
   "source": []
  },
  {
   "cell_type": "code",
   "execution_count": null,
   "metadata": {},
   "outputs": [],
   "source": []
  },
  {
   "cell_type": "code",
   "execution_count": null,
   "metadata": {},
   "outputs": [],
   "source": []
  },
  {
   "cell_type": "code",
   "execution_count": null,
   "metadata": {},
   "outputs": [],
   "source": []
  },
  {
   "cell_type": "code",
   "execution_count": null,
   "metadata": {},
   "outputs": [],
   "source": []
  },
  {
   "cell_type": "code",
   "execution_count": null,
   "metadata": {},
   "outputs": [],
   "source": []
  },
  {
   "cell_type": "code",
   "execution_count": null,
   "metadata": {},
   "outputs": [],
   "source": []
  },
  {
   "cell_type": "code",
   "execution_count": null,
   "metadata": {},
   "outputs": [],
   "source": []
  },
  {
   "cell_type": "code",
   "execution_count": null,
   "metadata": {},
   "outputs": [],
   "source": []
  },
  {
   "cell_type": "code",
   "execution_count": null,
   "metadata": {},
   "outputs": [],
   "source": []
  },
  {
   "cell_type": "code",
   "execution_count": null,
   "metadata": {},
   "outputs": [],
   "source": []
  },
  {
   "cell_type": "code",
   "execution_count": null,
   "metadata": {},
   "outputs": [],
   "source": []
  },
  {
   "cell_type": "code",
   "execution_count": null,
   "metadata": {},
   "outputs": [],
   "source": []
  }
 ],
 "metadata": {
  "kernelspec": {
   "display_name": "Python 3",
   "language": "python",
   "name": "python3"
  },
  "language_info": {
   "codemirror_mode": {
    "name": "ipython",
    "version": 3
   },
   "file_extension": ".py",
   "mimetype": "text/x-python",
   "name": "python",
   "nbconvert_exporter": "python",
   "pygments_lexer": "ipython3",
   "version": "3.7.4"
  }
 },
 "nbformat": 4,
 "nbformat_minor": 2
}
