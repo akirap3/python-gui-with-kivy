{
 "cells": [
  {
   "cell_type": "markdown",
   "metadata": {},
   "source": [
    "## Python GUI's with Kivy"
   ]
  },
  {
   "cell_type": "markdown",
   "metadata": {},
   "source": [
    "Note: \n",
    "1. [影片的網址](https://www.youtube.com/playlist?list=PLCC34OHNcOtpz7PJQ7Tv7hqFBP_xDDjqg)"
   ]
  },
  {
   "cell_type": "markdown",
   "metadata": {},
   "source": [
    "### Intro To Kivy - Installing Kivy on Windows - Python Kivy GUI Tutorial #1"
   ]
  },
  {
   "cell_type": "markdown",
   "metadata": {},
   "source": [
    "- 先到官網查看如何安裝 [Kivy Install](https://kivy.org/doc/stable/gettingstarted/installation.html#install-pip)\n",
    "\n",
    "- 建立資料夾作為 virtual environment 的環境，venv 的好處是可以將你安裝的東西只安裝在此虛擬環境，接著就可以按照文件來安裝 kivy                            "
   ]
  },
  {
   "cell_type": "markdown",
   "metadata": {},
   "source": [
    "![](./images/1_venv.png)"
   ]
  },
  {
   "cell_type": "markdown",
   "metadata": {},
   "source": [
    "![](./images/1_venv_png)"
   ]
  },
  {
   "cell_type": "markdown",
   "metadata": {},
   "source": [
    "![](./images/2_install_kivy.png)"
   ]
  },
  {
   "cell_type": "markdown",
   "metadata": {},
   "source": [
    "![](./images/3_freeze.png)"
   ]
  },
  {
   "cell_type": "markdown",
   "metadata": {},
   "source": [
    "- 寫第一支 app => hello-world.py"
   ]
  },
  {
   "cell_type": "markdown",
   "metadata": {},
   "source": [
    "![](./images/4_hello_world.png)"
   ]
  },
  {
   "cell_type": "code",
   "execution_count": null,
   "metadata": {},
   "outputs": [],
   "source": [
    "import kivy\n",
    "from kivy.app import App\n",
    "from kivy.uix.label import Label\n",
    "\n",
    "class MyApp(App):\n",
    "    def build(self):\n",
    "        return Label(text=\"Hello World\", font_size=72)\n",
    "\n",
    "if __name__ == '__main__':\n",
    "    MyApp().run()"
   ]
  },
  {
   "cell_type": "markdown",
   "metadata": {},
   "source": [
    "### Input Boxes and Buttons - Python Kivy GUI Tutorial #2"
   ]
  },
  {
   "cell_type": "markdown",
   "metadata": {},
   "source": [
    "- To create a demo like this"
   ]
  },
  {
   "cell_type": "markdown",
   "metadata": {},
   "source": [
    "![](./images/5_inputbox_demo.png)"
   ]
  },
  {
   "cell_type": "markdown",
   "metadata": {},
   "source": [
    "- code "
   ]
  },
  {
   "cell_type": "markdown",
   "metadata": {},
   "source": [
    "![](./images/6_inputbox_button_code.png)"
   ]
  },
  {
   "cell_type": "code",
   "execution_count": null,
   "metadata": {},
   "outputs": [],
   "source": [
    "import kivy\n",
    "from kivy.app import App\n",
    "from kivy.uix.label import Label\n",
    "from kivy.uix.gridlayout import GridLayout\n",
    "from kivy.uix.textinput import TextInput\n",
    "from kivy.uix.button import Button\n",
    "\n",
    "class MyGridLayout(GridLayout):\n",
    "\t# Initialize infinite keywords\n",
    "\t# Call grid layout constructor\n",
    "\tdef __init__(self, **kwargs):\n",
    "\t\tsuper(MyGridLayout, self).__init__(**kwargs)\n",
    "\n",
    "\t\t# Set columns\n",
    "\t\tself.cols=2\n",
    "\n",
    "\t\t# Add widgets\n",
    "\t\tself.add_widget(Label(text=\"Name\"))\n",
    "\t\t# Add Input Box\n",
    "\t\tself.name = TextInput(multiline=True)\n",
    "\t\tself.add_widget(self.name)\n",
    "\n",
    "\t\tself.add_widget(Label(text=\"Favorite Pizza\"))\n",
    "\t\tself.pizza = TextInput(multiline=True)\n",
    "\t\tself.add_widget(self.pizza)\n",
    "\n",
    "\t\tself.add_widget(Label(text=\"Favorite Color\"))\n",
    "\t\tself.color = TextInput(multiline=True)\n",
    "\t\tself.add_widget(self.color)\n",
    "\n",
    "\t\t# Create a Submit Button\n",
    "\t\tself.submit = Button(text=\"Submit\", font_size=32)\n",
    "\t\t# Bind the button\n",
    "\t\tself.submit.bind(on_press=self.press)\n",
    "\t\tself.add_widget(self.submit)\n",
    "\n",
    "\tdef press(self, instance):\n",
    "\t\tname = self.name.text\n",
    "\t\tpizza = self.pizza.text\n",
    "\t\tcolor = self.color.text\n",
    "\n",
    "\t\t# print(f'Hello {name}, you like {pizza}, and your favorite color is {color}') \n",
    "\t\t# Print it ot the scren\n",
    "\t\tself.add_widget(Label(text=f'Hello {name}, you like {pizza}, and your favorite color is {color}'))\n",
    "\n",
    "class MyApp(App):\n",
    "\tdef build(self):\n",
    "\t\treturn MyGridLayout()\n",
    "\n",
    "if __name__ == '__main__':\n",
    "\tMyApp().run()\n"
   ]
  },
  {
   "cell_type": "markdown",
   "metadata": {},
   "source": [
    "### Button Column Span Trick! - Python Kivy GUI Tutorial #3"
   ]
  },
  {
   "cell_type": "markdown",
   "metadata": {},
   "source": [
    "- Grid 裡面再放 Grid, 做排版如下:"
   ]
  },
  {
   "cell_type": "markdown",
   "metadata": {},
   "source": [
    "![](./images/7_grid_in_grid.png)"
   ]
  },
  {
   "cell_type": "markdown",
   "metadata": {},
   "source": [
    "- codes (檔案名稱為 input2.py)"
   ]
  },
  {
   "cell_type": "code",
   "execution_count": null,
   "metadata": {},
   "outputs": [],
   "source": [
    "import kivy\n",
    "from kivy.app import App\n",
    "from kivy.uix.label import Label\n",
    "from kivy.uix.gridlayout import GridLayout\n",
    "from kivy.uix.textinput import TextInput\n",
    "from kivy.uix.button import Button\n",
    "\n",
    "class MyGridLayout(GridLayout):\n",
    "\t# Initialize infinite keywords\n",
    "\t# Call grid layout constructor\n",
    "\tdef __init__(self, **kwargs):\n",
    "\t\tsuper(MyGridLayout, self).__init__(**kwargs)\n",
    "\n",
    "\t\t# Set columns\n",
    "\t\tself.cols=1\n",
    "\n",
    "\t\t# Create a second gridlayout\n",
    "\t\tself.top_grid = GridLayout()\n",
    "\t\tself.top_grid.cols=2\n",
    "\n",
    "\t\t# Add widgets\n",
    "\t\tself.top_grid.add_widget(Label(text=\"Name\"))\n",
    "\t\t# Add Input Box\n",
    "\t\tself.name = TextInput(multiline=True)\n",
    "\t\tself.top_grid.add_widget(self.name)\n",
    "\n",
    "\t\tself.top_grid.add_widget(Label(text=\"Favorite Pizza\"))\n",
    "\t\tself.pizza = TextInput(multiline=True)\n",
    "\t\tself.top_grid.add_widget(self.pizza)\n",
    "\n",
    "\t\tself.top_grid.add_widget(Label(text=\"Favorite Color\"))\n",
    "\t\tself.color = TextInput(multiline=True)\n",
    "\t\tself.top_grid.add_widget(self.color)\n",
    "\n",
    "\t\t# Add the new top_grid to our app\n",
    "\t\tself.add_widget(self.top_grid)\n",
    "\n",
    "\t\t# Create a Submit Button\n",
    "\t\tself.submit = Button(text=\"Submit\", font_size=32)\n",
    "\t\t# Bind the button\n",
    "\t\tself.submit.bind(on_press=self.press)\n",
    "\t\tself.add_widget(self.submit)\n",
    "\n",
    "\tdef press(self, instance):\n",
    "\t\tname = self.name.text\n",
    "\t\tpizza = self.pizza.text\n",
    "\t\tcolor = self.color.text\n",
    "\n",
    "\t\tself.name.text = \"\"\n",
    "\t\tself.pizza.text = \"\"\n",
    "\t\tself.color.text = \"\"\n",
    "\n",
    "\t\t# print(f'Hello {name}, you like {pizza}, and your favorite color is {color}') \n",
    "\t\t# Print it ot the scren\n",
    "\t\tself.add_widget(Label(text=f'Hello {name}, you like {pizza}, and your favorite color is {color}'))\n",
    "\n",
    "class MyApp(App):\n",
    "\tdef build(self):\n",
    "\t\treturn MyGridLayout()\n",
    "\n",
    "if __name__ == '__main__':\n",
    "\tMyApp().run()\n"
   ]
  },
  {
   "cell_type": "markdown",
   "metadata": {},
   "source": [
    "### How To Set The Height And Width of Widgets - Python Kivy GUI Tutorial #4"
   ]
  },
  {
   "cell_type": "markdown",
   "metadata": {},
   "source": [
    "- 可以在各別的 widget 中設定 height and width，類似如下:"
   ]
  },
  {
   "cell_type": "markdown",
   "metadata": {},
   "source": [
    "![](./images/10_height_and_width_button.png)"
   ]
  },
  {
   "cell_type": "markdown",
   "metadata": {},
   "source": [
    "- 如果要設定 grid 裡面每個 widget 進來時都有預設的 height 及 width，可以設如下"
   ]
  },
  {
   "cell_type": "markdown",
   "metadata": {},
   "source": [
    "![](./images/11_default_height_and_width.png)"
   ]
  },
  {
   "cell_type": "markdown",
   "metadata": {},
   "source": [
    "- codes(檔案為 height-width.py)"
   ]
  },
  {
   "cell_type": "code",
   "execution_count": null,
   "metadata": {},
   "outputs": [],
   "source": [
    "import kivy\n",
    "from kivy.app import App\n",
    "from kivy.uix.label import Label\n",
    "from kivy.uix.gridlayout import GridLayout\n",
    "from kivy.uix.textinput import TextInput\n",
    "from kivy.uix.button import Button\n",
    "\n",
    "class MyGridLayout(GridLayout):\n",
    "\t# Initialize infinite keywords\n",
    "\t# Call grid layout constructor\n",
    "\tdef __init__(self, **kwargs):\n",
    "\t\tsuper(MyGridLayout, self).__init__(**kwargs)\n",
    "\n",
    "\t\t# Set columns\n",
    "\t\t# Set MyGridLayout default height and width\n",
    "\t\tself.cols=1\n",
    "\t\tself.row_force_default=True\n",
    "\t\tself.row_default_height=120\n",
    "\t\tself.col_force_default=True\n",
    "\t\tself.col_default_width=100\n",
    "\n",
    "\t\t# Create a second gridlayout\n",
    "\t\t# Set top_grid default height and width\n",
    "\t\tself.top_grid = GridLayout(\n",
    "\t\t\trow_force_default=True,\n",
    "\t\t\trow_default_height=40,\n",
    "\t\t\tcol_force_default=True,\n",
    "\t\t\tcol_default_width=100)\n",
    "\n",
    "\t\tself.top_grid.cols=2\n",
    "\n",
    "\t\t# Add widgets\n",
    "\t\tself.top_grid.add_widget(Label(text=\"Name\"))\n",
    "\t\t# Add Input Box\n",
    "\t\tself.name = TextInput(multiline=True)\n",
    "\t\tself.top_grid.add_widget(self.name)\n",
    "\n",
    "\t\tself.top_grid.add_widget(Label(text=\"Favorite Pizza\"))\n",
    "\t\tself.pizza = TextInput(multiline=True)\n",
    "\t\tself.top_grid.add_widget(self.pizza)\n",
    "\n",
    "\t\tself.top_grid.add_widget(Label(text=\"Favorite Color\"))\n",
    "\t\tself.color = TextInput(multiline=True)\n",
    "\t\tself.top_grid.add_widget(self.color)\n",
    "\n",
    "\t\t# Add the new top_grid to our app\n",
    "\t\tself.add_widget(self.top_grid)\n",
    "\n",
    "\t\t# Create a Submit Button\n",
    "\t\t# Explicit set height and width\n",
    "\t\tself.submit = Button(text=\"Submit\", \n",
    "\t\t\tfont_size=32,\n",
    "\t\t\tsize_hint_y=None,\n",
    "\t\t\theight=50,\n",
    "\t\t\tsize_hint_x=None,\n",
    "\t\t\twidth=200)\n",
    "\n",
    "\t\t# Bind the button\n",
    "\t\tself.submit.bind(on_press=self.press)\n",
    "\t\tself.add_widget(self.submit)\n",
    "\n",
    "\tdef press(self, instance):\n",
    "\t\tname = self.name.text\n",
    "\t\tpizza = self.pizza.text\n",
    "\t\tcolor = self.color.text\n",
    "\n",
    "\t\tself.name.text = \"\"\n",
    "\t\tself.pizza.text = \"\"\n",
    "\t\tself.color.text = \"\"\n",
    "\n",
    "\t\t# print(f'Hello {name}, you like {pizza}, and your favorite color is {color}') \n",
    "\t\t# Print it ot the scren\n",
    "\t\tself.add_widget(Label(text=f'Hello {name}, you like {pizza}, and your favorite color is {color}'))\n",
    "\n",
    "class MyApp(App):\n",
    "\tdef build(self):\n",
    "\t\treturn MyGridLayout()\n",
    "\n",
    "if __name__ == '__main__':\n",
    "\tMyApp().run()"
   ]
  },
  {
   "cell_type": "markdown",
   "metadata": {},
   "source": [
    "### Kivy Design Language - Python Kivy GUI Tutorial #5"
   ]
  },
  {
   "cell_type": "markdown",
   "metadata": {},
   "source": [
    "- 需要另外串一個檔案名稱為 my.kv，要注意的是如果 class 名稱有 \"APP\" 字眼會報錯，故要去除 => 此範例名稱為 my.kv"
   ]
  },
  {
   "cell_type": "markdown",
   "metadata": {},
   "source": [
    "![](./images/12_kv.png)"
   ]
  },
  {
   "cell_type": "code",
   "execution_count": null,
   "metadata": {},
   "outputs": [],
   "source": [
    "<MyGridLayout>\n",
    "\n",
    "\tname:name\n",
    "\tpizza:pizza\n",
    "\tcolor:color\n",
    "\n",
    "\tGridLayout:\n",
    "\t\tcols:1\n",
    "\t\tsize: root.width, root.height\n",
    "\t\tGridLayout:\n",
    "\t\t\tcols:2\n",
    "\n",
    "\t\t\tLabel:\n",
    "\t\t\t\ttext: 'Name'\n",
    "\t\t\tTextInput:\n",
    "\t\t\t\tid: name\n",
    "\t\t\t\tmultiline: False\n",
    "\n",
    "\t\t\tLabel:\n",
    "\t\t\t\ttext: 'Favorite Pizza'\n",
    "\t\t\tTextInput:\n",
    "\t\t\t\tid: pizza\n",
    "\t\t\t\tmultiline: False\n",
    "\n",
    "\t\t\tLabel:\n",
    "\t\t\t\ttext: 'Favotite Color'\n",
    "\t\t\tTextInput:\n",
    "\t\t\t\tid: color\n",
    "\t\t\t\tmultiline: False\n",
    "\n",
    "\t\tButton:\n",
    "\t\t\ttext: \"Submit\"\n",
    "\t\t\tfont_size:32\n",
    "\t\t\ton_press: root.press()"
   ]
  },
  {
   "cell_type": "markdown",
   "metadata": {},
   "source": [
    "- codes(檔案名稱為 design.py)"
   ]
  },
  {
   "cell_type": "markdown",
   "metadata": {},
   "source": [
    "![](./images/13_design.png)"
   ]
  },
  {
   "cell_type": "code",
   "execution_count": null,
   "metadata": {},
   "outputs": [],
   "source": [
    "import kivy\n",
    "from kivy.app import App\n",
    "from kivy.uix.label import Label\n",
    "from kivy.uix.gridlayout import GridLayout\n",
    "from kivy.uix.textinput import TextInput\n",
    "from kivy.uix.button import Button\n",
    "from kivy.uix.widget import Widget\n",
    "from kivy.properties import ObjectProperty\n",
    "\n",
    "class MyGridLayout(Widget):\n",
    "\n",
    "\tname = ObjectProperty(None)\n",
    "\tpizza = ObjectProperty(None)\n",
    "\tcolor = ObjectProperty(None)\n",
    "\t\n",
    "\tdef press(self):\n",
    "\t\tname = self.name.text\n",
    "\t\tpizza = self.pizza.text\n",
    "\t\tcolor = self.color.text\n",
    "\n",
    "\t\tself.name.text = \"\"\n",
    "\t\tself.pizza.text = \"\"\n",
    "\t\tself.color.text = \"\"\n",
    "\n",
    "\t\tprint(f'Hello {name}, you like {pizza}, and your favorite color is {color}') \n",
    "\t\t# Print it ot the scren\n",
    "\t\t# self.add_widget(Label(text=f'Hello {name}, you like {pizza}, and your favorite color is {color}'))\n",
    "\n",
    "class MyApp(App):\n",
    "\tdef build(self):\n",
    "\t\treturn MyGridLayout()\n",
    "\n",
    "if __name__ == '__main__':\n",
    "\tMyApp().run()\n"
   ]
  },
  {
   "cell_type": "markdown",
   "metadata": {},
   "source": [
    "### The Kivy Builder - Python Kivy GUI Tutorial #6"
   ]
  },
  {
   "cell_type": "markdown",
   "metadata": {},
   "source": [
    "- Builder 可以將需要的 widget 都放在 .kv 檔，這樣可以使主程式看起來很乾淨，我們可以把它看成像 CSS 這樣，將設計與主程式做分離\n",
    "\n",
    "- 使用 builder.load_file(\"檔案名稱.kv\") 是比較推薦的使用方式，另一個使用方式是 build.load_string(\"\"\"這邊放 .kv 檔案內的所有內容\"\"\")，但這樣的方式不推薦，因為會使程式碼看起來比較冗餘"
   ]
  },
  {
   "cell_type": "markdown",
   "metadata": {},
   "source": [
    "- Codes (檔案名稱 builder.py)"
   ]
  },
  {
   "cell_type": "code",
   "execution_count": null,
   "metadata": {},
   "outputs": [],
   "source": [
    "import kivy\n",
    "from kivy.app import App\n",
    "from kivy.uix.widget import Widget\n",
    "from kivy.properties import ObjectProperty\n",
    "from kivy.lang import Builder\n",
    "\n",
    "Builder.load_file('whatever.kv')\n",
    "\n",
    "class MyGridLayout(Widget):\n",
    "\n",
    "\tname = ObjectProperty(None)\n",
    "\tpizza = ObjectProperty(None)\n",
    "\tcolor = ObjectProperty(None)\n",
    "\t\n",
    "\tdef press(self):\n",
    "\t\tname = self.name.text\n",
    "\t\tpizza = self.pizza.text\n",
    "\t\tcolor = self.color.text\n",
    "\n",
    "\t\tself.name.text = \"\"\n",
    "\t\tself.pizza.text = \"\"\n",
    "\t\tself.color.text = \"\"\n",
    "\n",
    "\t\tprint(f'Hello {name}, you like {pizza}, and your favorite color is {color}') \n",
    "\t\t# Print it ot the scren\n",
    "\t\t# self.add_widget(Label(text=f'Hello {name}, you like {pizza}, and your favorite color is {color}'))\n",
    "\n",
    "class AwesomeApp(App):\n",
    "\tdef build(self):\n",
    "\t\treturn MyGridLayout()\n",
    "\n",
    "if __name__ == '__main__':\n",
    "\tAwesomeApp().run()"
   ]
  },
  {
   "cell_type": "markdown",
   "metadata": {},
   "source": [
    "- whatever.kv 檔案內容"
   ]
  },
  {
   "cell_type": "code",
   "execution_count": null,
   "metadata": {},
   "outputs": [],
   "source": [
    "<MyGridLayout>\n",
    "\n",
    "\tname:name\n",
    "\tpizza:pizza\n",
    "\tcolor:color\n",
    "\n",
    "\tGridLayout:\n",
    "\t\tcols:1\n",
    "\t\tsize: root.width, root.height\n",
    "\t\tGridLayout:\n",
    "\t\t\tcols:2\n",
    "\n",
    "\t\t\tLabel:\n",
    "\t\t\t\ttext: 'Name'\n",
    "\t\t\tTextInput:\n",
    "\t\t\t\tid: name\n",
    "\t\t\t\tmultiline: False\n",
    "\n",
    "\t\t\tLabel:\n",
    "\t\t\t\ttext: 'Favorite Pizza'\n",
    "\t\t\tTextInput:\n",
    "\t\t\t\tid: pizza\n",
    "\t\t\t\tmultiline: False\n",
    "\n",
    "\t\t\tLabel:\n",
    "\t\t\t\ttext: 'Favotite Color'\n",
    "\t\t\tTextInput:\n",
    "\t\t\t\tid: color\n",
    "\t\t\t\tmultiline: False\n",
    "\n",
    "\t\tButton:\n",
    "\t\t\ttext: \"Submit\"\n",
    "\t\t\tfont_size:32\n",
    "\t\t\ton_press: root.press()"
   ]
  },
  {
   "cell_type": "markdown",
   "metadata": {},
   "source": [
    "### Changing Kivy Button Colors - Python Kivy GUI Tutorial #7"
   ]
  },
  {
   "cell_type": "markdown",
   "metadata": {},
   "source": [
    "- Code (檔名 color.py)"
   ]
  },
  {
   "cell_type": "code",
   "execution_count": null,
   "metadata": {},
   "outputs": [],
   "source": [
    "import kivy\n",
    "from kivy.app import App\n",
    "from kivy.uix.widget import Widget\n",
    "from kivy.properties import ObjectProperty\n",
    "from kivy.lang import Builder\n",
    "\n",
    "Builder.load_file('color.kv')\n",
    "\n",
    "class MyGridLayout(Widget):\n",
    "\n",
    "\tname = ObjectProperty(None)\n",
    "\tpizza = ObjectProperty(None)\n",
    "\tcolor = ObjectProperty(None)\n",
    "\t\n",
    "\tdef press(self):\n",
    "\t\tname = self.name.text\n",
    "\t\tpizza = self.pizza.text\n",
    "\t\tcolor = self.color.text\n",
    "\n",
    "\t\tself.name.text = \"\"\n",
    "\t\tself.pizza.text = \"\"\n",
    "\t\tself.color.text = \"\"\n",
    "\n",
    "\t\tprint(f'Hello {name}, you like {pizza}, and your favorite color is {color}') \n",
    "\t\t# Print it ot the scren\n",
    "\t\t# self.add_widget(Label(text=f'Hello {name}, you like {pizza}, and your favorite color is {color}'))\n",
    "\n",
    "class AwesomeApp(App):\n",
    "\tdef build(self):\n",
    "\t\treturn MyGridLayout()\n",
    "\n",
    "if __name__ == '__main__':\n",
    "\tAwesomeApp().run()"
   ]
  },
  {
   "cell_type": "markdown",
   "metadata": {},
   "source": [
    "- color.kv 內容"
   ]
  },
  {
   "cell_type": "code",
   "execution_count": null,
   "metadata": {},
   "outputs": [],
   "source": [
    "# 如果要使用色碼的表達方式，則要 import utils kivy.utils\n",
    "#: import utils kivy.utils\n",
    "<MyGridLayout>\n",
    "\n",
    "\tname:name\n",
    "\tpizza:pizza\n",
    "\tcolor:color\n",
    "\n",
    "\tGridLayout:\n",
    "\t\tcols:1\n",
    "\t\tsize: root.width, root.height\n",
    "\t\tGridLayout:\n",
    "\t\t\tcols:2\n",
    "\n",
    "\t\t\tLabel:\n",
    "\t\t\t\ttext: 'Name'\n",
    "\t\t\tTextInput:\n",
    "\t\t\t\tid: name\n",
    "\t\t\t\tmultiline: False\n",
    "\n",
    "\t\t\tLabel:\n",
    "\t\t\t\ttext: 'Favorite Pizza'\n",
    "\t\t\tTextInput:\n",
    "\t\t\t\tid: pizza\n",
    "\t\t\t\tmultiline: False\n",
    "\n",
    "\t\t\tLabel:\n",
    "\t\t\t\ttext: 'Favotite Color'\n",
    "\t\t\tTextInput:\n",
    "\t\t\t\tid: color\n",
    "\t\t\t\tmultiline: False\n",
    "\n",
    "\t\tButton:\n",
    "\t\t\ttext: \"Submit\"\n",
    "\t\t\tfont_size:32\n",
    "\t\t\ton_press: root.press()\n",
    "\n",
    "\t\t\t# 使顏色呈現方式正常，不然kivy 會將顏色都混成該色較深的顏色\n",
    "\t\t\tbackground_normal: ''\n",
    "\n",
    "\t\t\t# 如果我們使用 rgb(72,189,185)，由於kivy 的數值只有 0 ~ 1, 所以要除以 255.0 確保浮點數\n",
    "\t\t\t#background_color: (72/255.0,189/255.0, 185/255.0, 1)\n",
    "\n",
    "\t\t\tbackground_color: utils.get_color_from_hex('#1bdbdb')"
   ]
  },
  {
   "cell_type": "markdown",
   "metadata": {},
   "source": [
    "### Kivy Box Layout - Python Kivy GUI Tutorial #8"
   ]
  },
  {
   "cell_type": "markdown",
   "metadata": {},
   "source": [
    "- codes (box.py)"
   ]
  },
  {
   "cell_type": "code",
   "execution_count": null,
   "metadata": {},
   "outputs": [],
   "source": [
    "import kivy\n",
    "from kivy.app import App\n",
    "from kivy.uix.widget import Widget\n",
    "from kivy.properties import ObjectProperty\n",
    "from kivy.lang import Builder\n",
    "\n",
    "Builder.load_file('box.kv')\n",
    "\n",
    "class MyLayout(Widget):\n",
    "\tpass\n",
    "\t\n",
    "\n",
    "class AwesomeApp(App):\n",
    "\tdef build(self):\n",
    "\t\treturn MyLayout()\n",
    "\n",
    "if __name__ == '__main__':\n",
    "\tAwesomeApp().run()\n"
   ]
  },
  {
   "cell_type": "markdown",
   "metadata": {},
   "source": [
    "- box.kv 的內容"
   ]
  },
  {
   "cell_type": "code",
   "execution_count": null,
   "metadata": {},
   "outputs": [],
   "source": [
    "<MyLayout>\n",
    "\tBoxLayout:\n",
    "\t\torientation: \"vertical\"\n",
    "\t\tsize: root.width, root.height\n",
    "\n",
    "\t\t# box 與上一層容器的邊界距離\n",
    "\t\tpadding: 50\n",
    "\n",
    "\t\t# box 之間的距離\n",
    "\t\tspacing: 20\n",
    "\n",
    "\t\tButton:\n",
    "\t\t\ttext: \"Hello World!\"\n",
    "\n",
    "\t\tButton:\n",
    "\t\t\ttext: \"Goodbye World!\"\n",
    "\n",
    "\t\tButton:\n",
    "\t\t\ttext: \"I'am hungry\"\n",
    "\t\t\t# 從左方算過來的比例\n",
    "\t\t\tpos_hint: {'center_x': 0.5}\n",
    "\t\t\t# 此 button 的 size 調整\n",
    "\t\t\tsize_hint: (0.5, 0.5)\n",
    "\n",
    "\t\t\t# 如果要直接寫長寬的話\n",
    "\t\t\t# width: 200\n",
    "\t\t\t# height: 150"
   ]
  },
  {
   "cell_type": "markdown",
   "metadata": {},
   "source": [
    "![](./images/15_box.png)"
   ]
  },
  {
   "cell_type": "markdown",
   "metadata": {},
   "source": [
    "### Setting Default Widget Properties - Python Kivy GUI Tutorial #9"
   ]
  },
  {
   "cell_type": "markdown",
   "metadata": {},
   "source": [
    "- Code (檔案名稱 inherit.py)"
   ]
  },
  {
   "cell_type": "code",
   "execution_count": null,
   "metadata": {},
   "outputs": [],
   "source": [
    "import kivy\n",
    "from kivy.app import App\n",
    "from kivy.uix.widget import Widget\n",
    "from kivy.properties import ObjectProperty\n",
    "from kivy.lang import Builder\n",
    "\n",
    "Builder.load_file('inherit.kv')\n",
    "\n",
    "class MyLayout(Widget):\n",
    "\tpass\n",
    "\t\n",
    "\n",
    "class AwesomeApp(App):\n",
    "\tdef build(self):\n",
    "\t\treturn MyLayout()\n",
    "\n",
    "if __name__ == '__main__':\n",
    "\tAwesomeApp().run()"
   ]
  },
  {
   "cell_type": "markdown",
   "metadata": {},
   "source": [
    "- inherit.kv 內容 "
   ]
  },
  {
   "cell_type": "code",
   "execution_count": null,
   "metadata": {},
   "outputs": [],
   "source": [
    "# 可以調整所有 Button 的樣式\n",
    "<Button>\n",
    "\tfont_size: 32\n",
    "\tbackground_normal: ''\n",
    "\tbackground_color: (0,0,1,1)\n",
    "\n",
    "# 可以調整整個 TextInput 的樣式\n",
    "<TextInput>\n",
    "\tbackground_color: (150/255, 150/255, 150/255,1)\n",
    "\n",
    "# 可以調整整個 Label 的樣式\n",
    "<Label>\n",
    "\tfont_size: 32\n",
    "\n",
    "<MyLayout>\n",
    "\tBoxLayout:\n",
    "\t\torientation: \"vertical\"\n",
    "\t\tsize: root.width, root.height\n",
    "\t\tpadding: 10\n",
    "\t\tspacing: 10\n",
    "\n",
    "\t\tLabel:\n",
    "\t\t\ttext: \"Name\"\n",
    "\n",
    "\t\tTextInput:\n",
    "\t\t\tmultiline: False\n",
    "\n",
    "\t\tLabel:\n",
    "\t\t\ttext: \"Favorite Pizza\"\n",
    "\n",
    "\t\tTextInput:\n",
    "\t\t\tmultiline: False\n",
    "\n",
    "\t\tButton:\n",
    "\t\t\ttext: \"Submit\"\n",
    "\t\tButton:\n",
    "\t\t\ttext: \"Clear\"\n",
    "\t\t\t# override 原本的 background_color\n",
    "\t\t\tbackground_color:(1,0,0,1)"
   ]
  },
  {
   "cell_type": "markdown",
   "metadata": {},
   "source": [
    "![](./images/16_inherit.png)"
   ]
  },
  {
   "cell_type": "markdown",
   "metadata": {},
   "source": [
    "### Change Background Color And Text Color of Labels - Python Kivy GUI Tutorial #10"
   ]
  },
  {
   "cell_type": "markdown",
   "metadata": {},
   "source": [
    "- Codes(label_color.py)"
   ]
  },
  {
   "cell_type": "code",
   "execution_count": null,
   "metadata": {},
   "outputs": [],
   "source": [
    "import kivy\n",
    "from kivy.app import App\n",
    "from kivy.uix.widget import Widget\n",
    "from kivy.properties import ObjectProperty\n",
    "from kivy.lang import Builder\n",
    "\n",
    "Builder.load_file('label_color.kv')\n",
    "\n",
    "class MyLayout(Widget):\n",
    "\tpass\n",
    "\t\n",
    "\n",
    "class AwesomeApp(App):\n",
    "\tdef build(self):\n",
    "\t\treturn MyLayout()\n",
    "\n",
    "if __name__ == '__main__':\n",
    "\tAwesomeApp().run()"
   ]
  },
  {
   "cell_type": "markdown",
   "metadata": {},
   "source": [
    "- label_color.kv 的內容"
   ]
  },
  {
   "cell_type": "code",
   "execution_count": null,
   "metadata": {},
   "outputs": [],
   "source": [
    "# 可以調整所有 Button 的樣式\n",
    "<Button>\n",
    "\tfont_size: 32\n",
    "\tbackground_normal: ''\n",
    "\tbackground_color: (0,0,1,1)\n",
    "\n",
    "# 可以調整整個 TextInput 的樣式\n",
    "<TextInput>\n",
    "\tbackground_color: (150/255, 150/255, 150/255,1)\n",
    "\n",
    "<MyLayout>\n",
    "\tBoxLayout:\n",
    "\t\torientation: \"vertical\"\n",
    "\t\tsize: root.width, root.height\n",
    "\t\tpadding: 10\n",
    "\t\tspacing: 10\n",
    "\n",
    "\t\tLabel:\n",
    "\t\t\ttext: \"Name\"\n",
    "\t\t\tfont_size: 45\n",
    "\t\t\tbackground_color: (182/255, 66/255, 245/255, 1)\n",
    "\t\t\tcanvas.before:\n",
    "\t\t\t\tColor:\n",
    "\t\t\t\t\trgba: self.background_color\n",
    "\t\t\t\tRectangle:\n",
    "\t\t\t\t\tsize: self.size\n",
    "\t\t\t\t\tpos: self.pos\n",
    "\n",
    "\t\t\t# Text Properties\n",
    "\t\t\tcolor: (0,1,0,1)\n",
    "\t\t\tbold: True\n",
    "\t\t\toutline_color: (0,0,0)\n",
    "\t\t\toutline_width: 5\n",
    "\t\t\titalic: True\n",
    "\n",
    "\t\tTextInput:\n",
    "\t\t\tmultiline: False\n",
    "\n",
    "\n",
    "\t\tButton:\n",
    "\t\t\ttext: \"Clear\"\n",
    "\t\t\t# override 原本的 background_color\n",
    "\t\t\tbackground_color:(1,0,0,1)"
   ]
  },
  {
   "cell_type": "markdown",
   "metadata": {},
   "source": [
    "### Two Ways To Change Background Colors - Python Kivy GUI Tutorial #11"
   ]
  },
  {
   "cell_type": "markdown",
   "metadata": {},
   "source": [
    "![](./images/17_bg.png)"
   ]
  },
  {
   "cell_type": "markdown",
   "metadata": {},
   "source": [
    "- bg.py 的內容"
   ]
  },
  {
   "cell_type": "code",
   "execution_count": null,
   "metadata": {},
   "outputs": [],
   "source": [
    "import kivy\n",
    "from kivy.app import App\n",
    "from kivy.uix.widget import Widget\n",
    "from kivy.properties import ObjectProperty\n",
    "from kivy.lang import Builder\n",
    "from kivy.core.window import Window\n",
    "\n",
    "Builder.load_file('bg.kv')\n",
    "\n",
    "class MyLayout(Widget):\n",
    "\tpass\n",
    "\n",
    "class AwesomeApp(App):\n",
    "\tdef build(self):\n",
    "\t\tWindow.clearcolor = (1,1,1,1)\n",
    "\t\treturn MyLayout()\n",
    "\n",
    "if __name__ == '__main__':\n",
    "\tAwesomeApp().run()"
   ]
  },
  {
   "cell_type": "markdown",
   "metadata": {},
   "source": [
    "- bg.kv 的內容"
   ]
  },
  {
   "cell_type": "code",
   "execution_count": null,
   "metadata": {},
   "outputs": [],
   "source": [
    "<MyLayout>\n",
    "\t# canvas.before 會 override window 那邊的設定\n",
    "\tcanvas.before:\n",
    "\t\tColor: \n",
    "\t\t\trgba: (0,0,1,1)\n",
    "\t\tRectangle:\n",
    "\t\t\tpos: self.pos\n",
    "\t\t\tsize: self.size\n",
    "\n",
    "\tBoxLayout:\n",
    "\t\torientation: \"vertical\"\n",
    "\t\tsize: root.width, root.height\n",
    "\n",
    "\t\tpadding: 50\n",
    "\t\tspacing: 20\n",
    "\n",
    "\t\tButton:\n",
    "\t\t\ttext: \"Hello World!\"\n",
    "\n",
    "\t\tButton:\n",
    "\t\t\ttext: \"Goodbye World!\""
   ]
  },
  {
   "cell_type": "markdown",
   "metadata": {},
   "source": [
    "### How To Use Images With Kivy - Python Kivy GUI Tutorial #12"
   ]
  },
  {
   "cell_type": "markdown",
   "metadata": {},
   "source": [
    "![](./images/18_dog.png)"
   ]
  },
  {
   "cell_type": "markdown",
   "metadata": {},
   "source": [
    "- codes(images.py)"
   ]
  },
  {
   "cell_type": "code",
   "execution_count": null,
   "metadata": {},
   "outputs": [],
   "source": [
    "import kivy\n",
    "from kivy.app import App\n",
    "from kivy.uix.widget import Widget\n",
    "from kivy.properties import ObjectProperty\n",
    "from kivy.lang import Builder\n",
    "from kivy.core.window import Window\n",
    "#from kivy.uix.image import Image\n",
    "\n",
    "Builder.load_file('images.kv')\n",
    "\n",
    "class MyLayout(Widget):\n",
    "\tpass\n",
    "\n",
    "class AwesomeApp(App):\n",
    "\tdef build(self):\n",
    "\t\tWindow.clearcolor = (1,1,1,1)\n",
    "\t\treturn MyLayout()\n",
    "\n",
    "if __name__ == '__main__':\n",
    "\tAwesomeApp().run()"
   ]
  },
  {
   "cell_type": "markdown",
   "metadata": {},
   "source": [
    "- images.kv 內容"
   ]
  },
  {
   "cell_type": "code",
   "execution_count": null,
   "metadata": {},
   "outputs": [],
   "source": [
    "<MyLayout>\n",
    "\n",
    "\tBoxLayout:\n",
    "\t\torientation: \"vertical\"\n",
    "\t\tsize: root.width, root.height\n",
    "\n",
    "\t\t# padding: 50\n",
    "\t\t# spacing: 20\n",
    "\n",
    "\t\tImage:\n",
    "\t\t\tsource: 'image/dog.jpg'\n",
    "\t\t\tallow_stretch: True\n",
    "\t\t\tkeep_ratio: True\n",
    "\n",
    "\t\t# Button:\n",
    "\t\t# \ttext: \"Hello World!\""
   ]
  },
  {
   "cell_type": "markdown",
   "metadata": {},
   "source": [
    "### Kivy Float Layout - Python Kivy GUI Tutorial #13"
   ]
  },
  {
   "cell_type": "markdown",
   "metadata": {},
   "source": [
    "![](./images/19_float_layout.png)"
   ]
  },
  {
   "cell_type": "markdown",
   "metadata": {},
   "source": [
    "- codes(float_layout.py)"
   ]
  },
  {
   "cell_type": "code",
   "execution_count": null,
   "metadata": {},
   "outputs": [],
   "source": [
    "import kivy\n",
    "from kivy.app import App\n",
    "from kivy.uix.widget import Widget\n",
    "from kivy.properties import ObjectProperty\n",
    "from kivy.lang import Builder\n",
    "from kivy.core.window import Window\n",
    "# from kivy.uix.floatlayout import FloatLayout\n",
    "\n",
    "Builder.load_file('float_layout.kv')\n",
    "\n",
    "class MyLayout(Widget):\n",
    "\tpass\n",
    "\n",
    "class AwesomeApp(App):\n",
    "\tdef build(self):\n",
    "\t\tWindow.clearcolor = (1,1,1,1)\n",
    "\t\treturn MyLayout()\n",
    "\n",
    "if __name__ == '__main__':\n",
    "\tAwesomeApp().run()"
   ]
  },
  {
   "cell_type": "markdown",
   "metadata": {},
   "source": [
    "- float_layout.kv 的內容"
   ]
  },
  {
   "cell_type": "code",
   "execution_count": null,
   "metadata": {},
   "outputs": [],
   "source": [
    "<Button>\n",
    "\tfont_size: 32\n",
    "\tsize_hint: (0.3, 0.3)\n",
    "\n",
    "<MyLayout>\n",
    "\n",
    "\tFloatLayout:\n",
    "\t\tsize: root.width, root.height\n",
    "\n",
    "\n",
    "\t\tButton:\n",
    "\t\t\ttext: \"Top Left\"\n",
    "\t\t\t# {\"x\", \"y\", \"top\", \"bottom\", \"left\", \"right\"}\n",
    "\t\t\tpos_hint: {\"x\":0, \"top\":1}\n",
    "\n",
    "\t\tButton:\n",
    "\t\t\ttext: \"Top Right\"\n",
    "\t\t\tpos_hint: {\"x\":0.7, \"top\":1}\n",
    "\n",
    "\t\tButton:\n",
    "\t\t\ttext: \"Center\"\n",
    "\t\t\t# pos_hint: {\"x\": 0.35, \"top\": 0.65}\n",
    "\t\t\tpos_hint: {\"x\": 0.35, \"y\": 0.35}\n",
    "\n",
    "\t\tButton:\n",
    "\t\t\ttext: \"Bottom Left\"\n",
    "\t\t\tpos_hint: {\"x\":0}\n",
    "\n",
    "\t\tButton:\n",
    "\t\t\ttext: \"Bottom Right\"\n",
    "\t\t\tpos_hint: {\"x\":0.7, \"bottom\":1}\n"
   ]
  },
  {
   "cell_type": "markdown",
   "metadata": {},
   "source": [
    "### How To Update Labels - Python Kivy GUI Tutorial #14"
   ]
  },
  {
   "cell_type": "markdown",
   "metadata": {},
   "source": [
    "![](./images/20_update_label.png)"
   ]
  },
  {
   "cell_type": "markdown",
   "metadata": {},
   "source": [
    "- code (update_label.py)"
   ]
  },
  {
   "cell_type": "code",
   "execution_count": null,
   "metadata": {},
   "outputs": [],
   "source": [
    "import kivy\n",
    "from kivy.app import App\n",
    "from kivy.uix.widget import Widget\n",
    "from kivy.properties import ObjectProperty\n",
    "from kivy.lang import Builder\n",
    "from kivy.core.window import Window\n",
    "# from kivy.uix.floatlayout import FloatLayout\n",
    "\n",
    "Builder.load_file('update_label.kv')\n",
    "\n",
    "class MyLayout(Widget):\n",
    "\tdef press(self):\n",
    "\t\t# Create variables for our widget\n",
    "        # 善用 ids 的屬性\n",
    "\t\tname = self.ids.name_input.text\n",
    "\n",
    "\t\t# Update the label\n",
    "\t\tself.ids.name_label.text = f'Hello, {name}'\n",
    "\n",
    "\t\t# Clear Input box\n",
    "\t\tself.ids.name_input.text = ''\n",
    "\n",
    "class AwesomeApp(App):\n",
    "\tdef build(self):\n",
    "\t\treturn MyLayout()\n",
    "\n",
    "if __name__ == '__main__':\n",
    "\tAwesomeApp().run()\n"
   ]
  },
  {
   "cell_type": "markdown",
   "metadata": {},
   "source": [
    "- update_label.kv"
   ]
  },
  {
   "cell_type": "code",
   "execution_count": null,
   "metadata": {},
   "outputs": [],
   "source": [
    "<MyLayout>\n",
    "\n",
    "\tBoxLayout:\n",
    "\t\torientation: \"vertical\"\n",
    "\t\tsize: root.width, root.height\n",
    "\n",
    "\t\tLabel:\n",
    "            # 要善用 id\n",
    "\t\t\tid: name_label\n",
    "\t\t\ttext: \"What's your name?\"\n",
    "\t\t\tfont_size: 32\n",
    "\n",
    "\t\tTextInput:\n",
    "\t\t\tid: name_input\n",
    "\t\t\tmultiline: False\n",
    "\t\t\tsize_hint: (1, .5)\n",
    "\n",
    "\t\tButton:\n",
    "\t\t\tsize_hint: (1, .5)\n",
    "\t\t\tfont_size: 32\n",
    "\t\t\ttext: \"Submit\"\n",
    "\t\t\ton_press: root.press()"
   ]
  },
  {
   "cell_type": "markdown",
   "metadata": {},
   "source": [
    "### Build A Simple Calculator App - Python Kivy GUI Tutorial #15"
   ]
  },
  {
   "cell_type": "markdown",
   "metadata": {},
   "source": [
    "![](./images/21_calc.png)"
   ]
  },
  {
   "cell_type": "markdown",
   "metadata": {},
   "source": [
    "- codes(calc.py)"
   ]
  },
  {
   "cell_type": "code",
   "execution_count": null,
   "metadata": {},
   "outputs": [],
   "source": [
    "import kivy\n",
    "from kivy.app import App\n",
    "from kivy.uix.widget import Widget\n",
    "from kivy.properties import ObjectProperty\n",
    "from kivy.lang import Builder\n",
    "from kivy.core.window import Window\n",
    "\n",
    "# Set the app size\n",
    "Window.size = (500, 700)\n",
    "\n",
    "\n",
    "Builder.load_file('calc.kv')\n",
    "\n",
    "class MyLayout(Widget):\n",
    "\tdef clear(self):\n",
    "\t\tself.ids.calc_input.text = \"0\"\n",
    "\n",
    "class CalculatorApp(App):\n",
    "\tdef build(self):\n",
    "\t\treturn MyLayout()\n",
    "\n",
    "if __name__ == '__main__':\n",
    "\tCalculatorApp().run()"
   ]
  },
  {
   "cell_type": "markdown",
   "metadata": {},
   "source": [
    "- calc.kv"
   ]
  },
  {
   "cell_type": "code",
   "execution_count": null,
   "metadata": {},
   "outputs": [],
   "source": [
    "<MyLayout>\n",
    "\n",
    "\tBoxLayout:\n",
    "\t\torientation : \"vertical\"\n",
    "\t\tsize: root.width, root.height\n",
    "\n",
    "\t\tTextInput:\n",
    "\t\t\tid: calc_input\n",
    "\t\t\ttext: \"0\"\n",
    "\t\t\thalign: \"right\"\n",
    "\t\t\tfont_size: 65\n",
    "\t\t\tsize_hint: (1, .15)\n",
    "\n",
    "\t\tGridLayout:\n",
    "\t\t\tcols:4\n",
    "\t\t\trows: 5\n",
    "\n",
    "\t\t\t# row\n",
    "\t\t\tButton:\n",
    "\t\t\t\tsize_hint: (.2, .2)\n",
    "\t\t\t\tfont_size: 32\n",
    "\t\t\t\ttext: \"%\"\n",
    "\n",
    "\t\t\tButton:\n",
    "\t\t\t\tsize_hint: (.2, .2)\n",
    "\t\t\t\tfont_size: 32\n",
    "\t\t\t\ttext: \"CE\"\n",
    "\n",
    "\t\t\tButton:\n",
    "\t\t\t\tid: clear\n",
    "\t\t\t\tsize_hint: (.2, .2)\n",
    "\t\t\t\tfont_size: 32\n",
    "\t\t\t\ttext: \"C\"\n",
    "\t\t\t\ton_press: root.clear()\n",
    "\n",
    "\t\t\tButton:\n",
    "\t\t\t\tsize_hint: (.2, .2)\n",
    "\t\t\t\tfont_size: 32\n",
    "\t\t\t\ttext: \"/\"\n",
    "\n",
    "\n",
    "\t\t\t# row\n",
    "\t\t\tButton:\n",
    "\t\t\t\tsize_hint: (.2, .2)\n",
    "\t\t\t\tfont_size: 32\n",
    "\t\t\t\ttext: \"7\"\n",
    "\t\t\t\tbackground_color: (157/255, 157/255, 157/255,1)\n",
    "\n",
    "\t\t\tButton:\n",
    "\t\t\t\tsize_hint: (.2, .2)\n",
    "\t\t\t\tfont_size: 32\n",
    "\t\t\t\ttext: \"8\"\n",
    "\t\t\t\tbackground_color: (157/255, 157/255, 157/255,1)\n",
    "\n",
    "\t\t\tButton:\n",
    "\t\t\t\tsize_hint: (.2, .2)\n",
    "\t\t\t\tfont_size: 32\n",
    "\t\t\t\ttext: \"9\"\n",
    "\t\t\t\tbackground_color: (157/255, 157/255, 157/255,1)\n",
    "\n",
    "\t\t\tButton:\n",
    "\t\t\t\tsize_hint: (.2, .2)\n",
    "\t\t\t\tfont_size: 32\n",
    "\t\t\t\ttext: \"X\"\n",
    "\n",
    "\t\t\t# row\n",
    "\t\t\tButton:\n",
    "\t\t\t\tsize_hint: (.2, .2)\n",
    "\t\t\t\tfont_size: 32\n",
    "\t\t\t\ttext: \"4\"\n",
    "\t\t\t\tbackground_color: (157/255, 157/255, 157/255,1)\n",
    "\n",
    "\t\t\tButton:\n",
    "\t\t\t\tsize_hint: (.2, .2)\n",
    "\t\t\t\tfont_size: 32\n",
    "\t\t\t\ttext: \"5\"\n",
    "\t\t\t\tbackground_color: (157/255, 157/255, 157/255,1)\n",
    "\n",
    "\t\t\tButton:\n",
    "\t\t\t\tsize_hint: (.2, .2)\n",
    "\t\t\t\tfont_size: 32\n",
    "\t\t\t\ttext: \"6\"\n",
    "\t\t\t\tbackground_color: (157/255, 157/255, 157/255,1)\n",
    "\n",
    "\t\t\tButton:\n",
    "\t\t\t\tsize_hint: (.2, .2)\n",
    "\t\t\t\tfont_size: 32\n",
    "\t\t\t\ttext: \"-\"\n",
    "\n",
    "\t\t\t# row\n",
    "\t\t\tButton:\n",
    "\t\t\t\tsize_hint: (.2, .2)\n",
    "\t\t\t\tfont_size: 32\n",
    "\t\t\t\ttext: \"1\"\n",
    "\t\t\t\tbackground_color: (157/255, 157/255, 157/255,1)\n",
    "\n",
    "\t\t\tButton:\n",
    "\t\t\t\tsize_hint: (.2, .2)\n",
    "\t\t\t\tfont_size: 32\n",
    "\t\t\t\ttext: \"2\"\n",
    "\t\t\t\tbackground_color: (157/255, 157/255, 157/255,1)\n",
    "\n",
    "\t\t\tButton:\n",
    "\t\t\t\tsize_hint: (.2, .2)\n",
    "\t\t\t\tfont_size: 32\n",
    "\t\t\t\ttext: \"3\"\n",
    "\t\t\t\tbackground_color: (157/255, 157/255, 157/255,1)\n",
    "\n",
    "\t\t\tButton:\n",
    "\t\t\t\tsize_hint: (.2, .2)\n",
    "\t\t\t\tfont_size: 32\n",
    "\t\t\t\ttext: \"+\"\n",
    "\n",
    "\t\t\t#row\t\n",
    "\t\t\tButton:\n",
    "\t\t\t\tsize_hint: (.2, .2)\n",
    "\t\t\t\tfont_size: 32\n",
    "\t\t\t\ttext: \"+/-\"\n",
    "\t\t\t\tbackground_color: (157/255, 157/255, 157/255,1)\n",
    "\n",
    "\t\t\tButton:\n",
    "\t\t\t\tsize_hint: (.2, .2)\n",
    "\t\t\t\tfont_size: 32\n",
    "\t\t\t\ttext: \"0\"\n",
    "\t\t\t\tbackground_color: (157/255, 157/255, 157/255,1)\n",
    "\n",
    "\t\t\tButton:\n",
    "\t\t\t\tsize_hint: (.2, .2)\n",
    "\t\t\t\tfont_size: 32\n",
    "\t\t\t\ttext: \".\"\n",
    "\t\t\t\tbackground_color: (157/255, 157/255, 157/255,1)\n",
    "\n",
    "\t\t\tButton:\n",
    "\t\t\t\tsize_hint: (.2, .2)\n",
    "\t\t\t\tfont_size: 32\n",
    "\t\t\t\ttext: \"=\""
   ]
  },
  {
   "cell_type": "markdown",
   "metadata": {},
   "source": [
    "### Calculator Addition Function - Python Kivy GUI Tutorial #16"
   ]
  },
  {
   "cell_type": "markdown",
   "metadata": {},
   "source": [
    "- codes (calc.py)"
   ]
  },
  {
   "cell_type": "code",
   "execution_count": null,
   "metadata": {},
   "outputs": [],
   "source": [
    "import kivy\n",
    "from kivy.app import App\n",
    "from kivy.uix.widget import Widget\n",
    "from kivy.properties import ObjectProperty\n",
    "from kivy.lang import Builder\n",
    "from kivy.core.window import Window\n",
    "\n",
    "# Set the app size\n",
    "Window.size = (500, 700)\n",
    "\n",
    "\n",
    "Builder.load_file('calc.kv')\n",
    "\n",
    "class MyLayout(Widget):\n",
    "\tdef clear(self):\n",
    "\t\tself.ids.calc_input.text = \"0\"\n",
    "\n",
    "\t# Create a button pressing function\n",
    "\tdef button_press(self, button):\n",
    "\t\t# create a variable that contains whatever\n",
    "\t\tprior = self.ids.calc_input.text\n",
    "\n",
    "\t\t# determine if 0 is sitting there\n",
    "\t\tif prior == \"0\":\n",
    "\t\t\tself.ids.calc_input.text = ''\n",
    "\t\t\tself.ids.calc_input.text = f'{button}'\n",
    "\t\telse:\n",
    "\t\t\tself.ids.calc_input.text = f'{prior}{button}'\n",
    "\n",
    "\t# Create addition function\n",
    "\tdef add(self):\n",
    "\t# create a variable that contains whatever\n",
    "\t\tprior = self.ids.calc_input.text\n",
    "\n",
    "\t# slap a plus sign to the text\n",
    "\t\tself.ids.calc_input.text = f'{prior}+'\n",
    "\n",
    "\t# Create subtract function\n",
    "\tdef subtract(self):\n",
    "\t# create a variable that contains whatever\n",
    "\t\tprior = self.ids.calc_input.text\n",
    "\n",
    "\t# slap a plus sign to the text\n",
    "\t\tself.ids.calc_input.text = f'{prior}-'\n",
    "\n",
    "\t# Create multiply function\n",
    "\tdef multiply(self):\n",
    "\t# create a variable that contains whatever\n",
    "\t\tprior = self.ids.calc_input.text\n",
    "\n",
    "\t# slap a plus sign to the text\n",
    "\t\tself.ids.calc_input.text = f'{prior}*'\n",
    "\n",
    "\t# Create divide function\n",
    "\tdef divide(self):\n",
    "\t# create a variable that contains whatever\n",
    "\t\tprior = self.ids.calc_input.text\n",
    "\n",
    "\t# slap a plus sign to the text\n",
    "\t\tself.ids.calc_input.text = f'{prior}/'\n",
    "\n",
    "\t# Create equals to  function\n",
    "\tdef equals(self):\n",
    "\t# create a variable that contains whatever\n",
    "\t\tprior = self.ids.calc_input.text\n",
    "\n",
    "\t\t# Additon\n",
    "\t\tif \"+\" in prior:\n",
    "\t\t\tnum_list = prior.split(\"+\")\n",
    "\t\t\tanswer = 0\n",
    "\t\t\t# loop thru our list\n",
    "\t\t\tfor number in num_list:\n",
    "\t\t\t\tanswer = answer + int(number)\n",
    "\n",
    "\t\t\t# print the anser in the text box\n",
    "\t\t\tself.ids.calc_input.text = str(answer)\n",
    "\n",
    "class CalculatorApp(App):\n",
    "\tdef build(self):\n",
    "\t\treturn MyLayout()\n",
    "\n",
    "if __name__ == '__main__':\n",
    "\tCalculatorApp().run()\n",
    "\n"
   ]
  },
  {
   "cell_type": "markdown",
   "metadata": {},
   "source": [
    "- calc.kv"
   ]
  },
  {
   "cell_type": "markdown",
   "metadata": {},
   "source": [
    "<MyLayout>\n",
    "\n",
    "\tBoxLayout:\n",
    "\t\torientation : \"vertical\"\n",
    "\t\tsize: root.width, root.height\n",
    "\n",
    "\t\tTextInput:\n",
    "\t\t\tid: calc_input\n",
    "\t\t\ttext: \"0\"\n",
    "\t\t\thalign: \"right\"\n",
    "\t\t\tfont_size: 65\n",
    "\t\t\tsize_hint: (1, .15)\n",
    "\n",
    "\t\tGridLayout:\n",
    "\t\t\tcols:4\n",
    "\t\t\trows: 5\n",
    "\n",
    "\t\t\t# row\n",
    "\t\t\tButton:\n",
    "\t\t\t\tsize_hint: (.2, .2)\n",
    "\t\t\t\tfont_size: 32\n",
    "\t\t\t\ttext: \"%\"\n",
    "\n",
    "\t\t\tButton:\n",
    "\t\t\t\tsize_hint: (.2, .2)\n",
    "\t\t\t\tfont_size: 32\n",
    "\t\t\t\ttext: \"CE\"\n",
    "\n",
    "\t\t\tButton:\n",
    "\t\t\t\tid: clear\n",
    "\t\t\t\tsize_hint: (.2, .2)\n",
    "\t\t\t\tfont_size: 32\n",
    "\t\t\t\ttext: \"C\"\n",
    "\t\t\t\ton_press: root.clear()\n",
    "\n",
    "\t\t\tButton:\n",
    "\t\t\t\tsize_hint: (.2, .2)\n",
    "\t\t\t\tfont_size: 32\n",
    "\t\t\t\ttext: \"/\"\n",
    "\t\t\t\ton_press: root.divide()\n",
    "\n",
    "\n",
    "\t\t\t# row\n",
    "\t\t\tButton:\n",
    "\t\t\t\tsize_hint: (.2, .2)\n",
    "\t\t\t\tfont_size: 32\n",
    "\t\t\t\ttext: \"7\"\n",
    "\t\t\t\tbackground_color: (157/255, 157/255, 157/255,1)\n",
    "\t\t\t\ton_press: root.button_press(7)\n",
    "\n",
    "\t\t\tButton:\n",
    "\t\t\t\tsize_hint: (.2, .2)\n",
    "\t\t\t\tfont_size: 32\n",
    "\t\t\t\ttext: \"8\"\n",
    "\t\t\t\tbackground_color: (157/255, 157/255, 157/255,1)\n",
    "\t\t\t\ton_press: root.button_press(8)\n",
    "\n",
    "\t\t\tButton:\n",
    "\t\t\t\tsize_hint: (.2, .2)\n",
    "\t\t\t\tfont_size: 32\n",
    "\t\t\t\ttext: \"9\"\n",
    "\t\t\t\tbackground_color: (157/255, 157/255, 157/255,1)\n",
    "\t\t\t\ton_press: root.button_press(9)\n",
    "\n",
    "\t\t\tButton:\n",
    "\t\t\t\tsize_hint: (.2, .2)\n",
    "\t\t\t\tfont_size: 32\n",
    "\t\t\t\ttext: \"*\"\n",
    "\t\t\t\ton_press: root.multiply()\n",
    "\n",
    "\t\t\t# row\n",
    "\t\t\tButton:\n",
    "\t\t\t\tsize_hint: (.2, .2)\n",
    "\t\t\t\tfont_size: 32\n",
    "\t\t\t\ttext: \"4\"\n",
    "\t\t\t\tbackground_color: (157/255, 157/255, 157/255,1)\n",
    "\t\t\t\ton_press: root.button_press(4)\n",
    "\n",
    "\t\t\tButton:\n",
    "\t\t\t\tsize_hint: (.2, .2)\n",
    "\t\t\t\tfont_size: 32\n",
    "\t\t\t\ttext: \"5\"\n",
    "\t\t\t\tbackground_color: (157/255, 157/255, 157/255,1)\n",
    "\t\t\t\ton_press: root.button_press(5)\n",
    "\n",
    "\t\t\tButton:\n",
    "\t\t\t\tsize_hint: (.2, .2)\n",
    "\t\t\t\tfont_size: 32\n",
    "\t\t\t\ttext: \"6\"\n",
    "\t\t\t\tbackground_color: (157/255, 157/255, 157/255,1)\n",
    "\t\t\t\ton_press: root.button_press(6)\n",
    "\n",
    "\t\t\tButton:\n",
    "\t\t\t\tsize_hint: (.2, .2)\n",
    "\t\t\t\tfont_size: 32\n",
    "\t\t\t\ttext: \"-\"\n",
    "\t\t\t\ton_press: root.subtract()\n",
    "\n",
    "\t\t\t# row\n",
    "\t\t\tButton:\n",
    "\t\t\t\tsize_hint: (.2, .2)\n",
    "\t\t\t\tfont_size: 32\n",
    "\t\t\t\ttext: \"1\"\n",
    "\t\t\t\tbackground_color: (157/255, 157/255, 157/255,1)\n",
    "\t\t\t\ton_press: root.button_press(1)\n",
    "\n",
    "\t\t\tButton:\n",
    "\t\t\t\tsize_hint: (.2, .2)\n",
    "\t\t\t\tfont_size: 32\n",
    "\t\t\t\ttext: \"2\"\n",
    "\t\t\t\tbackground_color: (157/255, 157/255, 157/255,1)\n",
    "\t\t\t\ton_press: root.button_press(2)\n",
    "\n",
    "\t\t\tButton:\n",
    "\t\t\t\tsize_hint: (.2, .2)\n",
    "\t\t\t\tfont_size: 32\n",
    "\t\t\t\ttext: \"3\"\n",
    "\t\t\t\tbackground_color: (157/255, 157/255, 157/255,1)\n",
    "\t\t\t\ton_press: root.button_press(3)\n",
    "\n",
    "\t\t\tButton:\n",
    "\t\t\t\tsize_hint: (.2, .2)\n",
    "\t\t\t\tfont_size: 32\n",
    "\t\t\t\ttext: \"+\"\n",
    "\t\t\t\ton_press: root.add()\n",
    "\n",
    "\t\t\t#row\t\n",
    "\t\t\tButton:\n",
    "\t\t\t\tsize_hint: (.2, .2)\n",
    "\t\t\t\tfont_size: 32\n",
    "\t\t\t\ttext: \"+/-\"\n",
    "\t\t\t\tbackground_color: (157/255, 157/255, 157/255,1)\n",
    "\n",
    "\t\t\tButton:\n",
    "\t\t\t\tsize_hint: (.2, .2)\n",
    "\t\t\t\tfont_size: 32\n",
    "\t\t\t\ttext: \"0\"\n",
    "\t\t\t\tbackground_color: (157/255, 157/255, 157/255,1)\n",
    "\t\t\t\ton_press: root.button_press(0)\n",
    "\n",
    "\t\t\tButton:\n",
    "\t\t\t\tsize_hint: (.2, .2)\n",
    "\t\t\t\tfont_size: 32\n",
    "\t\t\t\ttext: \".\"\n",
    "\t\t\t\tbackground_color: (157/255, 157/255, 157/255,1)\n",
    "\n",
    "\t\t\tButton:\n",
    "\t\t\t\tsize_hint: (.2, .2)\n",
    "\t\t\t\tfont_size: 32\n",
    "\t\t\t\ttext: \"=\"\n",
    "\t\t\t\ton_press: root.equals()\n"
   ]
  },
  {
   "cell_type": "markdown",
   "metadata": {},
   "source": [
    "### Secondary Calculator Button Functions - Python Kivy GUI Tutorial #17"
   ]
  },
  {
   "cell_type": "markdown",
   "metadata": {},
   "source": [
    "- code (clac.py)"
   ]
  },
  {
   "cell_type": "code",
   "execution_count": null,
   "metadata": {},
   "outputs": [],
   "source": [
    "import kivy\n",
    "from kivy.app import App\n",
    "from kivy.uix.widget import Widget\n",
    "from kivy.properties import ObjectProperty\n",
    "from kivy.lang import Builder\n",
    "from kivy.core.window import Window\n",
    "\n",
    "# Set the app size\n",
    "Window.size = (500, 700)\n",
    "\n",
    "\n",
    "Builder.load_file('calc.kv')\n",
    "\n",
    "class MyLayout(Widget):\n",
    "\tdef clear(self):\n",
    "\t\tself.ids.calc_input.text = \"0\"\n",
    "\n",
    "\t# Create a button pressing function\n",
    "\tdef button_press(self, button):\n",
    "\t\t# create a variable that contains whatever\n",
    "\t\tprior = self.ids.calc_input.text\n",
    "\n",
    "\t\t# determine if 0 is sitting there\n",
    "\t\tif prior == \"0\":\n",
    "\t\t\tself.ids.calc_input.text = ''\n",
    "\t\t\tself.ids.calc_input.text = f'{button}'\n",
    "\t\telse:\n",
    "\t\t\tself.ids.calc_input.text = f'{prior}{button}'\n",
    "\n",
    "\t# Create addition function\n",
    "\tdef math_sign(self, sign):\n",
    "\t# create a variable that contains whatever\n",
    "\t\tprior = self.ids.calc_input.text\n",
    "\n",
    "\t# slap a plus sign to the text\n",
    "\t\tself.ids.calc_input.text = f'{prior}{sign}'\n",
    "\n",
    "\t# Create Function to remove last character in text box\n",
    "\tdef remove(self):\n",
    "\t\tprior = self.ids.calc_input.text\n",
    "\t\t# Remove The last item in the textbox\n",
    "\t\tprior = prior[: -1]\n",
    "\t\t# Output back to the textbox\n",
    "\t\tself.ids.calc_input.text = prior\n",
    "\n",
    "\t# Create function to make text box positive or negative\n",
    "\tdef pos_neg(self):\n",
    "\t\tprior = self.ids.calc_input.text\n",
    "\t\t# Test to see if there's a - sign already\n",
    "\t\tif '-' in prior:\n",
    "\t\t\tself.ids.calc_input.text = f'{prior.replace(\"-\", \"\")}'\n",
    "\t\telse:\n",
    "\t\t\tself.ids.calc_input.text = f'-{prior}'\n",
    "\n",
    "\n",
    "\n",
    "\n",
    "\n",
    "\t# Create decimal function\n",
    "\tdef dot(self):\n",
    "\t\tprior = self.ids.calc_input.text\n",
    "\t\t# Add a decimal to the end of the text\n",
    "\n",
    "\t\tif \".\" in prior:\n",
    "\t\t\tpass\n",
    "\t\telse:\n",
    "\t\t\tprior = f'{prior}.'\n",
    "\t\t\t# Output back to the text box\n",
    "\t\t\tself.ids.calc_input.text = prior\n",
    "\n",
    "\n",
    "\t# Create equals to  function\n",
    "\tdef equals(self):\n",
    "\t# create a variable that contains whatever\n",
    "\t\tprior = self.ids.calc_input.text\n",
    "\n",
    "\t\t# Additon\n",
    "\t\tif \"+\" in prior:\n",
    "\t\t\tnum_list = prior.split(\"+\")\n",
    "\t\t\tanswer = 0.0\n",
    "\t\t\t# loop thru our list\n",
    "\t\t\tfor number in num_list:\n",
    "\t\t\t\tanswer = answer + float(number)\n",
    "\n",
    "\t\t\t# print the anser in the text box\n",
    "\t\t\tself.ids.calc_input.text = str(answer)\n",
    "\n",
    "class CalculatorApp(App):\n",
    "\tdef build(self):\n",
    "\t\treturn MyLayout()\n",
    "\n",
    "if __name__ == '__main__':\n",
    "\tCalculatorApp().run()"
   ]
  },
  {
   "cell_type": "markdown",
   "metadata": {},
   "source": [
    "- calc.kv"
   ]
  },
  {
   "cell_type": "code",
   "execution_count": null,
   "metadata": {},
   "outputs": [],
   "source": [
    "<MyLayout>\n",
    "\n",
    "\tBoxLayout:\n",
    "\t\torientation : \"vertical\"\n",
    "\t\tsize: root.width, root.height\n",
    "\n",
    "\t\tTextInput:\n",
    "\t\t\tid: calc_input\n",
    "\t\t\ttext: \"0\"\n",
    "\t\t\thalign: \"right\"\n",
    "\t\t\tfont_size: 65\n",
    "\t\t\tsize_hint: (1, .15)\n",
    "\n",
    "\t\tGridLayout:\n",
    "\t\t\tcols:4\n",
    "\t\t\trows: 5\n",
    "\n",
    "\t\t\t# row\n",
    "\t\t\tButton:\n",
    "\t\t\t\tsize_hint: (.2, .2)\n",
    "\t\t\t\tfont_size: 32\n",
    "\t\t\t\ttext: \"%\"\n",
    "\n",
    "\t\t\tButton:\n",
    "\t\t\t\tsize_hint: (.2, .2)\n",
    "\t\t\t\tfont_size: 32\n",
    "\t\t\t\ttext: \"C\"\n",
    "\n",
    "\t\t\tButton:\n",
    "\t\t\t\tid: clear\n",
    "\t\t\t\tsize_hint: (.2, .2)\n",
    "\t\t\t\tfont_size: 32\n",
    "\t\t\t\ttext: u\"\\u00AB\"\n",
    "\t\t\t\ton_press: root.remove()\n",
    "\n",
    "\t\t\tButton:\n",
    "\t\t\t\tsize_hint: (.2, .2)\n",
    "\t\t\t\tfont_size: 32\n",
    "\t\t\t\ttext: \"/\"\n",
    "\t\t\t\ton_press: root.math_sign('/')\n",
    "\n",
    "\n",
    "\t\t\t# row\n",
    "\t\t\tButton:\n",
    "\t\t\t\tsize_hint: (.2, .2)\n",
    "\t\t\t\tfont_size: 32\n",
    "\t\t\t\ttext: \"7\"\n",
    "\t\t\t\tbackground_color: (157/255, 157/255, 157/255,1)\n",
    "\t\t\t\ton_press: root.button_press(7)\n",
    "\n",
    "\t\t\tButton:\n",
    "\t\t\t\tsize_hint: (.2, .2)\n",
    "\t\t\t\tfont_size: 32\n",
    "\t\t\t\ttext: \"8\"\n",
    "\t\t\t\tbackground_color: (157/255, 157/255, 157/255,1)\n",
    "\t\t\t\ton_press: root.button_press(8)\n",
    "\n",
    "\t\t\tButton:\n",
    "\t\t\t\tsize_hint: (.2, .2)\n",
    "\t\t\t\tfont_size: 32\n",
    "\t\t\t\ttext: \"9\"\n",
    "\t\t\t\tbackground_color: (157/255, 157/255, 157/255,1)\n",
    "\t\t\t\ton_press: root.button_press(9)\n",
    "\n",
    "\t\t\tButton:\n",
    "\t\t\t\tsize_hint: (.2, .2)\n",
    "\t\t\t\tfont_size: 32\n",
    "\t\t\t\ttext: \"*\"\n",
    "\t\t\t\ton_press:  root.math_sign('*')\n",
    "\t\t\t# row\n",
    "\t\t\tButton:\n",
    "\t\t\t\tsize_hint: (.2, .2)\n",
    "\t\t\t\tfont_size: 32\n",
    "\t\t\t\ttext: \"4\"\n",
    "\t\t\t\tbackground_color: (157/255, 157/255, 157/255,1)\n",
    "\t\t\t\ton_press: root.button_press(4)\n",
    "\n",
    "\t\t\tButton:\n",
    "\t\t\t\tsize_hint: (.2, .2)\n",
    "\t\t\t\tfont_size: 32\n",
    "\t\t\t\ttext: \"5\"\n",
    "\t\t\t\tbackground_color: (157/255, 157/255, 157/255,1)\n",
    "\t\t\t\ton_press: root.button_press(5)\n",
    "\n",
    "\t\t\tButton:\n",
    "\t\t\t\tsize_hint: (.2, .2)\n",
    "\t\t\t\tfont_size: 32\n",
    "\t\t\t\ttext: \"6\"\n",
    "\t\t\t\tbackground_color: (157/255, 157/255, 157/255,1)\n",
    "\t\t\t\ton_press: root.button_press(6)\n",
    "\n",
    "\t\t\tButton:\n",
    "\t\t\t\tsize_hint: (.2, .2)\n",
    "\t\t\t\tfont_size: 32\n",
    "\t\t\t\ttext: \"-\"\n",
    "\t\t\t\ton_press:  root.math_sign('-')\n",
    "\n",
    "\t\t\t# row\n",
    "\t\t\tButton:\n",
    "\t\t\t\tsize_hint: (.2, .2)\n",
    "\t\t\t\tfont_size: 32\n",
    "\t\t\t\ttext: \"1\"\n",
    "\t\t\t\tbackground_color: (157/255, 157/255, 157/255,1)\n",
    "\t\t\t\ton_press: root.button_press(1)\n",
    "\n",
    "\t\t\tButton:\n",
    "\t\t\t\tsize_hint: (.2, .2)\n",
    "\t\t\t\tfont_size: 32\n",
    "\t\t\t\ttext: \"2\"\n",
    "\t\t\t\tbackground_color: (157/255, 157/255, 157/255,1)\n",
    "\t\t\t\ton_press: root.button_press(2)\n",
    "\n",
    "\t\t\tButton:\n",
    "\t\t\t\tsize_hint: (.2, .2)\n",
    "\t\t\t\tfont_size: 32\n",
    "\t\t\t\ttext: \"3\"\n",
    "\t\t\t\tbackground_color: (157/255, 157/255, 157/255,1)\n",
    "\t\t\t\ton_press: root.button_press(3)\n",
    "\n",
    "\t\t\tButton:\n",
    "\t\t\t\tsize_hint: (.2, .2)\n",
    "\t\t\t\tfont_size: 32\n",
    "\t\t\t\ttext: \"+\"\n",
    "\t\t\t\ton_press:  root.math_sign('+')\n",
    "\n",
    "\t\t\t#row\t\n",
    "\t\t\tButton:\n",
    "\t\t\t\tsize_hint: (.2, .2)\n",
    "\t\t\t\tfont_size: 32\n",
    "\t\t\t\ttext: \"+/-\"\n",
    "\t\t\t\tbackground_color: (157/255, 157/255, 157/255,1)\n",
    "\t\t\t\ton_press: root.pos_neg()\n",
    "\n",
    "\t\t\tButton:\n",
    "\t\t\t\tsize_hint: (.2, .2)\n",
    "\t\t\t\tfont_size: 32\n",
    "\t\t\t\ttext: \"0\"\n",
    "\t\t\t\tbackground_color: (157/255, 157/255, 157/255,1)\n",
    "\t\t\t\ton_press: root.button_press(0)\n",
    "\n",
    "\t\t\tButton:\n",
    "\t\t\t\tsize_hint: (.2, .2)\n",
    "\t\t\t\tfont_size: 32\n",
    "\t\t\t\ttext: \".\"\n",
    "\t\t\t\tbackground_color: (157/255, 157/255, 157/255,1)\n",
    "\t\t\t\ton_press: root.dot()\n",
    "\n",
    "\t\t\tButton:\n",
    "\t\t\t\tsize_hint: (.2, .2)\n",
    "\t\t\t\tfont_size: 32\n",
    "\t\t\t\ttext: \"=\"\n",
    "\t\t\t\ton_press: root.equals()\n"
   ]
  },
  {
   "cell_type": "markdown",
   "metadata": {},
   "source": [
    "### Fix Our Decimal Calculator Problem - Python Kivy GUI Tutorial #18"
   ]
  },
  {
   "cell_type": "markdown",
   "metadata": {},
   "source": [
    "- calc.py"
   ]
  },
  {
   "cell_type": "code",
   "execution_count": null,
   "metadata": {},
   "outputs": [],
   "source": [
    "import kivy\n",
    "from kivy.app import App\n",
    "from kivy.uix.widget import Widget\n",
    "from kivy.properties import ObjectProperty\n",
    "from kivy.lang import Builder\n",
    "from kivy.core.window import Window\n",
    "\n",
    "# Set the app size\n",
    "Window.size = (500, 700)\n",
    "\n",
    "\n",
    "Builder.load_file('calc.kv')\n",
    "\n",
    "class MyLayout(Widget):\n",
    "\tdef clear(self):\n",
    "\t\tself.ids.calc_input.text = \"0\"\n",
    "\n",
    "\t# Create a button pressing function\n",
    "\tdef button_press(self, button):\n",
    "\t\t# create a variable that contains whatever\n",
    "\t\tprior = self.ids.calc_input.text\n",
    "\n",
    "\t\t# determine if 0 is sitting there\n",
    "\t\tif prior == \"0\":\n",
    "\t\t\tself.ids.calc_input.text = ''\n",
    "\t\t\tself.ids.calc_input.text = f'{button}'\n",
    "\t\telse:\n",
    "\t\t\tself.ids.calc_input.text = f'{prior}{button}'\n",
    "\n",
    "\t# Create addition function\n",
    "\tdef math_sign(self, sign):\n",
    "\t# create a variable that contains whatever\n",
    "\t\tprior = self.ids.calc_input.text\n",
    "\n",
    "\t# slap a plus sign to the text\n",
    "\t\tself.ids.calc_input.text = f'{prior}{sign}'\n",
    "\n",
    "\t# Create Function to remove last character in text box\n",
    "\tdef remove(self):\n",
    "\t\tprior = self.ids.calc_input.text\n",
    "\t\t# Remove The last item in the textbox\n",
    "\t\tprior = prior[: -1]\n",
    "\t\t# Output back to the textbox\n",
    "\t\tself.ids.calc_input.text = prior\n",
    "\n",
    "\t# Create function to make text box positive or negative\n",
    "\tdef pos_neg(self):\n",
    "\t\tprior = self.ids.calc_input.text\n",
    "\t\t# Test to see if there's a - sign already\n",
    "\t\tif '-' in prior:\n",
    "\t\t\tself.ids.calc_input.text = f'{prior.replace(\"-\", \"\")}'\n",
    "\t\telse:\n",
    "\t\t\tself.ids.calc_input.text = f'-{prior}'\n",
    "\n",
    "\t# Create decimal function\n",
    "\tdef dot(self):\n",
    "\t\tprior = self.ids.calc_input.text\n",
    "\t\t# Split out text box by +\n",
    "\t\tnum_list = prior.split(\"+\")\n",
    "\n",
    "\t\tif \"+\" in prior and \".\" not in num_list[-1]:\n",
    "\t\t\tprior = f'{prior}.'\n",
    "\t\t\t# Output back to the text box\n",
    "\t\t\tself.ids.calc_input.text = prior\n",
    "\n",
    "\t\telif \".\" in prior:\n",
    "\t\t\tpass\n",
    "\t\telse:\n",
    "\t\t\tprior = f'{prior}.'\n",
    "\t\t\t# Output back to the text box\n",
    "\t\t\tself.ids.calc_input.text = prior\n",
    "\n",
    "\t# Create equals to  function\n",
    "\tdef equals(self):\n",
    "\t\t# create a variable that contains whatever\n",
    "\t\tprior = self.ids.calc_input.text\n",
    "\n",
    "\t\t# Additon\n",
    "\t\tif \"+\" in prior:\n",
    "\t\t\tnum_list = prior.split(\"+\")\n",
    "\t\t\tanswer = 0.0\n",
    "\t\t\t# loop thru our list\n",
    "\t\t\tfor number in num_list:\n",
    "\t\t\t\tanswer = answer + float(number)\n",
    "\n",
    "\t\t\t# print the anser in the text box\n",
    "\t\t\tself.ids.calc_input.text = str(answer)\n",
    "\n",
    "class CalculatorApp(App):\n",
    "\tdef build(self):\n",
    "\t\treturn MyLayout()\n",
    "\n",
    "if __name__ == '__main__':\n",
    "\tCalculatorApp().run()"
   ]
  },
  {
   "cell_type": "markdown",
   "metadata": {},
   "source": [
    "- calc.kv 沒變"
   ]
  },
  {
   "cell_type": "markdown",
   "metadata": {},
   "source": [
    "### Math Calculator Buttons With eval() - Python Kivy GUI Tutorial #19"
   ]
  },
  {
   "cell_type": "markdown",
   "metadata": {},
   "source": [
    "- calc.py"
   ]
  },
  {
   "cell_type": "code",
   "execution_count": null,
   "metadata": {},
   "outputs": [],
   "source": [
    "import kivy\n",
    "from kivy.app import App\n",
    "from kivy.uix.widget import Widget\n",
    "from kivy.properties import ObjectProperty\n",
    "from kivy.lang import Builder\n",
    "from kivy.core.window import Window\n",
    "\n",
    "# Set the app size\n",
    "Window.size = (500, 700)\n",
    "\n",
    "\n",
    "Builder.load_file('calc.kv')\n",
    "\n",
    "class MyLayout(Widget):\n",
    "\tdef clear(self):\n",
    "\t\tself.ids.calc_input.text = \"0\"\n",
    "\n",
    "\t# Create a button pressing function\n",
    "\tdef button_press(self, button):\n",
    "\t\t# create a variable that contains whatever\n",
    "\t\tprior = self.ids.calc_input.text\n",
    "\n",
    "\t\t# Test for error first\n",
    "\t\tif \"Error\" in prior:\n",
    "\t\t\tprior = ''\n",
    "\n",
    "\t\t# determine if 0 is sitting there\n",
    "\t\tif prior == \"0\":\n",
    "\t\t\tself.ids.calc_input.text = ''\n",
    "\t\t\tself.ids.calc_input.text = f'{button}'\n",
    "\t\telse:\n",
    "\t\t\tself.ids.calc_input.text = f'{prior}{button}'\n",
    "\n",
    "\t# Create addition function\n",
    "\tdef math_sign(self, sign):\n",
    "\t# create a variable that contains whatever\n",
    "\t\tprior = self.ids.calc_input.text\n",
    "\n",
    "\t# slap a plus sign to the text\n",
    "\t\tself.ids.calc_input.text = f'{prior}{sign}'\n",
    "\n",
    "\t# Create Function to remove last character in text box\n",
    "\tdef remove(self):\n",
    "\t\tprior = self.ids.calc_input.text\n",
    "\t\t# Remove The last item in the textbox\n",
    "\t\tprior = prior[: -1]\n",
    "\t\t# Output back to the textbox\n",
    "\t\tself.ids.calc_input.text = prior\n",
    "\n",
    "\t# Create function to make text box positive or negative\n",
    "\tdef pos_neg(self):\n",
    "\t\tprior = self.ids.calc_input.text\n",
    "\t\t# Test to see if there's a - sign already\n",
    "\t\tif '-' in prior:\n",
    "\t\t\tself.ids.calc_input.text = f'{prior.replace(\"-\", \"\")}'\n",
    "\t\telse:\n",
    "\t\t\tself.ids.calc_input.text = f'-{prior}'\n",
    "\n",
    "\t# Create decimal function\n",
    "\tdef dot(self):\n",
    "\t\tprior = self.ids.calc_input.text\n",
    "\t\t# Split out text box by +\n",
    "\t\tnum_list = prior.split(\"+\")\n",
    "\n",
    "\t\tif \"+\" in prior and \".\" not in num_list[-1]:\n",
    "\t\t\tprior = f'{prior}.'\n",
    "\t\t\t# Output back to the text box\n",
    "\t\t\tself.ids.calc_input.text = prior\n",
    "\n",
    "\t\telif \".\" in prior:\n",
    "\t\t\tpass\n",
    "\t\telse:\n",
    "\t\t\tprior = f'{prior}.'\n",
    "\t\t\t# Output back to the text box\n",
    "\t\t\tself.ids.calc_input.text = prior\n",
    "\n",
    "\t# Create equals to  function\n",
    "\tdef equals(self):\n",
    "\t\t# create a variable that contains whatever\n",
    "\t\tprior = self.ids.calc_input.text\n",
    "\t\t# Error Handling\n",
    "\t\ttry:\n",
    "\t\t\t# Evaluate the math from the text box\n",
    "\t\t\tanswer = eval(prior)\n",
    "\t\t\t# Output the answer\n",
    "\t\t\tself.ids.calc_input.text = str(answer)\n",
    "\t\texcept:\n",
    "\t\t\tself.ids.calc_input.text = \"Error\"\n",
    "\t\t\"\"\"\n",
    "\t\t# Additon\n",
    "\t\tif \"+\" in prior:\n",
    "\t\t\tnum_list = prior.split(\"+\")\n",
    "\t\t\tanswer = 0.0\n",
    "\t\t\t# loop thru our list\n",
    "\t\t\tfor number in num_list:\n",
    "\t\t\t\tanswer = answer + float(number)\n",
    "\n",
    "\t\t\t# print the anser in the text box\n",
    "\t\t\tself.ids.calc_input.text = str(answer)\n",
    "\t\t\"\"\"\n",
    "\n",
    "class CalculatorApp(App):\n",
    "\tdef build(self):\n",
    "\t\treturn MyLayout()\n",
    "\n",
    "if __name__ == '__main__':\n",
    "\tCalculatorApp().run()"
   ]
  },
  {
   "cell_type": "markdown",
   "metadata": {},
   "source": [
    "- calc.kv"
   ]
  },
  {
   "cell_type": "code",
   "execution_count": null,
   "metadata": {},
   "outputs": [],
   "source": [
    "<MyLayout>\n",
    "\n",
    "\tBoxLayout:\n",
    "\t\torientation : \"vertical\"\n",
    "\t\tsize: root.width, root.height\n",
    "\n",
    "\t\tTextInput:\n",
    "\t\t\tid: calc_input\n",
    "\t\t\ttext: \"0\"\n",
    "\t\t\thalign: \"right\"\n",
    "\t\t\tfont_size: 65\n",
    "\t\t\tsize_hint: (1, .15)\n",
    "\n",
    "\t\tGridLayout:\n",
    "\t\t\tcols:4\n",
    "\t\t\trows: 5\n",
    "\n",
    "\t\t\t# row\n",
    "\t\t\tButton:\n",
    "\t\t\t\tsize_hint: (.2, .2)\n",
    "\t\t\t\tfont_size: 32\n",
    "\t\t\t\ttext: \"%\"\n",
    "\n",
    "\t\t\tButton:\n",
    "\t\t\t\tsize_hint: (.2, .2)\n",
    "\t\t\t\tfont_size: 32\n",
    "\t\t\t\ttext: \"C\"\n",
    "\n",
    "\t\t\tButton:\n",
    "\t\t\t\tid: clear\n",
    "\t\t\t\tsize_hint: (.2, .2)\n",
    "\t\t\t\tfont_size: 32\n",
    "\t\t\t\ttext: u\"\\u00AB\"\n",
    "\t\t\t\ton_press: root.remove()\n",
    "\n",
    "\t\t\tButton:\n",
    "\t\t\t\tsize_hint: (.2, .2)\n",
    "\t\t\t\tfont_size: 32\n",
    "\t\t\t\ttext: \"/\"\n",
    "\t\t\t\ton_press: root.math_sign('/')\n",
    "\n",
    "\n",
    "\t\t\t# row\n",
    "\t\t\tButton:\n",
    "\t\t\t\tsize_hint: (.2, .2)\n",
    "\t\t\t\tfont_size: 32\n",
    "\t\t\t\ttext: \"7\"\n",
    "\t\t\t\tbackground_color: (157/255, 157/255, 157/255,1)\n",
    "\t\t\t\ton_press: root.button_press(7)\n",
    "\n",
    "\t\t\tButton:\n",
    "\t\t\t\tsize_hint: (.2, .2)\n",
    "\t\t\t\tfont_size: 32\n",
    "\t\t\t\ttext: \"8\"\n",
    "\t\t\t\tbackground_color: (157/255, 157/255, 157/255,1)\n",
    "\t\t\t\ton_press: root.button_press(8)\n",
    "\n",
    "\t\t\tButton:\n",
    "\t\t\t\tsize_hint: (.2, .2)\n",
    "\t\t\t\tfont_size: 32\n",
    "\t\t\t\ttext: \"9\"\n",
    "\t\t\t\tbackground_color: (157/255, 157/255, 157/255,1)\n",
    "\t\t\t\ton_press: root.button_press(9)\n",
    "\n",
    "\t\t\tButton:\n",
    "\t\t\t\tsize_hint: (.2, .2)\n",
    "\t\t\t\tfont_size: 32\n",
    "\t\t\t\ttext: \"*\"\n",
    "\t\t\t\ton_press:  root.math_sign('*')\n",
    "\t\t\t# row\n",
    "\t\t\tButton:\n",
    "\t\t\t\tsize_hint: (.2, .2)\n",
    "\t\t\t\tfont_size: 32\n",
    "\t\t\t\ttext: \"4\"\n",
    "\t\t\t\tbackground_color: (157/255, 157/255, 157/255,1)\n",
    "\t\t\t\ton_press: root.button_press(4)\n",
    "\n",
    "\t\t\tButton:\n",
    "\t\t\t\tsize_hint: (.2, .2)\n",
    "\t\t\t\tfont_size: 32\n",
    "\t\t\t\ttext: \"5\"\n",
    "\t\t\t\tbackground_color: (157/255, 157/255, 157/255,1)\n",
    "\t\t\t\ton_press: root.button_press(5)\n",
    "\n",
    "\t\t\tButton:\n",
    "\t\t\t\tsize_hint: (.2, .2)\n",
    "\t\t\t\tfont_size: 32\n",
    "\t\t\t\ttext: \"6\"\n",
    "\t\t\t\tbackground_color: (157/255, 157/255, 157/255,1)\n",
    "\t\t\t\ton_press: root.button_press(6)\n",
    "\n",
    "\t\t\tButton:\n",
    "\t\t\t\tsize_hint: (.2, .2)\n",
    "\t\t\t\tfont_size: 32\n",
    "\t\t\t\ttext: \"-\"\n",
    "\t\t\t\ton_press:  root.math_sign('-')\n",
    "\n",
    "\t\t\t# row\n",
    "\t\t\tButton:\n",
    "\t\t\t\tsize_hint: (.2, .2)\n",
    "\t\t\t\tfont_size: 32\n",
    "\t\t\t\ttext: \"1\"\n",
    "\t\t\t\tbackground_color: (157/255, 157/255, 157/255,1)\n",
    "\t\t\t\ton_press: root.button_press(1)\n",
    "\n",
    "\t\t\tButton:\n",
    "\t\t\t\tsize_hint: (.2, .2)\n",
    "\t\t\t\tfont_size: 32\n",
    "\t\t\t\ttext: \"2\"\n",
    "\t\t\t\tbackground_color: (157/255, 157/255, 157/255,1)\n",
    "\t\t\t\ton_press: root.button_press(2)\n",
    "\n",
    "\t\t\tButton:\n",
    "\t\t\t\tsize_hint: (.2, .2)\n",
    "\t\t\t\tfont_size: 32\n",
    "\t\t\t\ttext: \"3\"\n",
    "\t\t\t\tbackground_color: (157/255, 157/255, 157/255,1)\n",
    "\t\t\t\ton_press: root.button_press(3)\n",
    "\n",
    "\t\t\tButton:\n",
    "\t\t\t\tsize_hint: (.2, .2)\n",
    "\t\t\t\tfont_size: 32\n",
    "\t\t\t\ttext: \"+\"\n",
    "\t\t\t\ton_press:  root.math_sign('+')\n",
    "\n",
    "\t\t\t#row\t\n",
    "\t\t\tButton:\n",
    "\t\t\t\tsize_hint: (.2, .2)\n",
    "\t\t\t\tfont_size: 32\n",
    "\t\t\t\ttext: \"+/-\"\n",
    "\t\t\t\tbackground_color: (157/255, 157/255, 157/255,1)\n",
    "\t\t\t\ton_press: root.pos_neg()\n",
    "\n",
    "\t\t\tButton:\n",
    "\t\t\t\tsize_hint: (.2, .2)\n",
    "\t\t\t\tfont_size: 32\n",
    "\t\t\t\ttext: \"0\"\n",
    "\t\t\t\tbackground_color: (157/255, 157/255, 157/255,1)\n",
    "\t\t\t\ton_press: root.button_press(0)\n",
    "\n",
    "\t\t\tButton:\n",
    "\t\t\t\tsize_hint: (.2, .2)\n",
    "\t\t\t\tfont_size: 32\n",
    "\t\t\t\ttext: \".\"\n",
    "\t\t\t\tbackground_color: (157/255, 157/255, 157/255,1)\n",
    "\t\t\t\ton_press: root.dot()\n",
    "\n",
    "\t\t\tButton:\n",
    "\t\t\t\tsize_hint: (.2, .2)\n",
    "\t\t\t\tfont_size: 32\n",
    "\t\t\t\ttext: \"=\"\n",
    "\t\t\t\ton_press: root.equals()"
   ]
  },
  {
   "cell_type": "markdown",
   "metadata": {},
   "source": [
    "### Standalone Python EXE Executable - Python Kivy GUI Tutorial #20"
   ]
  },
  {
   "cell_type": "markdown",
   "metadata": {},
   "source": [
    "- 建立一個資料夾存放 calc.py 及 calc.kv\n",
    "- 在 venv 環境下 `pip install pyinstaller`\n",
    "- 切換到 calc 資料夾，下 `pytinstaller calc.py -w`"
   ]
  },
  {
   "cell_type": "markdown",
   "metadata": {},
   "source": [
    "![](./images/22_pyinstaller.png)"
   ]
  },
  {
   "cell_type": "markdown",
   "metadata": {},
   "source": [
    "- 將 calc.py 檔轉成 exe 檔後，會發現資料夾 dist/calc/calc.exe 執行還是會出錯，calc.kv 沒有使用到，故要做一下修改 calc.spec 檔案的內容"
   ]
  },
  {
   "cell_type": "markdown",
   "metadata": {},
   "source": [
    "![](./images/23_calc.spec_1.png)"
   ]
  },
  {
   "cell_type": "markdown",
   "metadata": {},
   "source": [
    "![](./images/23_calc.spec.png)"
   ]
  },
  {
   "cell_type": "markdown",
   "metadata": {},
   "source": [
    "- 重新再轉一次，指令 `pyinstaller calc.spec -y`\n",
    "- 再次執行 calc.exe 即可以使用"
   ]
  },
  {
   "cell_type": "markdown",
   "metadata": {},
   "source": [
    "![](./images/24_calc_exe.png)"
   ]
  },
  {
   "cell_type": "markdown",
   "metadata": {},
   "source": [
    "### Kivy 2.0 Released! How To Install - Python Kivy GUI Tutorial #21"
   ]
  },
  {
   "cell_type": "markdown",
   "metadata": {},
   "source": [
    "- [kivy github](https://github.com/kivy/kivy)"
   ]
  },
  {
   "cell_type": "markdown",
   "metadata": {},
   "source": [
    "![](./images/25_kivynew.png)"
   ]
  },
  {
   "cell_type": "markdown",
   "metadata": {},
   "source": [
    "![](./images/26_kivynew_1.png)"
   ]
  },
  {
   "cell_type": "markdown",
   "metadata": {},
   "source": [
    "![](./images/27_kivynew_2.png)"
   ]
  },
  {
   "cell_type": "markdown",
   "metadata": {},
   "source": [
    "### How To Create Rounded Buttons With Kivy - Python Kivy GUI Tutorial #22"
   ]
  },
  {
   "cell_type": "markdown",
   "metadata": {},
   "source": [
    "- round_button.py"
   ]
  },
  {
   "cell_type": "code",
   "execution_count": null,
   "metadata": {},
   "outputs": [],
   "source": [
    "from kivy.app import App\n",
    "from kivy.uix.widget import Widget\n",
    "from kivy.lang import Builder\n",
    "from kivy.core.window import Window\n",
    "\n",
    "Builder.load_file('round_button.kv')\n",
    "\n",
    "class MyLayout(Widget):\n",
    "\tpass\n",
    "\n",
    "class AwesomeApp(App):\n",
    "\tdef build(self):\n",
    "\t\tWindow.clearcolor = (1,1,1,1)\n",
    "\t\treturn MyLayout()\n",
    "\n",
    "if __name__ == '__main__':\n",
    "\tAwesomeApp().run()\n"
   ]
  },
  {
   "cell_type": "markdown",
   "metadata": {},
   "source": [
    "- round_button.kv"
   ]
  },
  {
   "cell_type": "code",
   "execution_count": null,
   "metadata": {},
   "outputs": [],
   "source": [
    "<MyLayout>\n",
    "\tBoxLayout:\n",
    "\t\torientation: \"vertical\"\n",
    "\t\tsize: root.width, root.height\n",
    "\n",
    "\t\tpadding: 50\n",
    "\t\tspacing: 20\n",
    "\n",
    "\t\tButton: \n",
    "\t\t\ttext: \"Hello World!\"\n",
    "\n",
    "\t\tRounedButton: \n",
    "\t\t\ttext: \"Goodbye World!\"\n",
    "\t\t\tpos_hint: {'center_x': 0.5}\n",
    "\t\t\tsize_hint: (1, .3)\n",
    "\t\t\t#background_color: (48/255, 84/255, 150/255, 1)\n",
    "\t\t\t#background_normal: ''\n",
    "\t\t\t\n",
    "\n",
    "<RounedButton@Button>\n",
    "\t\tbackground_color: (0,0,0,0)\n",
    "\t\tbackground_normal: ''\n",
    "\t\tcanvas.before:\n",
    "\t\t\tColor:\n",
    "\t\t\t\trgba: (48/255, 84/255, 150/255, 1)\n",
    "\t\t\tRoundedRectangle:\n",
    "\t\t\t\tsize: self.size\n",
    "\t\t\t\tpos: self.pos\n",
    "\t\t\t\tradius: [58]\n"
   ]
  },
  {
   "cell_type": "markdown",
   "metadata": {},
   "source": [
    "![](./images/28_round_button.png)"
   ]
  },
  {
   "cell_type": "markdown",
   "metadata": {},
   "source": [
    "### Image Viewer With FileChooserIconView and FileChooserListView - Python Kivy GUI Tutorial #23"
   ]
  },
  {
   "cell_type": "markdown",
   "metadata": {},
   "source": [
    "- [FileChooser 官網頁面](https://kivy.org/doc/stable/api-kivy.uix.filechooser.html)"
   ]
  },
  {
   "cell_type": "markdown",
   "metadata": {},
   "source": [
    "- FileChooserIconView"
   ]
  },
  {
   "cell_type": "markdown",
   "metadata": {},
   "source": [
    "![](./images/29_filechooseiconview.png)"
   ]
  },
  {
   "cell_type": "markdown",
   "metadata": {},
   "source": [
    "- FileChooserListView"
   ]
  },
  {
   "cell_type": "markdown",
   "metadata": {},
   "source": [
    "![](./images/30_filechooserlistview.png)"
   ]
  },
  {
   "cell_type": "markdown",
   "metadata": {},
   "source": [
    "- menu.py"
   ]
  },
  {
   "cell_type": "code",
   "execution_count": null,
   "metadata": {},
   "outputs": [],
   "source": [
    "from kivy.app import App\n",
    "from kivy.uix.widget import Widget\n",
    "from kivy.lang import Builder\n",
    "\n",
    "Builder.load_file('menu.kv')\n",
    "\n",
    "class MyLayout(Widget):\n",
    "\n",
    "\tdef selected(self, filename):\n",
    "\t\ttry:\n",
    "\t\t\tself.ids.my_image.source = filename[0]\n",
    "\t\texcept:\n",
    "\t\t\tpass\n",
    "\n",
    "class AwesomeApp(App):\n",
    "\tdef build(self):\n",
    "\t\treturn MyLayout()\n",
    "\n",
    "if __name__ == '__main__':\n",
    "\tAwesomeApp().run()"
   ]
  },
  {
   "cell_type": "markdown",
   "metadata": {},
   "source": [
    "- menu.kv"
   ]
  },
  {
   "cell_type": "code",
   "execution_count": null,
   "metadata": {},
   "outputs": [],
   "source": [
    "<MyLayout>\n",
    "\tid: my_widget\n",
    "\tBoxLayout:\n",
    "\t\torientation: \"vertical\"\n",
    "\t\tsize: root.width, root.height\n",
    "\n",
    "\t\tpadding: 50\n",
    "\t\tspacing: 20\n",
    "\n",
    "\t\tImage:\n",
    "\t\t\tid: my_image\n",
    "\t\t\tsource: \"\"\n",
    "\n",
    "\t\tFileChooserIconView:\n",
    "\t\t\tid: filechooser\n",
    "\t\t\ton_selection: my_widget.selected(filechooser.selection)\n",
    "\n",
    "\t\t# FileChooserListView:\n",
    "\t\t# \tid: filechooser\n",
    "\t\t# \ton_selection: my_widget.selected(filechooser.selection)\n"
   ]
  },
  {
   "cell_type": "markdown",
   "metadata": {},
   "source": [
    "### Spell Checker With Kivy - Python Kivy GUI Tutorial #24"
   ]
  },
  {
   "cell_type": "markdown",
   "metadata": {},
   "source": [
    "- 要安裝 PyEnchant => `pip install PyEnchant`"
   ]
  },
  {
   "cell_type": "markdown",
   "metadata": {},
   "source": [
    "- outcome"
   ]
  },
  {
   "cell_type": "markdown",
   "metadata": {},
   "source": [
    "![](./images/31_spell.png)"
   ]
  },
  {
   "cell_type": "markdown",
   "metadata": {},
   "source": [
    "- spell.py"
   ]
  },
  {
   "cell_type": "code",
   "execution_count": null,
   "metadata": {},
   "outputs": [],
   "source": [
    "from kivy.app import App\n",
    "from kivy.uix.widget import Widget\n",
    "from kivy.properties import ObjectProperty\n",
    "from kivy.lang import Builder\n",
    "from kivy.core.spelling import Spelling\n",
    "\n",
    "Builder.load_file('spell.kv')\n",
    "\n",
    "class MyLayout(Widget):\n",
    "\tdef press(self):\n",
    "\t\t# Create instance of Spelling\n",
    "\t\ts = Spelling()\n",
    "\n",
    "\t\t# Select the language\n",
    "\t\ts.select_language('en_US')\n",
    "\n",
    "\t\t# See the language options\n",
    "\t\t# print(s.list_languages())\n",
    "\n",
    "\t\t# Grab the word from the textbox\n",
    "\t\tword = self.ids.word_input.text\n",
    "\n",
    "\t\toption = s.suggest(word)\n",
    "\t\tx = ''\n",
    "\t\tfor item in option:\n",
    "\t\t\tx = f'{x} {item}'\n",
    "\t\t# update our label\n",
    "\t\tself.ids.word_label.text = f'{x}'\n",
    "\n",
    "class AwesomeApp(App):\n",
    "\tdef build(self):\n",
    "\t\treturn MyLayout()\n",
    "\n",
    "if __name__ == '__main__':\n",
    "\tAwesomeApp().run()\n"
   ]
  },
  {
   "cell_type": "markdown",
   "metadata": {},
   "source": [
    "- spell.kv"
   ]
  },
  {
   "cell_type": "code",
   "execution_count": null,
   "metadata": {},
   "outputs": [],
   "source": [
    "<MyLayout>\n",
    "\tid: my_widget\n",
    "\tBoxLayout:\n",
    "\t\torientation: \"vertical\"\n",
    "\t\tsize: root.width, root.height\n",
    "\n",
    "\t\tLabel:\n",
    "\t\t\tid: word_label\n",
    "\t\t\ttext_size: self.size\n",
    "\t\t\thalign: \"center\"\n",
    "\t\t\tvalign: \"middle\"\n",
    "\t\t\ttext: \"Enter A Word\"\n",
    "\t\t\tfont_size: 32\n",
    "\n",
    "\n",
    "\t\tTextInput:\n",
    "\t\t\tid : word_input\n",
    "\t\t\tmultiline: False\n",
    "\t\t\tsize_hint: (1, .5)\n",
    "\n",
    "\t\tButton:\n",
    "\t\t\tsize_hint: (1, .5)\n",
    "\t\t\tfont_size: 32\n",
    "\t\t\ttext: \"Submit\"\n",
    "\t\t\ton_press: root.press()"
   ]
  },
  {
   "cell_type": "markdown",
   "metadata": {},
   "source": [
    "### Sliders For Kivy - Python Kivy GUI Tutorial #25"
   ]
  },
  {
   "cell_type": "markdown",
   "metadata": {},
   "source": [
    "![](./images/32_slider.png)"
   ]
  },
  {
   "cell_type": "markdown",
   "metadata": {},
   "source": [
    "- slider.py"
   ]
  },
  {
   "cell_type": "code",
   "execution_count": null,
   "metadata": {},
   "outputs": [],
   "source": [
    "from kivy.app import App\n",
    "from kivy.uix.widget import Widget\n",
    "from kivy.lang import Builder\n",
    "# from kivy.uix.slider import Slider\n",
    "\n",
    "Builder.load_file('slider.kv')\n",
    "\n",
    "class MyLayout(Widget):\n",
    "\tdef slide_it(self, *args):\n",
    "\t\t# print(args[1])\n",
    "\t\tself.slide_text.text = str(int(args[1]))\n",
    "\t\tself.slide_text.font_size = str(int(args[1]) * 5)\n",
    "\n",
    "class AwesomeApp(App):\n",
    "\tdef build(self):\n",
    "\t\treturn MyLayout()\n",
    "\n",
    "if __name__ == '__main__':\n",
    "\tAwesomeApp().run()\n",
    "\n"
   ]
  },
  {
   "cell_type": "markdown",
   "metadata": {},
   "source": [
    "- sldier.kv"
   ]
  },
  {
   "cell_type": "code",
   "execution_count": null,
   "metadata": {},
   "outputs": [],
   "source": [
    "<MyLayout>\n",
    "\tslide_text: slider_label\n",
    "\tid: my_widget\n",
    "\tBoxLayout:\n",
    "\t\torientation: \"vertical\"\n",
    "\t\tsize: root.width, root.height\n",
    "\n",
    "\t\tLabel:\n",
    "\t\t\tid: slider_label\n",
    "\t\t\ttext: \"Slide The Slider\"\n",
    "\t\t\tfont_size: 32\n",
    "\n",
    "\t\tSlider: \n",
    "\t\t\tmin: 1\n",
    "\t\t\tmax: 50\n",
    "\t\t\tstep: 1\n",
    "\t\t\torientation: \"horizontal\"\n",
    "\t\t\ton_value: root.slide_it(*args)\n"
   ]
  },
  {
   "cell_type": "markdown",
   "metadata": {},
   "source": [
    "### Accordions For Kivy - Python Kivy GUI Tutorial #26"
   ]
  },
  {
   "cell_type": "markdown",
   "metadata": {},
   "source": [
    "![](./images/33_accordion.png)"
   ]
  },
  {
   "cell_type": "markdown",
   "metadata": {},
   "source": [
    "- accordion.py"
   ]
  },
  {
   "cell_type": "code",
   "execution_count": null,
   "metadata": {},
   "outputs": [],
   "source": [
    "from kivy.app import App\n",
    "from kivy.uix.widget import Widget\n",
    "from kivy.lang import Builder\n",
    "# from kivy.uix.slider import Slider\n",
    "\n",
    "Builder.load_file('accordion.kv')\n",
    "\n",
    "class MyLayout(Widget):\n",
    "\tpass\n",
    "\n",
    "class AwesomeApp(App):\n",
    "\tdef build(self):\n",
    "\t\treturn MyLayout()\n",
    "\n",
    "if __name__ == '__main__':\n",
    "\tAwesomeApp().run()"
   ]
  },
  {
   "cell_type": "markdown",
   "metadata": {},
   "source": [
    "- accordion.kv"
   ]
  },
  {
   "cell_type": "code",
   "execution_count": null,
   "metadata": {},
   "outputs": [],
   "source": [
    "<MyLayout>\n",
    "\n",
    "\tBoxLayout:\n",
    "\t\torientation: \"vertical\"\n",
    "\t\tsize: root.width, root.height\n",
    "\n",
    "\t\tAccordion:\n",
    "\t\t\torientation: 'vertical'\n",
    "\n",
    "\t\t\tAccordionItem:\n",
    "\t\t\t\ttitle: \"Panel 1\"\n",
    "\t\t\t\tImage:\n",
    "\t\t\t\t\tsource: './image/dog.jpg'\n",
    "\t\t\t\t# Label:\n",
    "\t\t\t\t# \ttext: \"Panel 1 Text\"\n",
    "\t\t\t\t# \tfont_size: 32\n",
    "\n",
    "\t\t\tAccordionItem:\n",
    "\t\t\t\ttitle: \"Panel 2\"\n",
    "\t\t\t\tLabel:\n",
    "\t\t\t\t\ttext: \"Panel 2 Text\"\n",
    "\t\t\t\t\tfont_size: 32\n",
    "\n",
    "\t\t\tAccordionItem:\n",
    "\t\t\t\ttitle: \"Panel 3\"\n",
    "\t\t\t\tLabel:\n",
    "\t\t\t\t\ttext: \"Panel 3 Text\"\n",
    "\t\t\t\t\tfont_size: 32\n",
    "\n",
    "\t\t\tAccordionItem:\n",
    "\t\t\t\ttitle: \"Panel 4\"\n",
    "\t\t\t\tLabel:\n",
    "\t\t\t\t\ttext: \"Panel 4 Text\"\n",
    "\t\t\t\t\tfont_size: 32"
   ]
  },
  {
   "cell_type": "markdown",
   "metadata": {},
   "source": [
    "### Carousels For Kivy - Python Kivy GUI Tutorial #27"
   ]
  },
  {
   "cell_type": "markdown",
   "metadata": {},
   "source": [
    "![](./images/34_carousel.png)"
   ]
  },
  {
   "cell_type": "markdown",
   "metadata": {},
   "source": [
    "- carousel.py"
   ]
  },
  {
   "cell_type": "code",
   "execution_count": null,
   "metadata": {},
   "outputs": [],
   "source": [
    "from kivy.app import App\n",
    "from kivy.uix.widget import Widget\n",
    "from kivy.lang import Builder\n",
    "# from kivy.uix.slider import Slider\n",
    "\n",
    "Builder.load_file('carousel.kv')\n",
    "\n",
    "class MyLayout(Widget):\n",
    "\tpass\n",
    "\n",
    "class AwesomeApp(App):\n",
    "\tdef build(self):\n",
    "\t\treturn MyLayout()\n",
    "\n",
    "if __name__ == '__main__':\n",
    "\tAwesomeApp().run()\n",
    "\n"
   ]
  },
  {
   "cell_type": "markdown",
   "metadata": {},
   "source": [
    "- carousel.kv"
   ]
  },
  {
   "cell_type": "code",
   "execution_count": null,
   "metadata": {},
   "outputs": [],
   "source": [
    "<MyLayout>\n",
    "\n",
    "\tBoxLayout:\n",
    "\t\torientation: \"vertical\"\n",
    "\t\tsize: root.width, root.height\n",
    "\n",
    "\t\tCarousel:\n",
    "\t\t\tdirection: \"right\"\n",
    "\n",
    "\t\t\tImage:\n",
    "\t\t\t\tsource: \"./image/dog.jpg\"\n",
    "\t\t\t# 也可以使用 url 來取得圖片\n",
    "\t\t\tAsyncImage:\n",
    "\t\t\t\tsource: 'https://www.vets4pets.com/siteassets/species/dog/large-dog-on-walk-looking-over-hills.jpg?w=585&scale=down'\n",
    "\n",
    "\t\t\tImage:\n",
    "\t\t\t\tsource: \"./image/dog2.jpg\"\n",
    "\n",
    "\t\t\tImage:\n",
    "\t\t\t\tsource: \"./image/dog3.jpg\"\n"
   ]
  },
  {
   "cell_type": "markdown",
   "metadata": {},
   "source": [
    "### How To Create CheckBoxes With Kivy - Python Kivy GUI Tutorial #28"
   ]
  },
  {
   "cell_type": "markdown",
   "metadata": {},
   "source": [
    "![](./images/35_checks.png)"
   ]
  },
  {
   "cell_type": "markdown",
   "metadata": {},
   "source": [
    "- checks.py"
   ]
  },
  {
   "cell_type": "code",
   "execution_count": null,
   "metadata": {},
   "outputs": [],
   "source": [
    "from kivy.app import App\n",
    "from kivy.uix.widget import Widget\n",
    "from kivy.lang import Builder\n",
    "# from kivy.uix.slider import Slider\n",
    "\n",
    "Builder.load_file('check.kv')\n",
    "\n",
    "class MyLayout(Widget):\n",
    "\tchecks = []\n",
    "\tdef checkbox_click(self, instance, value, topping):\n",
    "\t\tif value == True:\n",
    "\t\t\tMyLayout.checks.append(topping)\n",
    "\t\t\ttops = ''\n",
    "\t\t\tfor x in MyLayout.checks:\n",
    "\t\t\t\ttops = f'{tops} {x}'\n",
    "\t\t\tself.ids.output_label.text = f'You Selected {tops}'\n",
    "\t\telse:\n",
    "\t\t\tMyLayout.checks.remove(topping)\n",
    "\t\t\ttops = ''\n",
    "\t\t\tfor x in MyLayout.checks:\n",
    "\t\t\t\ttops = f'{tops} {x}'\n",
    "\t\t\tself.ids.output_label.text = f'You Selected {tops}'\n",
    "\n",
    "class AwesomeApp(App):\n",
    "\tdef build(self):\n",
    "\t\treturn MyLayout()\n",
    "\n",
    "if __name__ == '__main__':\n",
    "\tAwesomeApp().run()\n",
    "\n"
   ]
  },
  {
   "cell_type": "markdown",
   "metadata": {},
   "source": [
    "- check.kv"
   ]
  },
  {
   "cell_type": "code",
   "execution_count": null,
   "metadata": {},
   "outputs": [],
   "source": [
    "<MyLayout>\n",
    "\n",
    "\tBoxLayout:\n",
    "\t\torientation: \"vertical\"\n",
    "\t\tsize: root.width, root.height\n",
    "\n",
    "\t\tLabel:\n",
    "\t\t\ttext: \"Select Pizza Toppings\"\n",
    "\t\t\tfont_size: 32\n",
    "\n",
    "\t\tGridLayout:\n",
    "\t\t\tcols: 2\n",
    "\n",
    "\t\t\tLabel:\n",
    "\t\t\t\ttext: \"Pepperoni\"\n",
    "\t\t\t\tfont_size: 20\n",
    "\n",
    "\t\t\tCheckBox:\n",
    "\t\t\t\ton_active: root.checkbox_click(self, self.active, \"Pepperoni\")\n",
    "\n",
    "\t\t\tLabel:\n",
    "\t\t\t\ttext: \"Cheese\"\n",
    "\t\t\t\tfont_size: 20\n",
    "\n",
    "\t\t\tCheckBox:\n",
    "\t\t\t\ton_active: root.checkbox_click(self, self.active, \"Cheese\")\n",
    "\n",
    "\t\t\tLabel:\n",
    "\t\t\t\ttext: \"Mushroom\"\n",
    "\t\t\t\tfont_size: 20\n",
    "\n",
    "\t\t\tCheckBox:\n",
    "\t\t\t\ton_active: root.checkbox_click(self, self.active, \"Mushroom\")\n",
    "\n",
    "\t\tLabel:\n",
    "\t\t\tid: output_label\n",
    "\t\t\ttext: ''\n",
    "\t\t\tfont_size: 32"
   ]
  },
  {
   "cell_type": "markdown",
   "metadata": {},
   "source": [
    "### How To Create Radio Buttons For Kivy - Python Kivy GUI Tutorial #29"
   ]
  },
  {
   "cell_type": "markdown",
   "metadata": {},
   "source": [
    "- 加上通一個 group 即可呈現 radio button 的效果"
   ]
  },
  {
   "cell_type": "markdown",
   "metadata": {},
   "source": [
    "![](./images/36_radio.png)"
   ]
  },
  {
   "cell_type": "markdown",
   "metadata": {},
   "source": [
    "- radio.py"
   ]
  },
  {
   "cell_type": "code",
   "execution_count": null,
   "metadata": {},
   "outputs": [],
   "source": [
    "from kivy.app import App\n",
    "from kivy.uix.widget import Widget\n",
    "from kivy.lang import Builder\n",
    "# from kivy.uix.slider import Slider\n",
    "\n",
    "Builder.load_file('radio.kv')\n",
    "\n",
    "class MyLayout(Widget):\n",
    "\tchecks = []\n",
    "\tdef checkbox_click(self, instance, value, topping):\n",
    "\t\tif value == True:\n",
    "\t\t\tMyLayout.checks.append(topping)\n",
    "\t\t\ttops = ''\n",
    "\t\t\tfor x in MyLayout.checks:\n",
    "\t\t\t\ttops = f'{tops} {x}'\n",
    "\t\t\tself.ids.output_label.text = f'You Selected {tops}'\n",
    "\t\telse:\n",
    "\t\t\tMyLayout.checks.remove(topping)\n",
    "\t\t\ttops = ''\n",
    "\t\t\tfor x in MyLayout.checks:\n",
    "\t\t\t\ttops = f'{tops} {x}'\n",
    "\t\t\tself.ids.output_label.text = f'You Selected {tops}'\n",
    "\n",
    "class AwesomeApp(App):\n",
    "\tdef build(self):\n",
    "\t\treturn MyLayout()\n",
    "\n",
    "if __name__ == '__main__':\n",
    "\tAwesomeApp().run()\n",
    "\n"
   ]
  },
  {
   "cell_type": "markdown",
   "metadata": {},
   "source": [
    "- radio.kv"
   ]
  },
  {
   "cell_type": "code",
   "execution_count": null,
   "metadata": {},
   "outputs": [],
   "source": [
    "<MyLayout>\n",
    "\n",
    "\tBoxLayout:\n",
    "\t\torientation: \"vertical\"\n",
    "\t\tsize: root.width, root.height\n",
    "\n",
    "\t\tLabel:\n",
    "\t\t\ttext: \"Select Pizza Toppings\"\n",
    "\t\t\tfont_size: 32\n",
    "\n",
    "\t\tGridLayout:\n",
    "\t\t\tcols: 2\n",
    "\n",
    "\t\t\tLabel:\n",
    "\t\t\t\ttext: \"Pepperoni\"\n",
    "\t\t\t\tfont_size: 20\n",
    "\n",
    "\t\t\tCheckBox:\n",
    "\t\t\t\tgroup: \"pizza_toppings\"\n",
    "\t\t\t\ton_active: root.checkbox_click(self, self.active, \"Pepperoni\")\n",
    "\n",
    "\t\t\tLabel:\n",
    "\t\t\t\ttext: \"Cheese\"\n",
    "\t\t\t\tfont_size: 20\n",
    "\n",
    "\t\t\tCheckBox:\n",
    "\t\t\t\tgroup: \"pizza_toppings\"\n",
    "\t\t\t\ton_active: root.checkbox_click(self, self.active, \"Cheese\")\n",
    "\n",
    "\t\t\tLabel:\n",
    "\t\t\t\ttext: \"Mushroom\"\n",
    "\t\t\t\tfont_size: 20\n",
    "\n",
    "\t\t\tCheckBox:\n",
    "\t\t\t\tgroup: \"pizza_toppings\"\n",
    "\t\t\t\ton_active: root.checkbox_click(self, self.active, \"Mushroom\")\n",
    "\n",
    "\t\tLabel:\n",
    "\t\t\tid: output_label\n",
    "\t\t\ttext: ''\n",
    "\t\t\tfont_size: 32"
   ]
  },
  {
   "cell_type": "markdown",
   "metadata": {},
   "source": [
    "### How To Create Popup Boxes For Kivy - Python Kivy GUI Tutorial #30"
   ]
  },
  {
   "cell_type": "markdown",
   "metadata": {},
   "source": [
    "![](./images/37_popup.png)"
   ]
  },
  {
   "cell_type": "markdown",
   "metadata": {},
   "source": [
    "- popup.py"
   ]
  },
  {
   "cell_type": "code",
   "execution_count": null,
   "metadata": {},
   "outputs": [],
   "source": [
    "from kivy.app import App\n",
    "from kivy.uix.widget import Widget\n",
    "from kivy.lang import Builder\n",
    "# from kivy.uix.slider import Slider\n",
    "\n",
    "Builder.load_file('popup.kv')\n",
    "\n",
    "class MyLayout(Widget):\n",
    "\tpass\n",
    "\n",
    "class AwesomeApp(App):\n",
    "\tdef build(self):\n",
    "\t\treturn MyLayout()\n",
    "\n",
    "if __name__ == '__main__':\n",
    "\tAwesomeApp().run()\n",
    "\n"
   ]
  },
  {
   "cell_type": "markdown",
   "metadata": {},
   "source": [
    "- popup.kv"
   ]
  },
  {
   "cell_type": "code",
   "execution_count": null,
   "metadata": {},
   "outputs": [],
   "source": [
    "#: import Factory kivy.factory.Factory\n",
    "\n",
    "<MyPopup@Popup>\n",
    "\t# 是否可以直接點任何地方 popup 會消失\n",
    "\tauto_dimiss: False\n",
    "\n",
    "\tsize_hint: 0.6, 0.2\n",
    "\tpos_hint: {\"x\": 0.2, \"top\": 0.6}\n",
    "\n",
    "\ttitle: \"This is a popup box\"\n",
    "\n",
    "\t# Popup 裡面只能放一個 widget，如果要放好幾個 widget，則可以將他們包在 BoxLayout 中\n",
    "\tBoxLayout:\n",
    "\t\torientation: \"vertical\"\n",
    "\t\tsize: root.width, root.height\n",
    "\t\tLabel:\n",
    "\t\t\ttext: \"Somthing in our popup box\"\n",
    "\t\t\tfont_sizw: 24\n",
    "\n",
    "\t\tButton:\n",
    "\t\t\ttext: \"Close Me!\"\n",
    "\t\t\tfont_size: 24\n",
    "\t\t\ton_release: root.dismiss()\n",
    "\n",
    "\n",
    "<MyLayout>\n",
    "\n",
    "\tBoxLayout:\n",
    "\t\torientation: \"vertical\"\n",
    "\t\tsize: root.width, root.height\n",
    "\n",
    "\t\tLabel:\n",
    "\t\t\ttext: \"Popup Stuff\"\n",
    "\t\t\tfont_size: 32\n",
    "\n",
    "\t\tButton:\n",
    "\t\t\ttext: \"Popup\"\n",
    "\t\t\tfont_size: 32\n",
    "\t\t\ton_release: Factory.MyPopup().open()\n"
   ]
  },
  {
   "cell_type": "markdown",
   "metadata": {},
   "source": [
    "### Multiple Windows With ScreenManager - Python Kivy GUI Tutorial #31"
   ]
  },
  {
   "cell_type": "markdown",
   "metadata": {},
   "source": [
    "- new_window.py"
   ]
  },
  {
   "cell_type": "code",
   "execution_count": null,
   "metadata": {},
   "outputs": [],
   "source": [
    "from kivy.app import App\n",
    "from kivy.uix.widget import Widget\n",
    "from kivy.lang import Builder\n",
    "from kivy.uix.screenmanager import ScreenManager, Screen\n",
    "\n",
    "# Define our different screens\n",
    "class FirstWindow(Screen):\n",
    "\tpass\n",
    "\n",
    "class SecondWindow(Screen):\n",
    "\tpass\n",
    "\n",
    "class WindowManager(ScreenManager):\n",
    "\tpass\n",
    "\n",
    "# Designate Our .kv design file\n",
    "kv = Builder.load_file('new_window.kv')\n",
    "\n",
    "\n",
    "class AwesomeApp(App):\n",
    "\tdef build(self):\n",
    "\t\treturn kv\n",
    "\n",
    "if __name__ == '__main__':\n",
    "\tAwesomeApp().run()\n",
    "\n"
   ]
  },
  {
   "cell_type": "markdown",
   "metadata": {},
   "source": [
    "- new_window.kv"
   ]
  },
  {
   "cell_type": "code",
   "execution_count": null,
   "metadata": {},
   "outputs": [],
   "source": [
    "WindowManager:\n",
    "\tFirstWindow:\n",
    "\tSecondWindow:\n",
    "\n",
    "\n",
    "<FirstWindow>:\n",
    "\tname: \"first\"\n",
    "\n",
    "\tBoxLayout:\n",
    "\t\torientation: 'vertical'\n",
    "\t\tsize: root.width, root.height\n",
    "\n",
    "\t\tLabel:\n",
    "\t\t\ttext: \"First Screen\"\n",
    "\t\t\tfont_size: 32\n",
    "\n",
    "\t\tButton:\n",
    "\t\t\ttext: \"Next Screen\"\n",
    "\t\t\tfont_size: 32\n",
    "\t\t\ton_release: \n",
    "\t\t\t\tapp.root.current = \"second\"\n",
    "\t\t\t\troot.manager.transition.direction = \"left\"\n",
    "\n",
    "<SecondWindow>:\n",
    "\tname: \"second\"\n",
    "\n",
    "\tBoxLayout:\n",
    "\t\torientation: 'vertical'\n",
    "\t\tsize: root.width, root.height\n",
    "\n",
    "\t\tLabel:\n",
    "\t\t\ttext: \"Second Screen\"\n",
    "\t\t\tfont_size: 32\n",
    "\n",
    "\t\tButton:\n",
    "\t\t\ttext: \"Go Back\"\n",
    "\t\t\tfont_size: 32\n",
    "\t\t\ton_release: \n",
    "\t\t\t\tapp.root.current = \"first\"\n",
    "\t\t\t\troot.manager.transition.direction = \"right\""
   ]
  },
  {
   "cell_type": "markdown",
   "metadata": {},
   "source": [
    "### Spinner Dropdowns - Python Kivy GUI Tutorial #32"
   ]
  },
  {
   "cell_type": "markdown",
   "metadata": {},
   "source": [
    "![](./images/38_spinner.png)"
   ]
  },
  {
   "cell_type": "markdown",
   "metadata": {},
   "source": [
    "- spin.py"
   ]
  },
  {
   "cell_type": "code",
   "execution_count": null,
   "metadata": {},
   "outputs": [],
   "source": [
    "from kivy.app import App\n",
    "from kivy.uix.widget import Widget\n",
    "from kivy.lang import Builder\n",
    "from kivy.uix.screenmanager import ScreenManager, Screen\n",
    "\n",
    "# Designate Our .kv design file\n",
    "Builder.load_file('spin.kv')\n",
    "\n",
    "class MyLayout(Widget):\n",
    "\tdef spinner_clicked(self, value):\n",
    "\t\tself.ids.click_label.text = f'You Selected {value}'\n",
    "\n",
    "class AwesomeApp(App):\n",
    "\tdef build(self):\n",
    "\t\treturn MyLayout()\n",
    "\n",
    "if __name__ == '__main__':\n",
    "\tAwesomeApp().run()\n",
    "\n"
   ]
  },
  {
   "cell_type": "markdown",
   "metadata": {},
   "source": [
    "- spin.kv"
   ]
  },
  {
   "cell_type": "code",
   "execution_count": null,
   "metadata": {},
   "outputs": [],
   "source": [
    "<MyLayout>\n",
    "\tBoxLayout:\n",
    "\t\torientation: 'vertical'\n",
    "\t\tsize: root.width, root.height\n",
    "\n",
    "\t\tLabel:\n",
    "\t\t\tid: click_label\n",
    "\t\t\ttext: \"Pick Fovorite Pizza Below\"\n",
    "\t\t\tfont_size: 32\n",
    "\n",
    "\t\tSpinner:\n",
    "\t\t\tid: spinner_id\n",
    "\t\t\ttext: \"Favorite Pizza\"\n",
    "\t\t\tvalues: [\"Pepperoni\", \"Cheese\", \"Mushroom\"]\n",
    "\t\t\ton_text: root.spinner_clicked(spinner_id.text)\n",
    "\n",
    "\t\t# 純粹讓列表有空間\n",
    "\t\tLabel:\n",
    "\t\t\ttext: ''"
   ]
  },
  {
   "cell_type": "markdown",
   "metadata": {},
   "source": [
    "### How To Resize Widgets With Splitters - Python Kivy GUI Tutorial #33"
   ]
  },
  {
   "cell_type": "markdown",
   "metadata": {},
   "source": [
    "![](./images/39_split.png)"
   ]
  },
  {
   "cell_type": "markdown",
   "metadata": {},
   "source": [
    "- split.py"
   ]
  },
  {
   "cell_type": "code",
   "execution_count": null,
   "metadata": {},
   "outputs": [],
   "source": [
    "from kivy.app import App\n",
    "from kivy.uix.widget import Widget\n",
    "from kivy.lang import Builder\n",
    "from kivy.uix.screenmanager import ScreenManager, Screen\n",
    "\n",
    "# Designate Our .kv design file\n",
    "Builder.load_file('split.kv')\n",
    "\n",
    "class MyLayout(Widget):\n",
    "\tpass\n",
    "\n",
    "class AwesomeApp(App):\n",
    "\tdef build(self):\n",
    "\t\treturn MyLayout()\n",
    "\n",
    "if __name__ == '__main__':\n",
    "\tAwesomeApp().run()"
   ]
  },
  {
   "cell_type": "markdown",
   "metadata": {},
   "source": [
    "- split.kv"
   ]
  },
  {
   "cell_type": "code",
   "execution_count": null,
   "metadata": {},
   "outputs": [],
   "source": [
    "<MyLayout>\n",
    "\tBoxLayout:\n",
    "\t\torientation: 'vertical'\n",
    "\t\tsize: root.width, root.height\n",
    "\n",
    "\t\tSplitter:\n",
    "\t\t\tsizable_from: 'bottom'\n",
    "\t\t\tButton:\n",
    "\t\t\t\ttext: \"Hello World 1\"\n",
    "\t\t\t\tfont_size: 32\n",
    "\n",
    "\t\tLabel:\n",
    "\t\t\ttext: \"This is some text!\"\n",
    "\t\t\tfont_size: 32\n",
    "\n",
    "\t\tSplitter:\n",
    "\t\t\tsizable_from: 'top'\n",
    "\t\t\tButton:\n",
    "\t\t\t\ttext: \"Hello World 2\"\n",
    "\t\t\t\tfont_size: 32\n",
    "\n",
    "\t\tGridLayout:\n",
    "\t\t\tcols:2\n",
    "\n",
    "\t\t\tButton:\n",
    "\t\t\t\ttext: \"Left\"\n",
    "\t\t\t\tfont_size: 32\n",
    "\n",
    "\t\t\tSplitter:\n",
    "\t\t\t\tsizable_from: 'left'\n",
    "\t\t\t\tButton:\n",
    "\t\t\t\t\ttext: \"Right\"\n",
    "\t\t\t\t\tfont_size: 32"
   ]
  },
  {
   "cell_type": "markdown",
   "metadata": {},
   "source": [
    "### How To Create Tabs In Kivy - Python Kivy GUI Tutorial #34"
   ]
  },
  {
   "cell_type": "markdown",
   "metadata": {},
   "source": [
    "![](./images/40_tabs.png)"
   ]
  },
  {
   "cell_type": "markdown",
   "metadata": {},
   "source": [
    "- tabs.py"
   ]
  },
  {
   "cell_type": "code",
   "execution_count": null,
   "metadata": {},
   "outputs": [],
   "source": [
    "from kivy.app import App\n",
    "from kivy.uix.widget import Widget\n",
    "from kivy.lang import Builder\n",
    "from kivy.uix.tabbedpanel import TabbedPanel\n",
    "\n",
    "# Designate Our .kv design file\n",
    "Builder.load_file('tabs.kv')\n",
    "\n",
    "class MyLayout(TabbedPanel):\n",
    "\tpass\n",
    "\n",
    "class AwesomeApp(App):\n",
    "\tdef build(self):\n",
    "\t\treturn MyLayout()\n",
    "\n",
    "if __name__ == '__main__':\n",
    "\tAwesomeApp().run()\n",
    "\n"
   ]
  },
  {
   "cell_type": "markdown",
   "metadata": {},
   "source": [
    "- tabs.kv"
   ]
  },
  {
   "cell_type": "code",
   "execution_count": null,
   "metadata": {},
   "outputs": [],
   "source": [
    "<MyLayout>\n",
    "\tdo_default_tab: False\n",
    "\n",
    "\tsize_hint: .5, .5\n",
    "\tpos_hint: {'center_x': .5, 'center_y': .5}\n",
    "\n",
    "\t# 調整 tab 的位置\n",
    "\ttab_pos: 'top_mid'\n",
    "\n",
    "\tTabbedPanelItem:\n",
    "\t\ttext: \"Tab 1\"\n",
    "\t\tLabel:\n",
    "\t\t\ttext: \"Hello World!\"\n",
    "\n",
    "\tTabbedPanelItem:\n",
    "\t\ttext: \"Tab 2\"\n",
    "\t\tBoxLayout:\n",
    "\t\t\tLabel:\n",
    "\t\t\t\ttext: \"Press Button =>\"\n",
    "\t\t\tButton:\n",
    "\t\t\t\ttext: \"Click Me!!\"\n",
    "\n",
    "\tTabbedPanelItem:\n",
    "\t\ttext: \"Tab 3\"\n",
    "\n",
    "\t\tImage:\n",
    "\t\t\tsource: './image/dog.jpg'"
   ]
  },
  {
   "cell_type": "markdown",
   "metadata": {},
   "source": [
    "### How To Use Images As Buttons in Kivy - Python Kivy GUI Tutorial #35"
   ]
  },
  {
   "cell_type": "markdown",
   "metadata": {},
   "source": [
    "![](./images/41_button_image.png)"
   ]
  },
  {
   "cell_type": "markdown",
   "metadata": {},
   "source": [
    "- button_image.py"
   ]
  },
  {
   "cell_type": "code",
   "execution_count": null,
   "metadata": {},
   "outputs": [],
   "source": [
    "from kivy.app import App\n",
    "from kivy.uix.widget import Widget\n",
    "from kivy.lang import Builder\n",
    "\n",
    "# Designate Our .kv design file\n",
    "Builder.load_file('button_image.kv')\n",
    "\n",
    "class MyLayout(Widget):\n",
    "\tdef hello_on(self):\n",
    "\t\t\n",
    "\t\tself.ids.my_image.source = 'image/sign_in_pressed.png'\n",
    "\tdef hello_off(self):\n",
    "\t\tself.ids.my_image.source = 'image/sign_in_normal.png'\n",
    "\t\tself.ids.my_label.text = \"You Pressed The Button\"\n",
    "\n",
    "class AwesomeApp(App):\n",
    "\tdef build(self):\n",
    "\t\treturn MyLayout()\n",
    "\n",
    "if __name__ == '__main__':\n",
    "\tAwesomeApp().run()"
   ]
  },
  {
   "cell_type": "markdown",
   "metadata": {},
   "source": [
    "- button_image.kv"
   ]
  },
  {
   "cell_type": "code",
   "execution_count": null,
   "metadata": {},
   "outputs": [],
   "source": [
    "<MyLayout>\n",
    "\tBoxLayout:\n",
    "\t\torientation: \"vertical\"\n",
    "\t\tsize: root.width, root.height\n",
    "\n",
    "\t\tpadding: 50\n",
    "\t\tspacing: 20\n",
    "\n",
    "\t\tLabel:\n",
    "\t\t\tid: my_label\n",
    "\t\t\ttext: \"Hello World!\"\n",
    "\t\t\tfont_size: 32\n",
    "\n",
    "\t\tButton:\n",
    "\t\t\t# text: \"Hello\"\n",
    "\t\t\t# font_size: 32\n",
    "\t\t\tsize_hint: .15, .12\n",
    "\t\t\tpos_hint: {'center_x': 0.5}\n",
    "\t\t\tbackground_color: (0, 0, 0, 0)\n",
    "\n",
    "\t\t\ton_press: root.hello_on()\n",
    "\t\t\ton_release: root.hello_off()\n",
    "\n",
    "\t\t\tImage:\n",
    "\t\t\t\tid: my_image\n",
    "\t\t\t\tsource: 'image/sign_in_normal.png'\n",
    "\t\t\t\tcenter_x: self.parent.center_x\n",
    "\t\t\t\tcenter_y: self.parent.center_y"
   ]
  },
  {
   "cell_type": "markdown",
   "metadata": {},
   "source": [
    "### How To Create Animation With Kivy - Python Kivy GUI Tutorial #36"
   ]
  },
  {
   "cell_type": "code",
   "execution_count": null,
   "metadata": {},
   "outputs": [],
   "source": []
  }
 ],
 "metadata": {
  "kernelspec": {
   "display_name": "Python 3",
   "language": "python",
   "name": "python3"
  },
  "language_info": {
   "codemirror_mode": {
    "name": "ipython",
    "version": 3
   },
   "file_extension": ".py",
   "mimetype": "text/x-python",
   "name": "python",
   "nbconvert_exporter": "python",
   "pygments_lexer": "ipython3",
   "version": "3.7.4"
  }
 },
 "nbformat": 4,
 "nbformat_minor": 2
}
