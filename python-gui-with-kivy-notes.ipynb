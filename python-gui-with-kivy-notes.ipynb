{
 "cells": [
  {
   "cell_type": "markdown",
   "metadata": {},
   "source": [
    "## Python GUI's with Kivy"
   ]
  },
  {
   "cell_type": "markdown",
   "metadata": {},
   "source": [
    "Note: \n",
    "1. [影片的網址](https://www.youtube.com/playlist?list=PLCC34OHNcOtpz7PJQ7Tv7hqFBP_xDDjqg)"
   ]
  },
  {
   "cell_type": "markdown",
   "metadata": {},
   "source": [
    "### Intro To Kivy - Installing Kivy on Windows - Python Kivy GUI Tutorial #1"
   ]
  },
  {
   "cell_type": "markdown",
   "metadata": {},
   "source": [
    "- 先到官網查看如何安裝 [Kivy Install](https://kivy.org/doc/stable/gettingstarted/installation.html#install-pip)\n",
    "\n",
    "- 建立資料夾作為 virtual environment 的環境，venv 的好處是可以將你安裝的東西只安裝在此虛擬環境，接著就可以按照文件來安裝 kivy                            "
   ]
  },
  {
   "cell_type": "markdown",
   "metadata": {},
   "source": [
    "![](./images/1_venv.png)"
   ]
  },
  {
   "cell_type": "markdown",
   "metadata": {},
   "source": [
    "![](./images/1_venv_png)"
   ]
  },
  {
   "cell_type": "markdown",
   "metadata": {},
   "source": [
    "![](./images/2_install_kivy.png)"
   ]
  },
  {
   "cell_type": "markdown",
   "metadata": {},
   "source": [
    "![](./images/3_freeze.png)"
   ]
  },
  {
   "cell_type": "markdown",
   "metadata": {},
   "source": [
    "- 寫第一支 app => hello-world.py"
   ]
  },
  {
   "cell_type": "markdown",
   "metadata": {},
   "source": [
    "![](./images/4_hello_world.png)"
   ]
  },
  {
   "cell_type": "code",
   "execution_count": null,
   "metadata": {},
   "outputs": [],
   "source": [
    "import kivy\n",
    "from kivy.app import App\n",
    "from kivy.uix.label import Label\n",
    "\n",
    "class MyApp(App):\n",
    "    def build(self):\n",
    "        return Label(text=\"Hello World\", font_size=72)\n",
    "\n",
    "if __name__ == '__main__':\n",
    "    MyApp().run()"
   ]
  },
  {
   "cell_type": "markdown",
   "metadata": {},
   "source": [
    "### Input Boxes and Buttons - Python Kivy GUI Tutorial #2"
   ]
  },
  {
   "cell_type": "markdown",
   "metadata": {},
   "source": [
    "- To create a demo like this"
   ]
  },
  {
   "cell_type": "markdown",
   "metadata": {},
   "source": [
    "![](./images/5_inputbox_demo.png)"
   ]
  },
  {
   "cell_type": "markdown",
   "metadata": {},
   "source": [
    "- code "
   ]
  },
  {
   "cell_type": "markdown",
   "metadata": {},
   "source": [
    "![](./images/6_inputbox_button_code.png)"
   ]
  },
  {
   "cell_type": "code",
   "execution_count": null,
   "metadata": {},
   "outputs": [],
   "source": [
    "import kivy\n",
    "from kivy.app import App\n",
    "from kivy.uix.label import Label\n",
    "from kivy.uix.gridlayout import GridLayout\n",
    "from kivy.uix.textinput import TextInput\n",
    "from kivy.uix.button import Button\n",
    "\n",
    "class MyGridLayout(GridLayout):\n",
    "\t# Initialize infinite keywords\n",
    "\t# Call grid layout constructor\n",
    "\tdef __init__(self, **kwargs):\n",
    "\t\tsuper(MyGridLayout, self).__init__(**kwargs)\n",
    "\n",
    "\t\t# Set columns\n",
    "\t\tself.cols=2\n",
    "\n",
    "\t\t# Add widgets\n",
    "\t\tself.add_widget(Label(text=\"Name\"))\n",
    "\t\t# Add Input Box\n",
    "\t\tself.name = TextInput(multiline=True)\n",
    "\t\tself.add_widget(self.name)\n",
    "\n",
    "\t\tself.add_widget(Label(text=\"Favorite Pizza\"))\n",
    "\t\tself.pizza = TextInput(multiline=True)\n",
    "\t\tself.add_widget(self.pizza)\n",
    "\n",
    "\t\tself.add_widget(Label(text=\"Favorite Color\"))\n",
    "\t\tself.color = TextInput(multiline=True)\n",
    "\t\tself.add_widget(self.color)\n",
    "\n",
    "\t\t# Create a Submit Button\n",
    "\t\tself.submit = Button(text=\"Submit\", font_size=32)\n",
    "\t\t# Bind the button\n",
    "\t\tself.submit.bind(on_press=self.press)\n",
    "\t\tself.add_widget(self.submit)\n",
    "\n",
    "\tdef press(self, instance):\n",
    "\t\tname = self.name.text\n",
    "\t\tpizza = self.pizza.text\n",
    "\t\tcolor = self.color.text\n",
    "\n",
    "\t\t# print(f'Hello {name}, you like {pizza}, and your favorite color is {color}') \n",
    "\t\t# Print it ot the scren\n",
    "\t\tself.add_widget(Label(text=f'Hello {name}, you like {pizza}, and your favorite color is {color}'))\n",
    "\n",
    "class MyApp(App):\n",
    "\tdef build(self):\n",
    "\t\treturn MyGridLayout()\n",
    "\n",
    "if __name__ == '__main__':\n",
    "\tMyApp().run()\n"
   ]
  },
  {
   "cell_type": "markdown",
   "metadata": {},
   "source": [
    "### Button Column Span Trick! - Python Kivy GUI Tutorial #3"
   ]
  },
  {
   "cell_type": "markdown",
   "metadata": {},
   "source": [
    "- Grid 裡面再放 Grid, 做排版如下:"
   ]
  },
  {
   "cell_type": "markdown",
   "metadata": {},
   "source": [
    "![](./images/7_grid_in_grid.png)"
   ]
  },
  {
   "cell_type": "markdown",
   "metadata": {},
   "source": [
    "- codes (檔案名稱為 input2.py)"
   ]
  },
  {
   "cell_type": "code",
   "execution_count": null,
   "metadata": {},
   "outputs": [],
   "source": [
    "import kivy\n",
    "from kivy.app import App\n",
    "from kivy.uix.label import Label\n",
    "from kivy.uix.gridlayout import GridLayout\n",
    "from kivy.uix.textinput import TextInput\n",
    "from kivy.uix.button import Button\n",
    "\n",
    "class MyGridLayout(GridLayout):\n",
    "\t# Initialize infinite keywords\n",
    "\t# Call grid layout constructor\n",
    "\tdef __init__(self, **kwargs):\n",
    "\t\tsuper(MyGridLayout, self).__init__(**kwargs)\n",
    "\n",
    "\t\t# Set columns\n",
    "\t\tself.cols=1\n",
    "\n",
    "\t\t# Create a second gridlayout\n",
    "\t\tself.top_grid = GridLayout()\n",
    "\t\tself.top_grid.cols=2\n",
    "\n",
    "\t\t# Add widgets\n",
    "\t\tself.top_grid.add_widget(Label(text=\"Name\"))\n",
    "\t\t# Add Input Box\n",
    "\t\tself.name = TextInput(multiline=True)\n",
    "\t\tself.top_grid.add_widget(self.name)\n",
    "\n",
    "\t\tself.top_grid.add_widget(Label(text=\"Favorite Pizza\"))\n",
    "\t\tself.pizza = TextInput(multiline=True)\n",
    "\t\tself.top_grid.add_widget(self.pizza)\n",
    "\n",
    "\t\tself.top_grid.add_widget(Label(text=\"Favorite Color\"))\n",
    "\t\tself.color = TextInput(multiline=True)\n",
    "\t\tself.top_grid.add_widget(self.color)\n",
    "\n",
    "\t\t# Add the new top_grid to our app\n",
    "\t\tself.add_widget(self.top_grid)\n",
    "\n",
    "\t\t# Create a Submit Button\n",
    "\t\tself.submit = Button(text=\"Submit\", font_size=32)\n",
    "\t\t# Bind the button\n",
    "\t\tself.submit.bind(on_press=self.press)\n",
    "\t\tself.add_widget(self.submit)\n",
    "\n",
    "\tdef press(self, instance):\n",
    "\t\tname = self.name.text\n",
    "\t\tpizza = self.pizza.text\n",
    "\t\tcolor = self.color.text\n",
    "\n",
    "\t\tself.name.text = \"\"\n",
    "\t\tself.pizza.text = \"\"\n",
    "\t\tself.color.text = \"\"\n",
    "\n",
    "\t\t# print(f'Hello {name}, you like {pizza}, and your favorite color is {color}') \n",
    "\t\t# Print it ot the scren\n",
    "\t\tself.add_widget(Label(text=f'Hello {name}, you like {pizza}, and your favorite color is {color}'))\n",
    "\n",
    "class MyApp(App):\n",
    "\tdef build(self):\n",
    "\t\treturn MyGridLayout()\n",
    "\n",
    "if __name__ == '__main__':\n",
    "\tMyApp().run()\n"
   ]
  },
  {
   "cell_type": "markdown",
   "metadata": {},
   "source": [
    "### How To Set The Height And Width of Widgets - Python Kivy GUI Tutorial #4"
   ]
  },
  {
   "cell_type": "markdown",
   "metadata": {},
   "source": [
    "- 可以在各別的 widget 中設定 height and width，類似如下:"
   ]
  },
  {
   "cell_type": "markdown",
   "metadata": {},
   "source": [
    "![](./images/10_height_and_width_button.png)"
   ]
  },
  {
   "cell_type": "markdown",
   "metadata": {},
   "source": [
    "- 如果要設定 grid 裡面每個 widget 進來時都有預設的 height 及 width，可以設如下"
   ]
  },
  {
   "cell_type": "markdown",
   "metadata": {},
   "source": [
    "![](./images/11_default_height_and_width.png)"
   ]
  },
  {
   "cell_type": "markdown",
   "metadata": {},
   "source": [
    "- codes(檔案為 height-width.py)"
   ]
  },
  {
   "cell_type": "code",
   "execution_count": null,
   "metadata": {},
   "outputs": [],
   "source": [
    "import kivy\n",
    "from kivy.app import App\n",
    "from kivy.uix.label import Label\n",
    "from kivy.uix.gridlayout import GridLayout\n",
    "from kivy.uix.textinput import TextInput\n",
    "from kivy.uix.button import Button\n",
    "\n",
    "class MyGridLayout(GridLayout):\n",
    "\t# Initialize infinite keywords\n",
    "\t# Call grid layout constructor\n",
    "\tdef __init__(self, **kwargs):\n",
    "\t\tsuper(MyGridLayout, self).__init__(**kwargs)\n",
    "\n",
    "\t\t# Set columns\n",
    "\t\t# Set MyGridLayout default height and width\n",
    "\t\tself.cols=1\n",
    "\t\tself.row_force_default=True\n",
    "\t\tself.row_default_height=120\n",
    "\t\tself.col_force_default=True\n",
    "\t\tself.col_default_width=100\n",
    "\n",
    "\t\t# Create a second gridlayout\n",
    "\t\t# Set top_grid default height and width\n",
    "\t\tself.top_grid = GridLayout(\n",
    "\t\t\trow_force_default=True,\n",
    "\t\t\trow_default_height=40,\n",
    "\t\t\tcol_force_default=True,\n",
    "\t\t\tcol_default_width=100)\n",
    "\n",
    "\t\tself.top_grid.cols=2\n",
    "\n",
    "\t\t# Add widgets\n",
    "\t\tself.top_grid.add_widget(Label(text=\"Name\"))\n",
    "\t\t# Add Input Box\n",
    "\t\tself.name = TextInput(multiline=True)\n",
    "\t\tself.top_grid.add_widget(self.name)\n",
    "\n",
    "\t\tself.top_grid.add_widget(Label(text=\"Favorite Pizza\"))\n",
    "\t\tself.pizza = TextInput(multiline=True)\n",
    "\t\tself.top_grid.add_widget(self.pizza)\n",
    "\n",
    "\t\tself.top_grid.add_widget(Label(text=\"Favorite Color\"))\n",
    "\t\tself.color = TextInput(multiline=True)\n",
    "\t\tself.top_grid.add_widget(self.color)\n",
    "\n",
    "\t\t# Add the new top_grid to our app\n",
    "\t\tself.add_widget(self.top_grid)\n",
    "\n",
    "\t\t# Create a Submit Button\n",
    "\t\t# Explicit set height and width\n",
    "\t\tself.submit = Button(text=\"Submit\", \n",
    "\t\t\tfont_size=32,\n",
    "\t\t\tsize_hint_y=None,\n",
    "\t\t\theight=50,\n",
    "\t\t\tsize_hint_x=None,\n",
    "\t\t\twidth=200)\n",
    "\n",
    "\t\t# Bind the button\n",
    "\t\tself.submit.bind(on_press=self.press)\n",
    "\t\tself.add_widget(self.submit)\n",
    "\n",
    "\tdef press(self, instance):\n",
    "\t\tname = self.name.text\n",
    "\t\tpizza = self.pizza.text\n",
    "\t\tcolor = self.color.text\n",
    "\n",
    "\t\tself.name.text = \"\"\n",
    "\t\tself.pizza.text = \"\"\n",
    "\t\tself.color.text = \"\"\n",
    "\n",
    "\t\t# print(f'Hello {name}, you like {pizza}, and your favorite color is {color}') \n",
    "\t\t# Print it ot the scren\n",
    "\t\tself.add_widget(Label(text=f'Hello {name}, you like {pizza}, and your favorite color is {color}'))\n",
    "\n",
    "class MyApp(App):\n",
    "\tdef build(self):\n",
    "\t\treturn MyGridLayout()\n",
    "\n",
    "if __name__ == '__main__':\n",
    "\tMyApp().run()"
   ]
  },
  {
   "cell_type": "markdown",
   "metadata": {},
   "source": [
    "### Kivy Design Language - Python Kivy GUI Tutorial #5"
   ]
  },
  {
   "cell_type": "markdown",
   "metadata": {},
   "source": [
    "- 需要另外串一個檔案名稱為 my.kv，要注意的是如果 class 名稱有 \"APP\" 字眼會報錯，故要去除 => 此範例名稱為 my.kv"
   ]
  },
  {
   "cell_type": "markdown",
   "metadata": {},
   "source": [
    "![](./images/12_kv.png)"
   ]
  },
  {
   "cell_type": "code",
   "execution_count": null,
   "metadata": {},
   "outputs": [],
   "source": [
    "<MyGridLayout>\n",
    "\n",
    "\tname:name\n",
    "\tpizza:pizza\n",
    "\tcolor:color\n",
    "\n",
    "\tGridLayout:\n",
    "\t\tcols:1\n",
    "\t\tsize: root.width, root.height\n",
    "\t\tGridLayout:\n",
    "\t\t\tcols:2\n",
    "\n",
    "\t\t\tLabel:\n",
    "\t\t\t\ttext: 'Name'\n",
    "\t\t\tTextInput:\n",
    "\t\t\t\tid: name\n",
    "\t\t\t\tmultiline: False\n",
    "\n",
    "\t\t\tLabel:\n",
    "\t\t\t\ttext: 'Favorite Pizza'\n",
    "\t\t\tTextInput:\n",
    "\t\t\t\tid: pizza\n",
    "\t\t\t\tmultiline: False\n",
    "\n",
    "\t\t\tLabel:\n",
    "\t\t\t\ttext: 'Favotite Color'\n",
    "\t\t\tTextInput:\n",
    "\t\t\t\tid: color\n",
    "\t\t\t\tmultiline: False\n",
    "\n",
    "\t\tButton:\n",
    "\t\t\ttext: \"Submit\"\n",
    "\t\t\tfont_size:32\n",
    "\t\t\ton_press: root.press()"
   ]
  },
  {
   "cell_type": "markdown",
   "metadata": {},
   "source": [
    "- codes(檔案名稱為 design.py)"
   ]
  },
  {
   "cell_type": "markdown",
   "metadata": {},
   "source": [
    "![](./images/13_design.png)"
   ]
  },
  {
   "cell_type": "code",
   "execution_count": null,
   "metadata": {},
   "outputs": [],
   "source": [
    "import kivy\n",
    "from kivy.app import App\n",
    "from kivy.uix.label import Label\n",
    "from kivy.uix.gridlayout import GridLayout\n",
    "from kivy.uix.textinput import TextInput\n",
    "from kivy.uix.button import Button\n",
    "from kivy.uix.widget import Widget\n",
    "from kivy.properties import ObjectProperty\n",
    "\n",
    "class MyGridLayout(Widget):\n",
    "\n",
    "\tname = ObjectProperty(None)\n",
    "\tpizza = ObjectProperty(None)\n",
    "\tcolor = ObjectProperty(None)\n",
    "\t\n",
    "\tdef press(self):\n",
    "\t\tname = self.name.text\n",
    "\t\tpizza = self.pizza.text\n",
    "\t\tcolor = self.color.text\n",
    "\n",
    "\t\tself.name.text = \"\"\n",
    "\t\tself.pizza.text = \"\"\n",
    "\t\tself.color.text = \"\"\n",
    "\n",
    "\t\tprint(f'Hello {name}, you like {pizza}, and your favorite color is {color}') \n",
    "\t\t# Print it ot the scren\n",
    "\t\t# self.add_widget(Label(text=f'Hello {name}, you like {pizza}, and your favorite color is {color}'))\n",
    "\n",
    "class MyApp(App):\n",
    "\tdef build(self):\n",
    "\t\treturn MyGridLayout()\n",
    "\n",
    "if __name__ == '__main__':\n",
    "\tMyApp().run()\n"
   ]
  },
  {
   "cell_type": "markdown",
   "metadata": {},
   "source": [
    "### The Kivy Builder - Python Kivy GUI Tutorial #6"
   ]
  },
  {
   "cell_type": "code",
   "execution_count": null,
   "metadata": {},
   "outputs": [],
   "source": []
  },
  {
   "cell_type": "code",
   "execution_count": null,
   "metadata": {},
   "outputs": [],
   "source": []
  },
  {
   "cell_type": "code",
   "execution_count": null,
   "metadata": {},
   "outputs": [],
   "source": []
  },
  {
   "cell_type": "code",
   "execution_count": null,
   "metadata": {},
   "outputs": [],
   "source": []
  },
  {
   "cell_type": "code",
   "execution_count": null,
   "metadata": {},
   "outputs": [],
   "source": []
  },
  {
   "cell_type": "code",
   "execution_count": null,
   "metadata": {},
   "outputs": [],
   "source": []
  },
  {
   "cell_type": "code",
   "execution_count": null,
   "metadata": {},
   "outputs": [],
   "source": []
  },
  {
   "cell_type": "code",
   "execution_count": null,
   "metadata": {},
   "outputs": [],
   "source": []
  },
  {
   "cell_type": "code",
   "execution_count": null,
   "metadata": {},
   "outputs": [],
   "source": []
  },
  {
   "cell_type": "code",
   "execution_count": null,
   "metadata": {},
   "outputs": [],
   "source": []
  },
  {
   "cell_type": "code",
   "execution_count": null,
   "metadata": {},
   "outputs": [],
   "source": []
  },
  {
   "cell_type": "code",
   "execution_count": null,
   "metadata": {},
   "outputs": [],
   "source": []
  },
  {
   "cell_type": "code",
   "execution_count": null,
   "metadata": {},
   "outputs": [],
   "source": []
  },
  {
   "cell_type": "code",
   "execution_count": null,
   "metadata": {},
   "outputs": [],
   "source": []
  },
  {
   "cell_type": "code",
   "execution_count": null,
   "metadata": {},
   "outputs": [],
   "source": []
  },
  {
   "cell_type": "code",
   "execution_count": null,
   "metadata": {},
   "outputs": [],
   "source": []
  },
  {
   "cell_type": "code",
   "execution_count": null,
   "metadata": {},
   "outputs": [],
   "source": []
  },
  {
   "cell_type": "code",
   "execution_count": null,
   "metadata": {},
   "outputs": [],
   "source": []
  },
  {
   "cell_type": "code",
   "execution_count": null,
   "metadata": {},
   "outputs": [],
   "source": []
  },
  {
   "cell_type": "code",
   "execution_count": null,
   "metadata": {},
   "outputs": [],
   "source": []
  },
  {
   "cell_type": "code",
   "execution_count": null,
   "metadata": {},
   "outputs": [],
   "source": []
  },
  {
   "cell_type": "code",
   "execution_count": null,
   "metadata": {},
   "outputs": [],
   "source": []
  },
  {
   "cell_type": "code",
   "execution_count": null,
   "metadata": {},
   "outputs": [],
   "source": []
  },
  {
   "cell_type": "code",
   "execution_count": null,
   "metadata": {},
   "outputs": [],
   "source": []
  },
  {
   "cell_type": "code",
   "execution_count": null,
   "metadata": {},
   "outputs": [],
   "source": []
  },
  {
   "cell_type": "code",
   "execution_count": null,
   "metadata": {},
   "outputs": [],
   "source": []
  },
  {
   "cell_type": "code",
   "execution_count": null,
   "metadata": {},
   "outputs": [],
   "source": []
  },
  {
   "cell_type": "code",
   "execution_count": null,
   "metadata": {},
   "outputs": [],
   "source": []
  },
  {
   "cell_type": "code",
   "execution_count": null,
   "metadata": {},
   "outputs": [],
   "source": []
  },
  {
   "cell_type": "code",
   "execution_count": null,
   "metadata": {},
   "outputs": [],
   "source": []
  },
  {
   "cell_type": "code",
   "execution_count": null,
   "metadata": {},
   "outputs": [],
   "source": []
  },
  {
   "cell_type": "code",
   "execution_count": null,
   "metadata": {},
   "outputs": [],
   "source": []
  },
  {
   "cell_type": "code",
   "execution_count": null,
   "metadata": {},
   "outputs": [],
   "source": []
  },
  {
   "cell_type": "code",
   "execution_count": null,
   "metadata": {},
   "outputs": [],
   "source": []
  },
  {
   "cell_type": "code",
   "execution_count": null,
   "metadata": {},
   "outputs": [],
   "source": []
  },
  {
   "cell_type": "code",
   "execution_count": null,
   "metadata": {},
   "outputs": [],
   "source": []
  },
  {
   "cell_type": "code",
   "execution_count": null,
   "metadata": {},
   "outputs": [],
   "source": []
  },
  {
   "cell_type": "code",
   "execution_count": null,
   "metadata": {},
   "outputs": [],
   "source": []
  },
  {
   "cell_type": "code",
   "execution_count": null,
   "metadata": {},
   "outputs": [],
   "source": []
  },
  {
   "cell_type": "code",
   "execution_count": null,
   "metadata": {},
   "outputs": [],
   "source": []
  },
  {
   "cell_type": "code",
   "execution_count": null,
   "metadata": {},
   "outputs": [],
   "source": []
  },
  {
   "cell_type": "code",
   "execution_count": null,
   "metadata": {},
   "outputs": [],
   "source": []
  },
  {
   "cell_type": "code",
   "execution_count": null,
   "metadata": {},
   "outputs": [],
   "source": []
  },
  {
   "cell_type": "code",
   "execution_count": null,
   "metadata": {},
   "outputs": [],
   "source": []
  },
  {
   "cell_type": "code",
   "execution_count": null,
   "metadata": {},
   "outputs": [],
   "source": []
  },
  {
   "cell_type": "code",
   "execution_count": null,
   "metadata": {},
   "outputs": [],
   "source": []
  },
  {
   "cell_type": "code",
   "execution_count": null,
   "metadata": {},
   "outputs": [],
   "source": []
  },
  {
   "cell_type": "code",
   "execution_count": null,
   "metadata": {},
   "outputs": [],
   "source": []
  },
  {
   "cell_type": "code",
   "execution_count": null,
   "metadata": {},
   "outputs": [],
   "source": []
  },
  {
   "cell_type": "code",
   "execution_count": null,
   "metadata": {},
   "outputs": [],
   "source": []
  },
  {
   "cell_type": "code",
   "execution_count": null,
   "metadata": {},
   "outputs": [],
   "source": []
  },
  {
   "cell_type": "code",
   "execution_count": null,
   "metadata": {},
   "outputs": [],
   "source": []
  },
  {
   "cell_type": "code",
   "execution_count": null,
   "metadata": {},
   "outputs": [],
   "source": []
  },
  {
   "cell_type": "code",
   "execution_count": null,
   "metadata": {},
   "outputs": [],
   "source": []
  },
  {
   "cell_type": "code",
   "execution_count": null,
   "metadata": {},
   "outputs": [],
   "source": []
  },
  {
   "cell_type": "code",
   "execution_count": null,
   "metadata": {},
   "outputs": [],
   "source": []
  },
  {
   "cell_type": "code",
   "execution_count": null,
   "metadata": {},
   "outputs": [],
   "source": []
  },
  {
   "cell_type": "code",
   "execution_count": null,
   "metadata": {},
   "outputs": [],
   "source": []
  },
  {
   "cell_type": "code",
   "execution_count": null,
   "metadata": {},
   "outputs": [],
   "source": []
  },
  {
   "cell_type": "code",
   "execution_count": null,
   "metadata": {},
   "outputs": [],
   "source": []
  },
  {
   "cell_type": "code",
   "execution_count": null,
   "metadata": {},
   "outputs": [],
   "source": []
  },
  {
   "cell_type": "code",
   "execution_count": null,
   "metadata": {},
   "outputs": [],
   "source": []
  },
  {
   "cell_type": "code",
   "execution_count": null,
   "metadata": {},
   "outputs": [],
   "source": []
  },
  {
   "cell_type": "code",
   "execution_count": null,
   "metadata": {},
   "outputs": [],
   "source": []
  },
  {
   "cell_type": "code",
   "execution_count": null,
   "metadata": {},
   "outputs": [],
   "source": []
  },
  {
   "cell_type": "code",
   "execution_count": null,
   "metadata": {},
   "outputs": [],
   "source": []
  },
  {
   "cell_type": "code",
   "execution_count": null,
   "metadata": {},
   "outputs": [],
   "source": []
  },
  {
   "cell_type": "code",
   "execution_count": null,
   "metadata": {},
   "outputs": [],
   "source": []
  },
  {
   "cell_type": "code",
   "execution_count": null,
   "metadata": {},
   "outputs": [],
   "source": []
  },
  {
   "cell_type": "code",
   "execution_count": null,
   "metadata": {},
   "outputs": [],
   "source": []
  },
  {
   "cell_type": "code",
   "execution_count": null,
   "metadata": {},
   "outputs": [],
   "source": []
  },
  {
   "cell_type": "code",
   "execution_count": null,
   "metadata": {},
   "outputs": [],
   "source": []
  },
  {
   "cell_type": "code",
   "execution_count": null,
   "metadata": {},
   "outputs": [],
   "source": []
  },
  {
   "cell_type": "code",
   "execution_count": null,
   "metadata": {},
   "outputs": [],
   "source": []
  },
  {
   "cell_type": "code",
   "execution_count": null,
   "metadata": {},
   "outputs": [],
   "source": []
  },
  {
   "cell_type": "code",
   "execution_count": null,
   "metadata": {},
   "outputs": [],
   "source": []
  },
  {
   "cell_type": "code",
   "execution_count": null,
   "metadata": {},
   "outputs": [],
   "source": []
  },
  {
   "cell_type": "code",
   "execution_count": null,
   "metadata": {},
   "outputs": [],
   "source": []
  },
  {
   "cell_type": "code",
   "execution_count": null,
   "metadata": {},
   "outputs": [],
   "source": []
  },
  {
   "cell_type": "code",
   "execution_count": null,
   "metadata": {},
   "outputs": [],
   "source": []
  },
  {
   "cell_type": "code",
   "execution_count": null,
   "metadata": {},
   "outputs": [],
   "source": []
  }
 ],
 "metadata": {
  "kernelspec": {
   "display_name": "Python 3",
   "language": "python",
   "name": "python3"
  },
  "language_info": {
   "codemirror_mode": {
    "name": "ipython",
    "version": 3
   },
   "file_extension": ".py",
   "mimetype": "text/x-python",
   "name": "python",
   "nbconvert_exporter": "python",
   "pygments_lexer": "ipython3",
   "version": "3.7.4"
  }
 },
 "nbformat": 4,
 "nbformat_minor": 2
}
